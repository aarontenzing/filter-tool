{
 "cells": [
  {
   "cell_type": "markdown",
   "metadata": {},
   "source": [
    "source: https://www.kaggle.com/code/robikscube/train-your-first-pytorch-model-card-classifier#Bonus:-Evaluating-the-Results"
   ]
  },
  {
   "cell_type": "code",
   "execution_count": 1,
   "metadata": {},
   "outputs": [],
   "source": [
    "# Pytorch\n",
    "import torch\n",
    "from torch import nn\n",
    "from torchvision.models import resnet18, ResNet18_Weights\n",
    "from torch.utils.data import Dataset, DataLoader\n",
    "\n",
    "# Torchvision: make working with image files easier\n",
    "import torchvision.transforms as transforms\n",
    "from torchvision.datasets import ImageFolder\n",
    "\n",
    "# progress bar\n",
    "from tqdm import tqdm \n",
    "\n",
    "# optimizer\n",
    "import torch.optim as optim\n",
    "\n",
    "# scikit-learn\n",
    "from sklearn.metrics import accuracy_score\n",
    "import numpy as np\n",
    "\n",
    "import matplotlib.pyplot as plt\n",
    "from PIL import Image"
   ]
  },
  {
   "cell_type": "code",
   "execution_count": 2,
   "metadata": {},
   "outputs": [],
   "source": [
    "class SyntheticDataClassifier(nn.Module):\n",
    "    def __init__(self, num_classes=2, weights='DEFAULT'):\n",
    "        super(SyntheticDataClassifier, self).__init__()\n",
    "        self.model = resnet18(weights=weights)\n",
    "        num_ftrs = self.model.fc.in_features\n",
    "        self.model.fc = nn.Linear(num_ftrs, num_classes)  # Modify the last fully connected layer\n",
    "    \n",
    "    def forward(self, x):\n",
    "        return self.model(x)"
   ]
  },
  {
   "cell_type": "code",
   "execution_count": 3,
   "metadata": {},
   "outputs": [],
   "source": [
    "class SyntheticDataset(Dataset):\n",
    "    def __init__(self, data_dir, transform=None):\n",
    "        self.data = ImageFolder(data_dir, transform=transform) # ImageFolder automatically assigns labels based on folder structure\n",
    "        \n",
    "    def __len__(self):\n",
    "        return len(self.data)\n",
    "\n",
    "    def __getitem__(self, idx):\n",
    "        return self.data[idx]\n",
    "    \n",
    "    @property\n",
    "    def classes(self):\n",
    "        return self.data.classes # returns dataset classes from ImageFolder"
   ]
  },
  {
   "cell_type": "code",
   "execution_count": 4,
   "metadata": {},
   "outputs": [
    {
     "name": "stdout",
     "output_type": "stream",
     "text": [
      "ImageClassification(\n",
      "    crop_size=[224]\n",
      "    resize_size=[256]\n",
      "    mean=[0.485, 0.456, 0.406]\n",
      "    std=[0.229, 0.224, 0.225]\n",
      "    interpolation=InterpolationMode.BILINEAR\n",
      ")\n"
     ]
    }
   ],
   "source": [
    "#  Select device\n",
    "device = torch.device('cuda' if torch.cuda.is_available() else 'cpu')\n",
    "\n",
    "# Define the transformation operation that suits resnet18\n",
    "weights = ResNet18_Weights.DEFAULT\n",
    "transform_operation = weights.transforms()\n",
    "print(transform_operation)"
   ]
  },
  {
   "cell_type": "code",
   "execution_count": 5,
   "metadata": {},
   "outputs": [
    {
     "name": "stdout",
     "output_type": "stream",
     "text": [
      "Train dataset size: 969\n",
      "Validation dataset size: 203\n",
      "Test dataset size: 111\n"
     ]
    }
   ],
   "source": [
    "# # Define data augmentation transformations\n",
    "# resnet_default = transform_operation\n",
    "# data_augmentation = transforms.Compose([\n",
    "#     transforms.RandomHorizontalFlip(),  # Randomly flip the image horizontally\n",
    "#     transforms.RandomRotation(degrees=15),  # Randomly rotate the image within ±15 degrees\n",
    "#     transforms.ColorJitter(brightness=0.2, contrast=0.2, saturation=0.2, hue=0.1),  # Adjust brightness, contrast, saturation, and hue\n",
    "# ])\n",
    "\n",
    "# # Combine data augmentation and transformation suitable for ResNet18\n",
    "# transform_operation = transforms.Compose([\n",
    "#     data_augmentation,\n",
    "#     resnet_default\n",
    "# ])\n",
    "\n",
    "# Create a dataset object\n",
    "train_dataset = SyntheticDataset(data_dir='dataset\\\\train', transform=transform_operation)\n",
    "test_dataset = SyntheticDataset(data_dir='dataset\\\\test', transform=transform_operation)\n",
    "val_dataset = SyntheticDataset(data_dir='dataset\\\\val', transform=transform_operation)\n",
    "\n",
    "# Create a DataLoader object for training - faster training in batches\n",
    "train_loader = DataLoader(train_dataset, batch_size=32, shuffle=True) \n",
    "test_loader = DataLoader(test_dataset, batch_size=32, shuffle=False)\n",
    "val_loader = DataLoader(val_dataset, batch_size=32, shuffle=False)\n",
    "\n",
    "# size of the training dataset\n",
    "print(\"Train dataset size:\", len(train_dataset))\n",
    "print(\"Validation dataset size:\", len(val_dataset))\n",
    "print(\"Test dataset size:\", len(test_dataset))"
   ]
  },
  {
   "cell_type": "code",
   "execution_count": 6,
   "metadata": {},
   "outputs": [
    {
     "name": "stdout",
     "output_type": "stream",
     "text": [
      "{0: 'bad', 1: 'good'}\n"
     ]
    }
   ],
   "source": [
    "# Get a dictionary associating target values with folder names\n",
    "data_dir = 'dataset\\\\train'\n",
    "target_to_class = {v: k for k, v in ImageFolder(data_dir).class_to_idx.items()}\n",
    "print(target_to_class)"
   ]
  },
  {
   "cell_type": "code",
   "execution_count": 7,
   "metadata": {},
   "outputs": [],
   "source": [
    "model = SyntheticDataClassifier(num_classes=2, weights=weights).to(device)  "
   ]
  },
  {
   "cell_type": "markdown",
   "metadata": {},
   "source": [
    "# Training (already done)"
   ]
  },
  {
   "cell_type": "code",
   "execution_count": 16,
   "metadata": {},
   "outputs": [
    {
     "name": "stderr",
     "output_type": "stream",
     "text": [
      "Training loop: 100%|██████████| 31/31 [00:13<00:00,  2.29it/s]\n",
      "Validation loop: 100%|██████████| 7/7 [00:01<00:00,  4.12it/s]\n"
     ]
    },
    {
     "name": "stdout",
     "output_type": "stream",
     "text": [
      "Epoch 1/20 - Train loss: 0.754126623626587, Validation loss: 0.7282258316213861\n",
      "Epoch 1/20 - Train accuracy: 0.4809081527347781, Validation accuracy: 0.5073891625615764\n"
     ]
    },
    {
     "name": "stderr",
     "output_type": "stream",
     "text": [
      "Training loop: 100%|██████████| 31/31 [00:12<00:00,  2.54it/s]\n",
      "Validation loop: 100%|██████████| 7/7 [00:01<00:00,  4.51it/s]\n"
     ]
    },
    {
     "name": "stdout",
     "output_type": "stream",
     "text": [
      "Epoch 2/20 - Train loss: 0.6655431426100441, Validation loss: 0.691057055454536\n",
      "Epoch 2/20 - Train accuracy: 0.6212590299277606, Validation accuracy: 0.5911330049261084\n"
     ]
    },
    {
     "name": "stderr",
     "output_type": "stream",
     "text": [
      "Training loop: 100%|██████████| 31/31 [00:10<00:00,  2.82it/s]\n",
      "Validation loop: 100%|██████████| 7/7 [00:01<00:00,  4.22it/s]\n"
     ]
    },
    {
     "name": "stdout",
     "output_type": "stream",
     "text": [
      "Epoch 3/20 - Train loss: 0.6018881527139922, Validation loss: 0.6568854087092019\n",
      "Epoch 3/20 - Train accuracy: 0.6893704850361198, Validation accuracy: 0.645320197044335\n"
     ]
    },
    {
     "name": "stderr",
     "output_type": "stream",
     "text": [
      "Training loop: 100%|██████████| 31/31 [00:11<00:00,  2.69it/s]\n",
      "Validation loop: 100%|██████████| 7/7 [00:01<00:00,  3.59it/s]\n"
     ]
    },
    {
     "name": "stdout",
     "output_type": "stream",
     "text": [
      "Epoch 4/20 - Train loss: 0.5558438662774053, Validation loss: 0.6401520209946656\n",
      "Epoch 4/20 - Train accuracy: 0.7523219814241486, Validation accuracy: 0.6600985221674877\n"
     ]
    },
    {
     "name": "stderr",
     "output_type": "stream",
     "text": [
      "Training loop: 100%|██████████| 31/31 [00:14<00:00,  2.18it/s]\n",
      "Validation loop: 100%|██████████| 7/7 [00:01<00:00,  4.00it/s]\n"
     ]
    },
    {
     "name": "stdout",
     "output_type": "stream",
     "text": [
      "Epoch 5/20 - Train loss: 0.5121837868533021, Validation loss: 0.6291946360630355\n",
      "Epoch 5/20 - Train accuracy: 0.7843137254901961, Validation accuracy: 0.6600985221674877\n"
     ]
    },
    {
     "name": "stderr",
     "output_type": "stream",
     "text": [
      "Training loop: 100%|██████████| 31/31 [00:11<00:00,  2.72it/s]\n",
      "Validation loop: 100%|██████████| 7/7 [00:01<00:00,  4.01it/s]\n"
     ]
    },
    {
     "name": "stdout",
     "output_type": "stream",
     "text": [
      "Epoch 6/20 - Train loss: 0.4785697831396471, Validation loss: 0.6166217385841708\n",
      "Epoch 6/20 - Train accuracy: 0.8224974200206399, Validation accuracy: 0.6600985221674877\n"
     ]
    },
    {
     "name": "stderr",
     "output_type": "stream",
     "text": [
      "Training loop: 100%|██████████| 31/31 [00:12<00:00,  2.58it/s]\n",
      "Validation loop: 100%|██████████| 7/7 [00:01<00:00,  4.26it/s]\n"
     ]
    },
    {
     "name": "stdout",
     "output_type": "stream",
     "text": [
      "Epoch 7/20 - Train loss: 0.437319533682214, Validation loss: 0.6070015075171522\n",
      "Epoch 7/20 - Train accuracy: 0.8586171310629515, Validation accuracy: 0.6699507389162561\n"
     ]
    },
    {
     "name": "stderr",
     "output_type": "stream",
     "text": [
      "Training loop: 100%|██████████| 31/31 [00:12<00:00,  2.53it/s]\n",
      "Validation loop: 100%|██████████| 7/7 [00:01<00:00,  4.21it/s]\n"
     ]
    },
    {
     "name": "stdout",
     "output_type": "stream",
     "text": [
      "Epoch 8/20 - Train loss: 0.40419956432776555, Validation loss: 0.602143745557428\n",
      "Epoch 8/20 - Train accuracy: 0.8988648090815273, Validation accuracy: 0.6551724137931034\n"
     ]
    },
    {
     "name": "stderr",
     "output_type": "stream",
     "text": [
      "Training loop: 100%|██████████| 31/31 [00:12<00:00,  2.57it/s]\n",
      "Validation loop: 100%|██████████| 7/7 [00:01<00:00,  3.96it/s]\n"
     ]
    },
    {
     "name": "stdout",
     "output_type": "stream",
     "text": [
      "Epoch 9/20 - Train loss: 0.3806256766597307, Validation loss: 0.5892850661219047\n",
      "Epoch 9/20 - Train accuracy: 0.9091847265221878, Validation accuracy: 0.6699507389162561\n"
     ]
    },
    {
     "name": "stderr",
     "output_type": "stream",
     "text": [
      "Training loop: 100%|██████████| 31/31 [00:11<00:00,  2.68it/s]\n",
      "Validation loop: 100%|██████████| 7/7 [00:01<00:00,  4.12it/s]\n"
     ]
    },
    {
     "name": "stdout",
     "output_type": "stream",
     "text": [
      "Epoch 10/20 - Train loss: 0.35117261912923603, Validation loss: 0.5846176366207048\n",
      "Epoch 10/20 - Train accuracy: 0.9195046439628483, Validation accuracy: 0.6748768472906403\n"
     ]
    },
    {
     "name": "stderr",
     "output_type": "stream",
     "text": [
      "Training loop: 100%|██████████| 31/31 [00:11<00:00,  2.66it/s]\n",
      "Validation loop: 100%|██████████| 7/7 [00:01<00:00,  4.06it/s]\n"
     ]
    },
    {
     "name": "stdout",
     "output_type": "stream",
     "text": [
      "Epoch 11/20 - Train loss: 0.318448627050447, Validation loss: 0.5870891442439826\n",
      "Epoch 11/20 - Train accuracy: 0.9432404540763674, Validation accuracy: 0.6699507389162561\n"
     ]
    },
    {
     "name": "stderr",
     "output_type": "stream",
     "text": [
      "Training loop: 100%|██████████| 31/31 [00:11<00:00,  2.72it/s]\n",
      "Validation loop: 100%|██████████| 7/7 [00:01<00:00,  3.90it/s]\n"
     ]
    },
    {
     "name": "stdout",
     "output_type": "stream",
     "text": [
      "Epoch 12/20 - Train loss: 0.3026744210621644, Validation loss: 0.5825729318733873\n",
      "Epoch 12/20 - Train accuracy: 0.9484004127966976, Validation accuracy: 0.6896551724137931\n"
     ]
    },
    {
     "name": "stderr",
     "output_type": "stream",
     "text": [
      "Training loop: 100%|██████████| 31/31 [00:11<00:00,  2.70it/s]\n",
      "Validation loop: 100%|██████████| 7/7 [00:01<00:00,  4.01it/s]\n"
     ]
    },
    {
     "name": "stdout",
     "output_type": "stream",
     "text": [
      "Epoch 13/20 - Train loss: 0.27385649380300064, Validation loss: 0.5758785219321697\n",
      "Epoch 13/20 - Train accuracy: 0.9680082559339526, Validation accuracy: 0.6945812807881774\n"
     ]
    },
    {
     "name": "stderr",
     "output_type": "stream",
     "text": [
      "Training loop: 100%|██████████| 31/31 [00:11<00:00,  2.65it/s]\n",
      "Validation loop: 100%|██████████| 7/7 [00:01<00:00,  3.64it/s]\n"
     ]
    },
    {
     "name": "stdout",
     "output_type": "stream",
     "text": [
      "Epoch 14/20 - Train loss: 0.2496046455282914, Validation loss: 0.5814983568755276\n",
      "Epoch 14/20 - Train accuracy: 0.9742002063983488, Validation accuracy: 0.6995073891625616\n"
     ]
    },
    {
     "name": "stderr",
     "output_type": "stream",
     "text": [
      "Training loop: 100%|██████████| 31/31 [00:11<00:00,  2.60it/s]\n",
      "Validation loop: 100%|██████████| 7/7 [00:01<00:00,  3.76it/s]\n"
     ]
    },
    {
     "name": "stdout",
     "output_type": "stream",
     "text": [
      "Epoch 15/20 - Train loss: 0.2403793719100263, Validation loss: 0.5728970773407979\n",
      "Epoch 15/20 - Train accuracy: 0.9731682146542827, Validation accuracy: 0.6896551724137931\n"
     ]
    },
    {
     "name": "stderr",
     "output_type": "stream",
     "text": [
      "Training loop: 100%|██████████| 31/31 [00:12<00:00,  2.54it/s]\n",
      "Validation loop: 100%|██████████| 7/7 [00:01<00:00,  4.10it/s]\n"
     ]
    },
    {
     "name": "stdout",
     "output_type": "stream",
     "text": [
      "Epoch 16/20 - Train loss: 0.21493469718440028, Validation loss: 0.5729817379577994\n",
      "Epoch 16/20 - Train accuracy: 0.9803921568627451, Validation accuracy: 0.6945812807881774\n"
     ]
    },
    {
     "name": "stderr",
     "output_type": "stream",
     "text": [
      "Training loop: 100%|██████████| 31/31 [00:11<00:00,  2.71it/s]\n",
      "Validation loop: 100%|██████████| 7/7 [00:01<00:00,  3.62it/s]\n"
     ]
    },
    {
     "name": "stdout",
     "output_type": "stream",
     "text": [
      "Epoch 17/20 - Train loss: 0.19720791909224725, Validation loss: 0.582849756690669\n",
      "Epoch 17/20 - Train accuracy: 0.9793601651186791, Validation accuracy: 0.6798029556650246\n"
     ]
    },
    {
     "name": "stderr",
     "output_type": "stream",
     "text": [
      "Training loop: 100%|██████████| 31/31 [00:12<00:00,  2.49it/s]\n",
      "Validation loop: 100%|██████████| 7/7 [00:01<00:00,  3.64it/s]\n"
     ]
    },
    {
     "name": "stdout",
     "output_type": "stream",
     "text": [
      "Epoch 18/20 - Train loss: 0.1706855848693011, Validation loss: 0.5769066803267436\n",
      "Epoch 18/20 - Train accuracy: 0.9927760577915377, Validation accuracy: 0.6945812807881774\n"
     ]
    },
    {
     "name": "stderr",
     "output_type": "stream",
     "text": [
      "Training loop: 100%|██████████| 31/31 [00:12<00:00,  2.40it/s]\n",
      "Validation loop: 100%|██████████| 7/7 [00:01<00:00,  4.01it/s]\n"
     ]
    },
    {
     "name": "stdout",
     "output_type": "stream",
     "text": [
      "Epoch 19/20 - Train loss: 0.15591301414558148, Validation loss: 0.5781696322809886\n",
      "Epoch 19/20 - Train accuracy: 0.9907120743034056, Validation accuracy: 0.6945812807881774\n"
     ]
    },
    {
     "name": "stderr",
     "output_type": "stream",
     "text": [
      "Training loop: 100%|██████████| 31/31 [00:12<00:00,  2.48it/s]\n",
      "Validation loop: 100%|██████████| 7/7 [00:01<00:00,  3.54it/s]\n"
     ]
    },
    {
     "name": "stdout",
     "output_type": "stream",
     "text": [
      "Epoch 20/20 - Train loss: 0.14595056607381232, Validation loss: 0.5759756830819135\n",
      "Epoch 20/20 - Train accuracy: 0.9948400412796697, Validation accuracy: 0.7093596059113301\n"
     ]
    }
   ],
   "source": [
    "# Training the model\n",
    "\n",
    "num_epochs = 20\n",
    "train_losses, val_losses = [], []\n",
    "train_accuracies, val_accuracies = [], []\n",
    "\n",
    "model = SyntheticDataClassifier(num_classes=2, weights=weights).to(device)    \n",
    "model.to(device)\n",
    "    \n",
    "criterion = nn.CrossEntropyLoss()\n",
    "criterion = nn.CrossEntropyLoss()\n",
    "optimizer = optim.Adam(model.parameters(), lr=5e-6)\n",
    "\n",
    "for epoch in range(num_epochs):\n",
    "        # Training phase\n",
    "        model.train()\n",
    "        running_loss = 0.0\n",
    "        train_preds, train_labels = [], []\n",
    "        for images, labels in tqdm(train_loader, desc='Training loop'):\n",
    "            # Move inputs and labels to the device\n",
    "            images, labels = images.to(device), labels.to(device)\n",
    "            \n",
    "            optimizer.zero_grad()\n",
    "            outputs = model(images)\n",
    "            loss = criterion(outputs, labels)\n",
    "            loss.backward()\n",
    "            optimizer.step()\n",
    "            running_loss += loss.item() * labels.size(0)\n",
    "            \n",
    "            _, predicted = torch.max(outputs, 1)\n",
    "            train_preds.extend(predicted.cpu().numpy())\n",
    "            train_labels.extend(labels.cpu().numpy())\n",
    "        \n",
    "        train_loss = running_loss / len(train_loader.dataset)\n",
    "        train_losses.append(train_loss)\n",
    "        \n",
    "        train_accuracy = accuracy_score(train_labels, train_preds)\n",
    "        train_accuracies.append(train_accuracy)\n",
    "\n",
    "        \n",
    "        # Validation phase\n",
    "        model.eval()\n",
    "        running_loss = 0.0\n",
    "        val_preds, val_labels = [], []\n",
    "        with torch.no_grad():\n",
    "            for images, labels in tqdm(val_loader, desc='Validation loop'):\n",
    "                # Move inputs and labels to the device\n",
    "                images, labels = images.to(device), labels.to(device)\n",
    "            \n",
    "                outputs = model(images)\n",
    "                loss = criterion(outputs, labels)\n",
    "                running_loss += loss.item() * labels.size(0)\n",
    "                \n",
    "                _, predicted = torch.max(outputs, 1)\n",
    "                val_preds.extend(predicted.cpu().numpy())\n",
    "                val_labels.extend(labels.cpu().numpy())\n",
    "                \n",
    "        val_loss = running_loss / len(val_loader.dataset)\n",
    "        val_losses.append(val_loss)\n",
    "        \n",
    "        val_accuracy = accuracy_score(val_labels, val_preds)\n",
    "        val_accuracies.append(val_accuracy)\n",
    "        \n",
    "        torch.save(model.state_dict(), f'models\\\\model_epoch_{epoch+1}.pth')\n",
    "        \n",
    "        print(f\"Epoch {epoch+1}/{num_epochs} - Train loss: {train_loss}, Validation loss: {val_loss}\")\n",
    "        print(f\"Epoch {epoch+1}/{num_epochs} - Train accuracy: {train_accuracy}, Validation accuracy: {val_accuracy}\")"
   ]
  },
  {
   "cell_type": "code",
   "execution_count": 18,
   "metadata": {},
   "outputs": [
    {
     "data": {
      "image/png": "[encoded data removed]",
      "text/plain": [
       "<Figure size 640x480 with 1 Axes>"
      ]
     },
     "metadata": {},
     "output_type": "display_data"
    }
   ],
   "source": [
    "import matplotlib.pyplot as plt\n",
    "\n",
    "plt.plot(train_losses, label='Training Loss')\n",
    "plt.plot(val_losses, label='Validation loss')\n",
    "plt.plot(train_accuracies, label='Training accuracy')\n",
    "plt.plot(val_accuracies, label='Validation accuracy')\n",
    "plt.legend()\n",
    "plt.title('Loss over epochs')\n",
    "plt.show()"
   ]
  },
  {
   "cell_type": "markdown",
   "metadata": {},
   "source": [
    "# Select the saved model for inference"
   ]
  },
  {
   "cell_type": "code",
   "execution_count": 8,
   "metadata": {},
   "outputs": [
    {
     "data": {
      "text/plain": [
       "<All keys matched successfully>"
      ]
     },
     "execution_count": 8,
     "metadata": {},
     "output_type": "execute_result"
    }
   ],
   "source": [
    "# Load the saved model state dictionary from the .pth file\n",
    "checkpoint_path = 'models\\\\model_epoch_20.pth'  # Adjust the path as per your saved model file\n",
    "checkpoint = torch.load(checkpoint_path)\n",
    "\n",
    "# Load the state dictionary into the model\n",
    "model.load_state_dict(checkpoint)"
   ]
  },
  {
   "cell_type": "code",
   "execution_count": 9,
   "metadata": {},
   "outputs": [
    {
     "name": "stderr",
     "output_type": "stream",
     "text": [
      "100%|██████████| 4/4 [00:02<00:00,  1.99it/s]\n"
     ]
    },
    {
     "name": "stdout",
     "output_type": "stream",
     "text": [
      "Accuracy on the test set: 73.87%\n"
     ]
    }
   ],
   "source": [
    "model.eval() # Set the model to evaluation mode (turns off dropout and batch normalization)\n",
    "\n",
    "# Initialize variables for accuracy calculation\n",
    "correct = 0\n",
    "total = 0\n",
    "\n",
    "# Disable gradient computation\n",
    "with torch.no_grad():\n",
    "    for images, labels in tqdm(test_loader):\n",
    "        # Move images and labels to the device (assuming you're using GPU)\n",
    "        images, labels = images.cuda(), labels.cuda()\n",
    "        \n",
    "        # Forward pass\n",
    "        outputs = model(images)\n",
    "        \n",
    "        # Get predictions\n",
    "        _, predicted = torch.max(outputs.data, 1)\n",
    "        \n",
    "        # Total number of labels\n",
    "        total += labels.size(0)\n",
    "        \n",
    "        # SKLEARN -> precision and accuracy classification report\n",
    "        \n",
    "        # Total correct predictions\n",
    "        correct += (predicted == labels).sum().item()\n",
    "\n",
    "# Calculate accuracy\n",
    "accuracy = 100 * correct / total\n",
    "print('Accuracy on the test set: {:.2f}%'.format(accuracy))"
   ]
  },
  {
   "cell_type": "markdown",
   "metadata": {},
   "source": [
    "# Inference"
   ]
  },
  {
   "cell_type": "code",
   "execution_count": 10,
   "metadata": {},
   "outputs": [],
   "source": [
    "# Load and preprocess the image\n",
    "def preprocess_image(image_path, transform):\n",
    "    image = Image.open(image_path).convert(\"RGB\")\n",
    "    return image, transform(image).unsqueeze(0)\n",
    "\n",
    "# Predict using the model\n",
    "def predict(model, image_tensor, device):\n",
    "    model.eval()\n",
    "    with torch.no_grad():\n",
    "        image_tensor = image_tensor.to(device)\n",
    "        outputs = model(image_tensor)\n",
    "        probabilities = torch.nn.functional.softmax(outputs, dim=1)\n",
    "    return probabilities.cpu().numpy().flatten()"
   ]
  },
  {
   "cell_type": "code",
   "execution_count": 11,
   "metadata": {},
   "outputs": [],
   "source": [
    "# Visualization\n",
    "def visualize_predictions(original_image, probabilities, class_names):\n",
    "    fig, axarr = plt.subplots(1, 2, figsize=(14, 7))\n",
    "    \n",
    "    # Display image\n",
    "    axarr[0].imshow(original_image)\n",
    "    axarr[0].axis(\"off\")\n",
    "    \n",
    "    # Display predictions\n",
    "    axarr[1].barh(class_names, probabilities)\n",
    "    axarr[1].set_xlabel(\"Probability\")\n",
    "    axarr[1].set_title(\"Class Predictions\")\n",
    "    axarr[1].set_xlim(0, 1)\n",
    "\n",
    "    plt.tight_layout()\n",
    "    plt.show()"
   ]
  },
  {
   "cell_type": "code",
   "execution_count": 12,
   "metadata": {},
   "outputs": [
    {
     "data": {
      "image/png": "[encoded data removed]",
      "text/plain": [
       "<Figure size 1400x700 with 2 Axes>"
      ]
     },
     "metadata": {},
     "output_type": "display_data"
    },
    {
     "name": "stdout",
     "output_type": "stream",
     "text": [
      "[0.2712616  0.72873837]\n"
     ]
    }
   ],
   "source": [
    "# Example usage\n",
    "test_image = \"sort_images\\\\60.jpg\"\n",
    "original_image, image_tensor = preprocess_image(test_image, transform_operation) # determined earlier in the code\n",
    "probabilities = predict(model, image_tensor, device)\n",
    "\n",
    "# Assuming dataset.classes gives the class names\n",
    "class_names = train_dataset.classes \n",
    "visualize_predictions(original_image, probabilities, class_names)\n",
    "print(probabilities)"
   ]
  },
  {
   "cell_type": "code",
   "execution_count": 13,
   "metadata": {},
   "outputs": [
    {
     "name": "stdout",
     "output_type": "stream",
     "text": [
      "['0.jpg', '1.jpg', '2.jpg', '3.jpg', '4.jpg', '5.jpg', '6.jpg', '7.jpg', '8.jpg', '9.jpg', '10.jpg', '11.jpg', '12.jpg', '13.jpg', '14.jpg', '15.jpg', '16.jpg', '17.jpg', '18.jpg', '19.jpg', '20.jpg', '21.jpg', '22.jpg', '23.jpg', '24.jpg', '25.jpg', '26.jpg', '27.jpg', '28.jpg', '29.jpg', '30.jpg', '31.jpg', '32.jpg', '33.jpg', '34.jpg', '35.jpg', '36.jpg', '37.jpg', '38.jpg', '39.jpg', '40.jpg', '41.jpg', '42.jpg', '43.jpg', '44.jpg', '45.jpg', '46.jpg', '47.jpg', '48.jpg', '49.jpg', '50.jpg', '51.jpg', '52.jpg', '53.jpg', '54.jpg', '55.jpg', '56.jpg', '57.jpg', '58.jpg', '59.jpg', '60.jpg', '61.jpg', '62.jpg', '63.jpg', '64.jpg', '65.jpg', '66.jpg', '67.jpg', '68.jpg', '69.jpg', '70.jpg', '71.jpg', '72.jpg', '73.jpg', '74.jpg', '75.jpg', '76.jpg', '77.jpg', '78.jpg', '79.jpg', '80.jpg', '81.jpg', '82.jpg', '83.jpg', '84.jpg', '85.jpg', '86.jpg', '87.jpg', '88.jpg', '89.jpg', '90.jpg', '91.jpg', '92.jpg', '93.jpg', '94.jpg', '95.jpg', '96.jpg', '97.jpg', '98.jpg', '99.jpg', '100.jpg', '101.jpg', '102.jpg', '103.jpg', '104.jpg', '105.jpg', '106.jpg', '107.jpg', '108.jpg', '109.jpg', '110.jpg', '111.jpg', '112.jpg', '113.jpg', '114.jpg', '115.jpg', '116.jpg', '117.jpg', '118.jpg', '119.jpg', '120.jpg', '121.jpg', '122.jpg', '123.jpg', '124.jpg', '125.jpg', '126.jpg', '127.jpg', '128.jpg', '129.jpg', '130.jpg', '131.jpg', '132.jpg', '133.jpg', '134.jpg', '135.jpg', '136.jpg', '137.jpg', '138.jpg', '139.jpg', '140.jpg', '141.jpg', '142.jpg', '143.jpg', '144.jpg', '145.jpg', '146.jpg', '147.jpg', '148.jpg', '149.jpg', '150.jpg', '151.jpg', '152.jpg', '153.jpg', '154.jpg', '155.jpg', '156.jpg', '157.jpg', '158.jpg', '159.jpg', '160.jpg', '161.jpg', '162.jpg', '163.jpg', '164.jpg', '165.jpg', '166.jpg', '167.jpg', '168.jpg', '169.jpg', '170.jpg', '171.jpg', '172.jpg', '173.jpg', '174.jpg', '175.jpg', '176.jpg', '177.jpg', '178.jpg', '179.jpg', '180.jpg', '181.jpg', '182.jpg', '183.jpg', '184.jpg', '185.jpg', '186.jpg', '187.jpg', '188.jpg', '189.jpg', '190.jpg', '191.jpg', '192.jpg', '193.jpg', '194.jpg', '195.jpg', '196.jpg', '197.jpg', '198.jpg', '199.jpg', '200.jpg', '201.jpg', '202.jpg', '203.jpg', '204.jpg', '205.jpg', '206.jpg', '207.jpg', '208.jpg', '209.jpg', '210.jpg', '211.jpg', '212.jpg', '213.jpg', '214.jpg', '215.jpg', '216.jpg', '217.jpg', '218.jpg', '219.jpg', '220.jpg', '221.jpg', '222.jpg', '223.jpg', '224.jpg', '225.jpg', '226.jpg', '227.jpg', '228.jpg', '229.jpg', '230.jpg', '231.jpg', '232.jpg', '233.jpg', '234.jpg', '235.jpg', '236.jpg', '237.jpg', '238.jpg', '239.jpg', '240.jpg', '241.jpg', '242.jpg', '243.jpg', '244.jpg', '245.jpg', '246.jpg', '247.jpg', '248.jpg', '249.jpg', '250.jpg', '251.jpg', '252.jpg', '253.jpg', '254.jpg', '255.jpg', '256.jpg', '257.jpg', '258.jpg', '259.jpg', '260.jpg', '261.jpg', '262.jpg', '263.jpg', '264.jpg', '265.jpg', '266.jpg', '267.jpg', '268.jpg', '269.jpg', '270.jpg', '271.jpg', '272.jpg', '273.jpg', '274.jpg', '275.jpg', '276.jpg', '277.jpg', '278.jpg', '279.jpg', '280.jpg', '281.jpg', '282.jpg', '283.jpg', '284.jpg', '285.jpg', '286.jpg', '287.jpg', '288.jpg', '289.jpg', '290.jpg', '291.jpg', '292.jpg', '293.jpg', '294.jpg', '295.jpg', '296.jpg', '297.jpg', '298.jpg', '299.jpg', '300.jpg', '301.jpg', '302.jpg', '303.jpg', '304.jpg', '305.jpg', '306.jpg', '307.jpg', '308.jpg', '309.jpg', '310.jpg', '311.jpg', '312.jpg', '313.jpg', '314.jpg', '315.jpg', '316.jpg', '317.jpg', '318.jpg', '319.jpg', '320.jpg', '321.jpg', '322.jpg', '323.jpg', '324.jpg', '325.jpg', '326.jpg', '327.jpg', '328.jpg', '329.jpg', '330.jpg', '331.jpg', '332.jpg', '333.jpg', '334.jpg', '335.jpg', '336.jpg', '337.jpg', '338.jpg', '339.jpg', '340.jpg', '341.jpg', '342.jpg', '343.jpg', '344.jpg', '345.jpg', '346.jpg', '347.jpg', '348.jpg', '349.jpg', '350.jpg', '351.jpg', '352.jpg', '353.jpg', '354.jpg', '355.jpg', '356.jpg', '357.jpg', '358.jpg', '359.jpg', '360.jpg', '361.jpg', '362.jpg', '363.jpg', '364.jpg', '365.jpg', '366.jpg', '367.jpg', '368.jpg', '369.jpg', '370.jpg', '371.jpg', '372.jpg', '373.jpg', '374.jpg', '375.jpg', '376.jpg', '377.jpg', '378.jpg', '379.jpg', '380.jpg', '381.jpg', '382.jpg', '383.jpg', '384.jpg', '385.jpg', '386.jpg', '387.jpg', '388.jpg', '389.jpg', '390.jpg', '391.jpg', '392.jpg', '393.jpg', '394.jpg', '395.jpg', '396.jpg', '397.jpg', '398.jpg', '399.jpg', '400.jpg', '401.jpg', '402.jpg', '403.jpg', '404.jpg', '405.jpg', '406.jpg', '407.jpg', '408.jpg', '409.jpg', '410.jpg', '411.jpg', '412.jpg', '413.jpg', '414.jpg', '415.jpg', '416.jpg', '417.jpg', '418.jpg', '419.jpg', '420.jpg', '421.jpg', '422.jpg', '423.jpg', '424.jpg', '425.jpg', '426.jpg', '427.jpg', '428.jpg', '429.jpg', '430.jpg', '431.jpg', '432.jpg', '433.jpg', '434.jpg', '435.jpg', '436.jpg', '437.jpg', '438.jpg', '439.jpg', '440.jpg', '441.jpg', '442.jpg', '443.jpg', '444.jpg', '445.jpg', '446.jpg', '447.jpg', '448.jpg', '449.jpg', '450.jpg', '451.jpg', '452.jpg', '453.jpg', '454.jpg', '455.jpg', '456.jpg', '457.jpg', '458.jpg', '459.jpg', '460.jpg', '461.jpg', '462.jpg', '463.jpg', '464.jpg', '465.jpg', '466.jpg', '467.jpg', '468.jpg', '469.jpg', '470.jpg', '471.jpg', '472.jpg', '473.jpg', '474.jpg', '475.jpg', '476.jpg', '477.jpg', '478.jpg', '479.jpg', '480.jpg', '481.jpg', '482.jpg', '483.jpg', '484.jpg', '485.jpg', '486.jpg', '487.jpg', '488.jpg', '489.jpg', '490.jpg', '491.jpg', '492.jpg', '493.jpg', '494.jpg', '495.jpg', '496.jpg', '497.jpg', '498.jpg', '499.jpg', '500.jpg', '501.jpg', '502.jpg', '503.jpg', '504.jpg', '505.jpg', '506.jpg', '507.jpg', '508.jpg', '509.jpg', '510.jpg', '511.jpg', '512.jpg', '513.jpg', '514.jpg', '515.jpg', '516.jpg', '517.jpg', '518.jpg', '519.jpg', '520.jpg', '521.jpg', '522.jpg', '523.jpg', '524.jpg', '525.jpg', '526.jpg', '527.jpg', '528.jpg', '529.jpg', '530.jpg', '531.jpg', '532.jpg', '533.jpg', '534.jpg', '535.jpg', '536.jpg', '537.jpg', '538.jpg', '539.jpg', '540.jpg', '541.jpg', '542.jpg', '543.jpg', '544.jpg', '545.jpg', '546.jpg', '547.jpg', '548.jpg', '549.jpg', '550.jpg', '551.jpg', '552.jpg', '553.jpg', '554.jpg', '555.jpg', '556.jpg', '557.jpg', '558.jpg', '559.jpg', '560.jpg', '561.jpg', '562.jpg', '563.jpg', '564.jpg', '565.jpg', '566.jpg', '567.jpg', '568.jpg', '569.jpg', '570.jpg', '571.jpg', '572.jpg', '573.jpg', '574.jpg', '575.jpg', '576.jpg', '577.jpg', '578.jpg', '579.jpg', '580.jpg', '581.jpg', '582.jpg', '583.jpg', '584.jpg', '585.jpg', '586.jpg', '587.jpg', '588.jpg', '589.jpg', '590.jpg', '591.jpg', '592.jpg', '593.jpg', '594.jpg', '595.jpg', '596.jpg', '597.jpg', '598.jpg', '599.jpg', '600.jpg', '601.jpg', '602.jpg', '603.jpg', '604.jpg', '605.jpg', '606.jpg', '607.jpg', '608.jpg', '609.jpg', '610.jpg', '611.jpg', '612.jpg', '613.jpg', '614.jpg', '615.jpg', '616.jpg', '617.jpg', '618.jpg', '619.jpg', '620.jpg', '621.jpg', '622.jpg', '623.jpg', '624.jpg', '625.jpg', '626.jpg', '627.jpg', '628.jpg', '629.jpg', '630.jpg', '631.jpg', '632.jpg', '633.jpg', '634.jpg', '635.jpg', '636.jpg', '637.jpg', '638.jpg', '639.jpg', '640.jpg', '641.jpg', '642.jpg', '643.jpg', '644.jpg', '645.jpg', '646.jpg', '647.jpg', '648.jpg', '649.jpg', '650.jpg', '651.jpg', '652.jpg', '653.jpg', '654.jpg', '655.jpg', '656.jpg', '657.jpg', '658.jpg', '659.jpg', '660.jpg', '661.jpg', '662.jpg', '663.jpg', '664.jpg', '665.jpg', '666.jpg', '667.jpg', '668.jpg', '669.jpg', '670.jpg', '671.jpg', '672.jpg', '673.jpg', '674.jpg', '675.jpg', '676.jpg', '677.jpg', '678.jpg', '679.jpg', '680.jpg', '681.jpg', '682.jpg', '683.jpg', '684.jpg', '685.jpg', '686.jpg', '687.jpg', '688.jpg', '689.jpg', '690.jpg', '691.jpg', '692.jpg', '693.jpg', '694.jpg', '695.jpg', '696.jpg', '697.jpg', '698.jpg', '699.jpg', '700.jpg', '701.jpg', '702.jpg', '703.jpg', '704.jpg', '705.jpg', '706.jpg', '707.jpg', '708.jpg', '709.jpg', '710.jpg', '711.jpg', '712.jpg', '713.jpg', '714.jpg', '715.jpg', '716.jpg', '717.jpg', '718.jpg', '719.jpg', '720.jpg', '721.jpg', '722.jpg', '723.jpg', '724.jpg', '725.jpg', '726.jpg', '727.jpg', '728.jpg', '729.jpg', '730.jpg', '731.jpg', '732.jpg', '733.jpg', '734.jpg', '735.jpg', '736.jpg', '737.jpg', '738.jpg', '739.jpg', '740.jpg', '741.jpg', '742.jpg', '743.jpg', '744.jpg', '745.jpg', '746.jpg', '747.jpg', '748.jpg', '749.jpg', '750.jpg', '751.jpg', '752.jpg', '753.jpg', '754.jpg', '755.jpg', '756.jpg', '757.jpg', '758.jpg', '759.jpg', '760.jpg', '761.jpg', '762.jpg', '763.jpg', '764.jpg', '765.jpg', '766.jpg', '767.jpg', '768.jpg', '769.jpg', '770.jpg', '771.jpg', '772.jpg', '773.jpg', '774.jpg', '775.jpg', '776.jpg', '777.jpg', '778.jpg', '779.jpg', '780.jpg', '781.jpg', '782.jpg', '783.jpg', '784.jpg', '785.jpg', '786.jpg', '787.jpg', '788.jpg', '789.jpg', '790.jpg', '791.jpg', '792.jpg', '793.jpg', '794.jpg', '795.jpg', '796.jpg', '797.jpg', '798.jpg', '799.jpg', '800.jpg', '801.jpg', '802.jpg', '803.jpg', '804.jpg', '805.jpg', '806.jpg', '807.jpg', '808.jpg', '809.jpg', '810.jpg', '811.jpg', '812.jpg', '813.jpg', '814.jpg', '815.jpg', '816.jpg', '817.jpg', '818.jpg', '819.jpg', '820.jpg', '821.jpg', '822.jpg', '823.jpg', '824.jpg', '825.jpg', '826.jpg', '827.jpg', '828.jpg', '829.jpg', '830.jpg', '831.jpg', '832.jpg', '833.jpg', '834.jpg', '835.jpg', '836.jpg', '837.jpg', '838.jpg', '839.jpg', '840.jpg', '841.jpg', '842.jpg', '843.jpg', '844.jpg', '845.jpg', '846.jpg', '847.jpg', '848.jpg', '849.jpg', '850.jpg', '851.jpg', '852.jpg', '853.jpg', '854.jpg', '855.jpg', '856.jpg', '857.jpg', '858.jpg', '859.jpg', '860.jpg', '861.jpg', '862.jpg', '863.jpg', '864.jpg', '865.jpg', '866.jpg', '867.jpg', '868.jpg', '869.jpg', '870.jpg', '871.jpg', '872.jpg', '873.jpg', '874.jpg', '875.jpg', '876.jpg', '877.jpg', '878.jpg', '879.jpg', '880.jpg', '881.jpg', '882.jpg', '883.jpg', '884.jpg', '885.jpg', '886.jpg', '887.jpg', '888.jpg', '889.jpg', '890.jpg', '891.jpg', '892.jpg', '893.jpg', '894.jpg', '895.jpg', '896.jpg', '897.jpg', '898.jpg', '899.jpg', '900.jpg', '901.jpg', '902.jpg', '903.jpg', '904.jpg', '905.jpg', '906.jpg', '907.jpg', '908.jpg', '909.jpg', '910.jpg', '911.jpg', '912.jpg', '913.jpg', '914.jpg', '915.jpg', '916.jpg', '917.jpg', '918.jpg', '919.jpg', '920.jpg', '921.jpg', '922.jpg', '923.jpg', '924.jpg', '925.jpg', '926.jpg', '927.jpg', '928.jpg', '929.jpg', '930.jpg', '931.jpg', '932.jpg', '933.jpg', '934.jpg', '935.jpg', '936.jpg', '937.jpg', '938.jpg', '939.jpg', '940.jpg', '941.jpg', '942.jpg', '943.jpg', '944.jpg', '945.jpg', '946.jpg', '947.jpg', '948.jpg', '949.jpg', '950.jpg', '951.jpg', '952.jpg', '953.jpg', '954.jpg', '955.jpg', '956.jpg', '957.jpg', '958.jpg', '959.jpg', '960.jpg', '961.jpg', '962.jpg', '963.jpg', '964.jpg', '965.jpg', '966.jpg', '967.jpg', '968.jpg', '969.jpg', '970.jpg', '971.jpg', '972.jpg', '973.jpg', '974.jpg', '975.jpg', '976.jpg', '977.jpg', '978.jpg', '979.jpg', '980.jpg', '981.jpg', '982.jpg', '983.jpg', '984.jpg', '985.jpg', '986.jpg', '987.jpg', '988.jpg', '989.jpg', '990.jpg', '991.jpg', '992.jpg', '993.jpg', '994.jpg', '995.jpg', '996.jpg', '997.jpg', '998.jpg', '999.jpg', '1000.jpg', '1001.jpg', '1002.jpg', '1003.jpg', '1004.jpg', '1005.jpg', '1006.jpg', '1007.jpg', '1008.jpg', '1009.jpg', '1010.jpg', '1011.jpg', '1012.jpg', '1013.jpg', '1014.jpg', '1015.jpg', '1016.jpg', '1017.jpg', '1018.jpg', '1019.jpg', '1020.jpg', '1021.jpg', '1022.jpg', '1023.jpg', '1024.jpg', '1025.jpg', '1026.jpg', '1027.jpg', '1028.jpg', '1029.jpg', '1030.jpg', '1031.jpg', '1032.jpg', '1033.jpg', '1034.jpg', '1035.jpg', '1036.jpg', '1037.jpg', '1038.jpg', '1039.jpg', '1040.jpg', '1041.jpg', '1042.jpg', '1043.jpg', '1044.jpg', '1045.jpg', '1046.jpg', '1047.jpg', '1048.jpg', '1049.jpg', '1050.jpg', '1051.jpg', '1052.jpg', '1053.jpg', '1054.jpg', '1055.jpg', '1056.jpg', '1057.jpg', '1058.jpg', '1059.jpg', '1060.jpg', '1061.jpg', '1062.jpg', '1063.jpg', '1064.jpg', '1065.jpg', '1066.jpg', '1067.jpg', '1068.jpg', '1069.jpg', '1070.jpg', '1071.jpg', '1072.jpg', '1073.jpg', '1074.jpg', '1075.jpg', '1076.jpg', '1077.jpg', '1078.jpg', '1079.jpg', '1080.jpg', '1081.jpg', '1082.jpg', '1083.jpg', '1084.jpg', '1085.jpg', '1086.jpg', '1087.jpg', '1088.jpg', '1089.jpg', '1090.jpg', '1091.jpg', '1092.jpg', '1093.jpg', '1094.jpg', '1095.jpg', '1096.jpg', '1097.jpg', '1098.jpg', '1099.jpg', '1100.jpg', '1101.jpg', '1102.jpg', '1103.jpg', '1104.jpg', '1105.jpg', '1106.jpg', '1107.jpg', '1108.jpg', '1109.jpg', '1110.jpg', '1111.jpg', '1112.jpg', '1113.jpg', '1114.jpg', '1115.jpg', '1116.jpg', '1117.jpg', '1118.jpg', '1119.jpg', '1120.jpg', '1121.jpg', '1122.jpg', '1123.jpg', '1124.jpg', '1125.jpg', '1126.jpg', '1127.jpg', '1128.jpg', '1129.jpg', '1130.jpg', '1131.jpg', '1132.jpg', '1133.jpg', '1134.jpg', '1135.jpg', '1136.jpg', '1137.jpg', '1138.jpg', '1139.jpg', '1140.jpg', '1141.jpg', '1142.jpg', '1143.jpg', '1144.jpg', '1145.jpg', '1146.jpg', '1147.jpg', '1148.jpg', '1149.jpg', '1150.jpg', '1151.jpg', '1152.jpg', '1153.jpg', '1154.jpg', '1155.jpg', '1156.jpg', '1157.jpg', '1158.jpg', '1159.jpg', '1160.jpg', '1161.jpg', '1162.jpg', '1163.jpg', '1164.jpg', '1165.jpg', '1166.jpg', '1167.jpg', '1168.jpg', '1169.jpg', '1170.jpg', '1171.jpg', '1172.jpg', '1173.jpg', '1174.jpg', '1175.jpg', '1176.jpg', '1177.jpg', '1178.jpg', '1179.jpg', '1180.jpg', '1181.jpg', '1182.jpg', '1183.jpg', '1184.jpg', '1185.jpg', '1186.jpg', '1187.jpg', '1188.jpg', '1189.jpg', '1190.jpg', '1191.jpg', '1192.jpg', '1193.jpg', '1194.jpg', '1195.jpg', '1196.jpg', '1197.jpg', '1198.jpg', '1199.jpg', '1200.jpg', '1201.jpg', '1202.jpg', '1203.jpg', '1204.jpg', '1205.jpg', '1206.jpg', '1207.jpg', '1208.jpg', '1209.jpg', '1210.jpg', '1211.jpg', '1212.jpg', '1213.jpg', '1214.jpg', '1215.jpg', '1216.jpg', '1217.jpg', '1218.jpg', '1219.jpg', '1220.jpg', '1221.jpg', '1222.jpg', '1223.jpg', '1224.jpg', '1225.jpg', '1226.jpg', '1227.jpg', '1228.jpg', '1229.jpg', '1230.jpg', '1231.jpg', '1232.jpg', '1233.jpg', '1234.jpg', '1235.jpg', '1236.jpg', '1237.jpg', '1238.jpg', '1239.jpg', '1240.jpg', '1241.jpg', '1242.jpg', '1243.jpg', '1244.jpg', '1245.jpg', '1246.jpg', '1247.jpg', '1248.jpg', '1249.jpg', '1250.jpg', '1251.jpg', '1252.jpg', '1253.jpg', '1254.jpg', '1255.jpg', '1256.jpg', '1257.jpg', '1258.jpg', '1259.jpg', '1260.jpg', '1261.jpg', '1262.jpg', '1263.jpg', '1264.jpg', '1265.jpg', '1266.jpg', '1267.jpg', '1268.jpg', '1269.jpg', '1270.jpg', '1271.jpg', '1272.jpg', '1273.jpg', '1274.jpg', '1275.jpg', '1276.jpg', '1277.jpg', '1278.jpg', '1279.jpg', '1280.jpg', '1281.jpg', '1282.jpg', '1283.jpg', '1284.jpg', '1285.jpg', '1286.jpg', '1287.jpg', '1288.jpg', '1289.jpg', '1290.jpg', '1291.jpg', '1292.jpg', '1293.jpg', '1294.jpg', '1295.jpg', '1296.jpg', '1297.jpg', '1298.jpg', '1299.jpg', '1300.jpg', '1301.jpg', '1302.jpg', '1303.jpg', '1304.jpg', '1305.jpg', '1306.jpg', '1307.jpg', '1308.jpg', '1309.jpg', '1310.jpg', '1311.jpg', '1312.jpg', '1313.jpg', '1314.jpg', '1315.jpg', '1316.jpg', '1317.jpg', '1318.jpg', '1319.jpg', '1320.jpg', '1321.jpg', '1322.jpg', '1323.jpg', '1324.jpg', '1325.jpg', '1326.jpg', '1327.jpg', '1328.jpg', '1329.jpg', '1330.jpg', '1331.jpg', '1332.jpg', '1333.jpg', '1334.jpg', '1335.jpg', '1336.jpg', '1337.jpg', '1338.jpg', '1339.jpg', '1340.jpg', '1341.jpg', '1342.jpg', '1343.jpg', '1344.jpg', '1345.jpg', '1346.jpg', '1347.jpg', '1348.jpg', '1349.jpg', '1350.jpg', '1351.jpg', '1352.jpg', '1353.jpg', '1354.jpg', '1355.jpg', '1356.jpg', '1357.jpg', '1358.jpg', '1359.jpg', '1360.jpg', '1361.jpg', '1362.jpg', '1363.jpg', '1364.jpg', '1365.jpg', '1366.jpg', '1367.jpg', '1368.jpg', '1369.jpg', '1370.jpg', '1371.jpg', '1372.jpg', '1373.jpg', '1374.jpg', '1375.jpg', '1376.jpg', '1377.jpg', '1378.jpg', '1379.jpg', '1380.jpg', '1381.jpg', '1382.jpg', '1383.jpg', '1384.jpg', '1385.jpg', '1386.jpg', '1387.jpg', '1388.jpg', '1389.jpg', '1390.jpg', '1391.jpg', '1392.jpg', '1393.jpg', '1394.jpg', '1395.jpg', '1396.jpg', '1397.jpg', '1398.jpg', '1399.jpg', '1400.jpg', '1401.jpg', '1402.jpg', '1403.jpg', '1404.jpg', '1405.jpg', '1406.jpg', '1407.jpg', '1408.jpg', '1409.jpg', '1410.jpg', '1411.jpg', '1412.jpg', '1413.jpg', '1414.jpg', '1415.jpg', '1416.jpg', '1417.jpg', '1418.jpg', '1419.jpg', '1420.jpg', '1421.jpg', '1422.jpg', '1423.jpg', '1424.jpg', '1425.jpg', '1426.jpg', '1427.jpg', '1428.jpg', '1429.jpg', '1430.jpg', '1431.jpg', '1432.jpg', '1433.jpg', '1434.jpg', '1435.jpg', '1436.jpg', '1437.jpg', '1438.jpg', '1439.jpg', '1440.jpg', '1441.jpg', '1442.jpg', '1443.jpg', '1444.jpg', '1445.jpg', '1446.jpg', '1447.jpg', '1448.jpg', '1449.jpg', '1450.jpg', '1451.jpg', '1452.jpg', '1453.jpg', '1454.jpg', '1455.jpg', '1456.jpg', '1457.jpg', '1458.jpg', '1459.jpg', '1460.jpg', '1461.jpg', '1462.jpg', '1463.jpg', '1464.jpg', '1465.jpg', '1466.jpg', '1467.jpg', '1468.jpg', '1469.jpg', '1470.jpg', '1471.jpg', '1472.jpg', '1473.jpg', '1474.jpg', '1475.jpg', '1476.jpg', '1477.jpg', '1478.jpg', '1479.jpg', '1480.jpg', '1481.jpg', '1482.jpg', '1483.jpg', '1484.jpg', '1485.jpg', '1486.jpg', '1487.jpg', '1488.jpg', '1489.jpg', '1490.jpg', '1491.jpg', '1492.jpg', '1493.jpg', '1494.jpg', '1495.jpg', '1496.jpg', '1497.jpg', '1498.jpg', '1499.jpg', '1500.jpg', '1501.jpg', '1502.jpg', '1503.jpg', '1504.jpg', '1505.jpg', '1506.jpg', '1507.jpg', '1508.jpg', '1509.jpg', '1510.jpg', '1511.jpg', '1512.jpg', '1513.jpg', '1514.jpg', '1515.jpg', '1516.jpg', '1517.jpg', '1518.jpg', '1519.jpg', '1520.jpg', '1521.jpg', '1522.jpg', '1523.jpg', '1524.jpg', '1525.jpg', '1526.jpg', '1527.jpg', '1528.jpg', '1529.jpg', '1530.jpg', '1531.jpg', '1532.jpg', '1533.jpg', '1534.jpg', '1535.jpg', '1536.jpg', '1537.jpg', '1538.jpg', '1539.jpg', '1540.jpg', '1541.jpg', '1542.jpg', '1543.jpg', '1544.jpg', '1545.jpg', '1546.jpg', '1547.jpg', '1548.jpg', '1549.jpg', '1550.jpg', '1551.jpg', '1552.jpg', '1553.jpg', '1554.jpg', '1555.jpg', '1556.jpg', '1557.jpg', '1558.jpg', '1559.jpg', '1560.jpg', '1561.jpg', '1562.jpg', '1563.jpg', '1564.jpg', '1565.jpg', '1566.jpg', '1567.jpg', '1568.jpg', '1569.jpg', '1570.jpg', '1571.jpg', '1572.jpg', '1573.jpg', '1574.jpg', '1575.jpg', '1576.jpg', '1577.jpg', '1578.jpg', '1579.jpg', '1580.jpg', '1581.jpg', '1582.jpg', '1583.jpg', '1584.jpg', '1585.jpg', '1586.jpg', '1587.jpg', '1588.jpg', '1589.jpg', '1590.jpg', '1591.jpg', '1592.jpg', '1593.jpg', '1594.jpg', '1595.jpg', '1596.jpg', '1597.jpg', '1598.jpg', '1599.jpg'] \n",
      "\n",
      "1600\n"
     ]
    }
   ],
   "source": [
    "# Run inference write to directory\n",
    "import os\n",
    "\n",
    "directory = 'sort_images/'\n",
    "files = os.listdir(directory)\n",
    "# sorted_files = sorted(files, key=lambda x: (int(x.split('_')[0]), int(x.split('_')[1].split('.')[0])))\n",
    "sorted_files = sorted(files, key=lambda x: (int(x.split('.')[0])))\n",
    "print(sorted_files, '\\n')\n",
    "print(len(sorted_files))"
   ]
  },
  {
   "cell_type": "code",
   "execution_count": 15,
   "metadata": {},
   "outputs": [
    {
     "name": "stderr",
     "output_type": "stream",
     "text": [
      "  1%|          | 15/1600 [00:00<00:21, 74.52it/s]"
     ]
    },
    {
     "name": "stdout",
     "output_type": "stream",
     "text": [
      "[0.3456373  0.65436274]\n",
      "Image 0.jpg is good, writing to good directory\n",
      "[0.5170751 0.4829249]\n",
      "Image 1.jpg is bad, writing to bad directory\n",
      "[0.8817866  0.11821339]\n",
      "Image 2.jpg is bad, writing to bad directory\n",
      "[0.07951959 0.92048043]\n",
      "Image 3.jpg is good, writing to good directory\n",
      "[0.26279417 0.73720586]\n",
      "Image 4.jpg is good, writing to good directory\n",
      "[0.44662213 0.5533779 ]\n",
      "Image 5.jpg is good, writing to good directory\n",
      "[0.16819204 0.8318079 ]\n",
      "Image 6.jpg is good, writing to good directory\n",
      "[0.4229501 0.5770499]\n",
      "Image 7.jpg is good, writing to good directory\n",
      "[0.05363504 0.94636494]\n",
      "Image 8.jpg is good, writing to good directory\n",
      "[0.4513283 0.5486717]\n",
      "Image 9.jpg is good, writing to good directory\n",
      "[0.8073412  0.19265875]\n",
      "Image 10.jpg is bad, writing to bad directory\n",
      "[0.8911221 0.1088779]\n",
      "Image 11.jpg is bad, writing to bad directory\n",
      "[0.69063234 0.3093677 ]\n",
      "Image 12.jpg is bad, writing to bad directory\n",
      "[0.98475164 0.01524837]\n",
      "Image 13.jpg is bad, writing to bad directory\n",
      "[0.507405 0.492595]\n",
      "Image 14.jpg is bad, writing to bad directory\n"
     ]
    },
    {
     "name": "stderr",
     "output_type": "stream",
     "text": [
      "  2%|▏         | 31/1600 [00:00<00:20, 75.37it/s]"
     ]
    },
    {
     "name": "stdout",
     "output_type": "stream",
     "text": [
      "[0.13268656 0.86731344]\n",
      "Image 15.jpg is good, writing to good directory\n",
      "[0.19280957 0.8071904 ]\n",
      "Image 16.jpg is good, writing to good directory\n",
      "[0.13154063 0.86845934]\n",
      "Image 17.jpg is good, writing to good directory\n",
      "[0.2280897  0.77191025]\n",
      "Image 18.jpg is good, writing to good directory\n",
      "[0.4977479 0.5022521]\n",
      "Image 19.jpg is good, writing to good directory\n",
      "[0.10569882 0.89430124]\n",
      "Image 20.jpg is good, writing to good directory\n",
      "[0.59841484 0.40158513]\n",
      "Image 21.jpg is bad, writing to bad directory\n",
      "[0.5564073  0.44359273]\n",
      "Image 22.jpg is bad, writing to bad directory\n",
      "[0.9803155  0.01968445]\n",
      "Image 23.jpg is bad, writing to bad directory\n",
      "[0.38873455 0.6112655 ]\n",
      "Image 24.jpg is good, writing to good directory\n",
      "[0.58133626 0.41866368]\n",
      "Image 25.jpg is bad, writing to bad directory\n",
      "[0.49254832 0.5074517 ]\n",
      "Image 26.jpg is good, writing to good directory\n",
      "[0.07513829 0.9248617 ]\n",
      "Image 27.jpg is good, writing to good directory\n",
      "[0.12245981 0.87754023]\n",
      "Image 28.jpg is good, writing to good directory\n",
      "[0.16598862 0.8340114 ]\n",
      "Image 29.jpg is good, writing to good directory\n",
      "[0.03049417 0.9695059 ]\n",
      "Image 30.jpg is good, writing to good directory\n"
     ]
    },
    {
     "name": "stderr",
     "output_type": "stream",
     "text": [
      "  2%|▏         | 39/1600 [00:00<00:21, 73.39it/s]"
     ]
    },
    {
     "name": "stdout",
     "output_type": "stream",
     "text": [
      "[0.7164123  0.28358772]\n",
      "Image 31.jpg is bad, writing to bad directory\n",
      "[0.5375033 0.4624967]\n",
      "Image 32.jpg is bad, writing to bad directory\n",
      "[0.9136403  0.08635962]\n",
      "Image 33.jpg is bad, writing to bad directory\n",
      "[0.63784665 0.36215338]\n",
      "Image 34.jpg is bad, writing to bad directory\n",
      "[0.05171264 0.94828737]\n",
      "Image 35.jpg is good, writing to good directory\n",
      "[0.75604224 0.24395773]\n",
      "Image 36.jpg is bad, writing to bad directory\n",
      "[0.05387354 0.94612646]\n",
      "Image 37.jpg is good, writing to good directory\n",
      "[0.3945086 0.6054914]\n",
      "Image 38.jpg is good, writing to good directory\n",
      "[0.2145505 0.7854495]\n",
      "Image 39.jpg is good, writing to good directory\n",
      "[0.2407123  0.75928766]\n",
      "Image 40.jpg is good, writing to good directory\n",
      "[0.20919314 0.7908069 ]\n",
      "Image 41.jpg is good, writing to good directory\n",
      "[0.07625414 0.9237458 ]\n",
      "Image 42.jpg is good, writing to good directory\n",
      "[0.87398934 0.12601064]\n",
      "Image 43.jpg is bad, writing to bad directory\n",
      "[0.42085403 0.57914597]\n",
      "Image 44.jpg is good, writing to good directory\n",
      "[0.10789341 0.89210665]\n",
      "Image 45.jpg is good, writing to good directory\n"
     ]
    },
    {
     "name": "stderr",
     "output_type": "stream",
     "text": [
      "  3%|▎         | 55/1600 [00:00<00:20, 74.33it/s]"
     ]
    },
    {
     "name": "stdout",
     "output_type": "stream",
     "text": [
      "[0.74710655 0.25289345]\n",
      "Image 46.jpg is bad, writing to bad directory\n",
      "[0.06616572 0.93383425]\n",
      "Image 47.jpg is good, writing to good directory\n",
      "[0.719848   0.28015202]\n",
      "Image 48.jpg is bad, writing to bad directory\n",
      "[0.6781323  0.32186767]\n",
      "Image 49.jpg is bad, writing to bad directory\n",
      "[0.6397267  0.36027333]\n",
      "Image 50.jpg is bad, writing to bad directory\n",
      "[0.72321963 0.27678034]\n",
      "Image 51.jpg is bad, writing to bad directory\n",
      "[0.43257564 0.56742436]\n",
      "Image 52.jpg is good, writing to good directory\n",
      "[0.8956446  0.10435541]\n",
      "Image 53.jpg is bad, writing to bad directory\n",
      "[0.5541857  0.44581434]\n",
      "Image 54.jpg is bad, writing to bad directory\n",
      "[0.3444163  0.65558374]\n",
      "Image 55.jpg is good, writing to good directory\n",
      "[0.49752256 0.5024774 ]\n",
      "Image 56.jpg is good, writing to good directory\n",
      "[0.866436   0.13356404]\n",
      "Image 57.jpg is bad, writing to bad directory\n",
      "[0.2356558 0.7643442]\n",
      "Image 58.jpg is good, writing to good directory\n",
      "[0.6830975  0.31690255]\n",
      "Image 59.jpg is bad, writing to bad directory\n",
      "[0.2712616  0.72873837]\n",
      "Image 60.jpg is good, writing to good directory\n",
      "[0.9908035  0.00919647]\n",
      "Image 61.jpg is bad, writing to bad directory\n",
      "[0.4058283 0.5941717]\n",
      "Image 62.jpg is good, writing to good directory\n"
     ]
    },
    {
     "name": "stderr",
     "output_type": "stream",
     "text": [
      "  4%|▍         | 71/1600 [00:00<00:20, 72.86it/s]"
     ]
    },
    {
     "name": "stdout",
     "output_type": "stream",
     "text": [
      "[0.3736417 0.6263583]\n",
      "Image 63.jpg is good, writing to good directory\n",
      "[0.50145835 0.49854165]\n",
      "Image 64.jpg is bad, writing to bad directory\n",
      "[0.33954275 0.6604573 ]\n",
      "Image 65.jpg is good, writing to good directory\n",
      "[0.4281985  0.57180154]\n",
      "Image 66.jpg is good, writing to good directory\n",
      "[0.3918357 0.6081643]\n",
      "Image 67.jpg is good, writing to good directory\n",
      "[0.00883696 0.991163  ]\n",
      "Image 68.jpg is good, writing to good directory\n",
      "[0.9829075  0.01709252]\n",
      "Image 69.jpg is bad, writing to bad directory\n",
      "[0.06719838 0.93280166]\n",
      "Image 70.jpg is good, writing to good directory\n",
      "[0.2740715 0.7259285]\n",
      "Image 71.jpg is good, writing to good directory\n",
      "[0.40058735 0.5994127 ]\n",
      "Image 72.jpg is good, writing to good directory\n",
      "[0.8763393  0.12366067]\n",
      "Image 73.jpg is bad, writing to bad directory\n",
      "[0.56039274 0.43960726]\n",
      "Image 74.jpg is bad, writing to bad directory\n",
      "[0.61235344 0.38764653]\n",
      "Image 75.jpg is bad, writing to bad directory\n",
      "[0.26499793 0.73500204]\n",
      "Image 76.jpg is good, writing to good directory\n",
      "[0.70361656 0.29638344]\n",
      "Image 77.jpg is bad, writing to bad directory\n"
     ]
    },
    {
     "name": "stderr",
     "output_type": "stream",
     "text": [
      "  5%|▌         | 87/1600 [00:01<00:20, 72.49it/s]"
     ]
    },
    {
     "name": "stdout",
     "output_type": "stream",
     "text": [
      "[0.8800759  0.11992408]\n",
      "Image 78.jpg is bad, writing to bad directory\n",
      "[0.63280684 0.36719313]\n",
      "Image 79.jpg is bad, writing to bad directory\n",
      "[0.7069861  0.29301393]\n",
      "Image 80.jpg is bad, writing to bad directory\n",
      "[0.4894659 0.5105341]\n",
      "Image 81.jpg is good, writing to good directory\n",
      "[0.18323989 0.81676006]\n",
      "Image 82.jpg is good, writing to good directory\n",
      "[0.2407949 0.7592051]\n",
      "Image 83.jpg is good, writing to good directory\n",
      "[0.15696816 0.8430319 ]\n",
      "Image 84.jpg is good, writing to good directory\n",
      "[0.26030138 0.7396986 ]\n",
      "Image 85.jpg is good, writing to good directory\n",
      "[0.09306791 0.9069321 ]\n",
      "Image 86.jpg is good, writing to good directory\n",
      "[0.94966084 0.05033913]\n",
      "Image 87.jpg is bad, writing to bad directory\n",
      "[0.9324488  0.06755114]\n",
      "Image 88.jpg is bad, writing to bad directory\n",
      "[0.42152587 0.57847416]\n",
      "Image 89.jpg is good, writing to good directory\n",
      "[0.12437647 0.8756235 ]\n",
      "Image 90.jpg is good, writing to good directory\n",
      "[0.56562144 0.43437856]\n",
      "Image 91.jpg is bad, writing to bad directory\n",
      "[0.5232541  0.47674587]\n",
      "Image 92.jpg is bad, writing to bad directory\n"
     ]
    },
    {
     "name": "stderr",
     "output_type": "stream",
     "text": [
      "  6%|▋         | 104/1600 [00:01<00:19, 75.64it/s]"
     ]
    },
    {
     "name": "stdout",
     "output_type": "stream",
     "text": [
      "[0.5500628 0.4499372]\n",
      "Image 93.jpg is bad, writing to bad directory\n",
      "[0.3680943  0.63190573]\n",
      "Image 94.jpg is good, writing to good directory\n",
      "[0.5471481  0.45285192]\n",
      "Image 95.jpg is bad, writing to bad directory\n",
      "[0.60633594 0.3936641 ]\n",
      "Image 96.jpg is bad, writing to bad directory\n",
      "[0.8764089  0.12359113]\n",
      "Image 97.jpg is bad, writing to bad directory\n",
      "[0.49628484 0.5037152 ]\n",
      "Image 98.jpg is good, writing to good directory\n",
      "[0.02672912 0.9732709 ]\n",
      "Image 99.jpg is good, writing to good directory\n",
      "[0.8690595  0.13094047]\n",
      "Image 100.jpg is bad, writing to bad directory\n",
      "[0.98150074 0.01849921]\n",
      "Image 101.jpg is bad, writing to bad directory\n",
      "[0.43780467 0.5621953 ]\n",
      "Image 102.jpg is good, writing to good directory\n",
      "[0.83892304 0.1610769 ]\n",
      "Image 103.jpg is bad, writing to bad directory\n",
      "[0.13871266 0.86128736]\n",
      "Image 104.jpg is good, writing to good directory\n",
      "[0.2988349  0.70116514]\n",
      "Image 105.jpg is good, writing to good directory\n",
      "[0.87202287 0.12797716]\n",
      "Image 106.jpg is bad, writing to bad directory\n",
      "[0.4902179 0.5097821]\n",
      "Image 107.jpg is good, writing to good directory\n",
      "[0.40263376 0.5973662 ]\n",
      "Image 108.jpg is good, writing to good directory\n"
     ]
    },
    {
     "name": "stderr",
     "output_type": "stream",
     "text": [
      "  8%|▊         | 120/1600 [00:01<00:20, 72.11it/s]"
     ]
    },
    {
     "name": "stdout",
     "output_type": "stream",
     "text": [
      "[0.69235444 0.30764556]\n",
      "Image 109.jpg is bad, writing to bad directory\n",
      "[0.9528901  0.04710991]\n",
      "Image 110.jpg is bad, writing to bad directory\n",
      "[0.4897584  0.51024157]\n",
      "Image 111.jpg is good, writing to good directory\n",
      "[0.35854617 0.64145386]\n",
      "Image 112.jpg is good, writing to good directory\n",
      "[0.10167991 0.8983201 ]\n",
      "Image 113.jpg is good, writing to good directory\n",
      "[0.55640584 0.44359413]\n",
      "Image 114.jpg is bad, writing to bad directory\n",
      "[0.01348996 0.9865101 ]\n",
      "Image 115.jpg is good, writing to good directory\n",
      "[0.6055987 0.3944013]\n",
      "Image 116.jpg is bad, writing to bad directory\n",
      "[0.19165581 0.8083442 ]\n",
      "Image 117.jpg is good, writing to good directory\n",
      "[0.35285804 0.647142  ]\n",
      "Image 118.jpg is good, writing to good directory\n",
      "[0.06348678 0.9365132 ]\n",
      "Image 119.jpg is good, writing to good directory\n",
      "[0.38549215 0.6145078 ]\n",
      "Image 120.jpg is good, writing to good directory\n",
      "[0.22315349 0.7768465 ]\n",
      "Image 121.jpg is good, writing to good directory\n",
      "[0.648239   0.35176104]\n",
      "Image 122.jpg is bad, writing to bad directory\n",
      "[0.0763138 0.9236862]\n",
      "Image 123.jpg is good, writing to good directory\n"
     ]
    },
    {
     "name": "stderr",
     "output_type": "stream",
     "text": [
      "  8%|▊         | 136/1600 [00:01<00:20, 72.01it/s]"
     ]
    },
    {
     "name": "stdout",
     "output_type": "stream",
     "text": [
      "[0.19859493 0.8014051 ]\n",
      "Image 124.jpg is good, writing to good directory\n",
      "[0.38887808 0.61112195]\n",
      "Image 125.jpg is good, writing to good directory\n",
      "[0.17664897 0.823351  ]\n",
      "Image 126.jpg is good, writing to good directory\n",
      "[0.82943773 0.17056227]\n",
      "Image 127.jpg is bad, writing to bad directory\n",
      "[0.04963635 0.95036364]\n",
      "Image 128.jpg is good, writing to good directory\n",
      "[0.438496 0.561504]\n",
      "Image 129.jpg is good, writing to good directory\n",
      "[0.06355146 0.9364486 ]\n",
      "Image 130.jpg is good, writing to good directory\n",
      "[0.16822854 0.83177143]\n",
      "Image 131.jpg is good, writing to good directory\n",
      "[0.875789   0.12421098]\n",
      "Image 132.jpg is bad, writing to bad directory\n",
      "[0.08107868 0.9189213 ]\n",
      "Image 133.jpg is good, writing to good directory\n",
      "[0.7835292  0.21647073]\n",
      "Image 134.jpg is bad, writing to bad directory\n",
      "[0.2341475 0.7658525]\n",
      "Image 135.jpg is good, writing to good directory\n",
      "[0.67397636 0.32602364]\n",
      "Image 136.jpg is bad, writing to bad directory\n",
      "[0.3198467  0.68015337]\n",
      "Image 137.jpg is good, writing to good directory\n",
      "[0.90139693 0.09860308]\n",
      "Image 138.jpg is bad, writing to bad directory\n",
      "[0.05518571 0.94481426]\n",
      "Image 139.jpg is good, writing to good directory\n"
     ]
    },
    {
     "name": "stderr",
     "output_type": "stream",
     "text": [
      " 10%|▉         | 152/1600 [00:02<00:19, 72.63it/s]"
     ]
    },
    {
     "name": "stdout",
     "output_type": "stream",
     "text": [
      "[0.1674837  0.83251625]\n",
      "Image 140.jpg is good, writing to good directory\n",
      "[0.10927455 0.89072543]\n",
      "Image 141.jpg is good, writing to good directory\n",
      "[0.70742947 0.2925706 ]\n",
      "Image 142.jpg is bad, writing to bad directory\n",
      "[0.0566567  0.94334334]\n",
      "Image 143.jpg is good, writing to good directory\n",
      "[0.78703773 0.21296225]\n",
      "Image 144.jpg is bad, writing to bad directory\n",
      "[0.9329163  0.06708374]\n",
      "Image 145.jpg is bad, writing to bad directory\n",
      "[0.0057393  0.99426067]\n",
      "Image 146.jpg is good, writing to good directory\n",
      "[0.3579688  0.64203125]\n",
      "Image 147.jpg is good, writing to good directory\n",
      "[0.21084943 0.78915054]\n",
      "Image 148.jpg is good, writing to good directory\n",
      "[0.88105637 0.11894362]\n",
      "Image 149.jpg is bad, writing to bad directory\n",
      "[0.3867736 0.6132265]\n",
      "Image 150.jpg is good, writing to good directory\n",
      "[0.18948679 0.8105132 ]\n",
      "Image 151.jpg is good, writing to good directory\n",
      "[0.8010174  0.19898266]\n",
      "Image 152.jpg is bad, writing to bad directory\n",
      "[0.0295502 0.9704498]\n",
      "Image 153.jpg is good, writing to good directory\n"
     ]
    },
    {
     "name": "stderr",
     "output_type": "stream",
     "text": [
      " 10%|█         | 160/1600 [00:02<00:21, 66.18it/s]"
     ]
    },
    {
     "name": "stdout",
     "output_type": "stream",
     "text": [
      "[0.4704741  0.52952594]\n",
      "Image 154.jpg is good, writing to good directory\n",
      "[0.32457173 0.6754282 ]\n",
      "Image 155.jpg is good, writing to good directory\n",
      "[0.7496128 0.2503872]\n",
      "Image 156.jpg is bad, writing to bad directory\n",
      "[0.969912   0.03008794]\n",
      "Image 157.jpg is bad, writing to bad directory\n",
      "[0.25556716 0.74443287]\n",
      "Image 158.jpg is good, writing to good directory\n",
      "[0.23601006 0.7639899 ]\n",
      "Image 159.jpg is good, writing to good directory\n",
      "[0.5752055 0.4247945]\n",
      "Image 160.jpg is bad, writing to bad directory\n",
      "[0.15965515 0.84034485]\n",
      "Image 161.jpg is good, writing to good directory\n",
      "[0.726314 0.273686]\n",
      "Image 162.jpg is bad, writing to bad directory\n",
      "[0.3273865  0.67261356]\n",
      "Image 163.jpg is good, writing to good directory\n",
      "[0.41417164 0.5858284 ]\n",
      "Image 164.jpg is good, writing to good directory\n",
      "[0.04105109 0.9589489 ]\n",
      "Image 165.jpg is good, writing to good directory\n",
      "[0.7423067  0.25769332]\n",
      "Image 166.jpg is bad, writing to bad directory\n",
      "[0.06585696 0.934143  ]\n",
      "Image 167.jpg is good, writing to good directory\n"
     ]
    },
    {
     "name": "stderr",
     "output_type": "stream",
     "text": [
      " 11%|█         | 176/1600 [00:02<00:20, 68.16it/s]"
     ]
    },
    {
     "name": "stdout",
     "output_type": "stream",
     "text": [
      "[0.2957488 0.7042512]\n",
      "Image 168.jpg is good, writing to good directory\n",
      "[0.06281321 0.9371868 ]\n",
      "Image 169.jpg is good, writing to good directory\n",
      "[0.87035763 0.1296423 ]\n",
      "Image 170.jpg is bad, writing to bad directory\n",
      "[0.0986408  0.90135914]\n",
      "Image 171.jpg is good, writing to good directory\n",
      "[0.63393974 0.3660603 ]\n",
      "Image 172.jpg is bad, writing to bad directory\n",
      "[0.0377269 0.9622731]\n",
      "Image 173.jpg is good, writing to good directory\n",
      "[0.3662589 0.6337411]\n",
      "Image 174.jpg is good, writing to good directory\n",
      "[0.17226577 0.82773423]\n",
      "Image 175.jpg is good, writing to good directory\n",
      "[0.5708096  0.42919037]\n",
      "Image 176.jpg is bad, writing to bad directory\n",
      "[0.14762023 0.8523798 ]\n",
      "Image 177.jpg is good, writing to good directory\n",
      "[0.5546575  0.44534248]\n",
      "Image 178.jpg is bad, writing to bad directory\n",
      "[0.49881318 0.50118685]\n",
      "Image 179.jpg is good, writing to good directory\n",
      "[0.725019   0.27498105]\n",
      "Image 180.jpg is bad, writing to bad directory\n",
      "[0.2192188  0.78078115]\n",
      "Image 181.jpg is good, writing to good directory\n"
     ]
    },
    {
     "name": "stderr",
     "output_type": "stream",
     "text": [
      " 12%|█▏        | 191/1600 [00:02<00:20, 69.48it/s]"
     ]
    },
    {
     "name": "stdout",
     "output_type": "stream",
     "text": [
      "[0.5235864  0.47641364]\n",
      "Image 182.jpg is bad, writing to bad directory\n",
      "[0.2937301 0.7062699]\n",
      "Image 183.jpg is good, writing to good directory\n",
      "[0.33249858 0.66750145]\n",
      "Image 184.jpg is good, writing to good directory\n",
      "[0.29009983 0.7099002 ]\n",
      "Image 185.jpg is good, writing to good directory\n",
      "[0.11260024 0.8873998 ]\n",
      "Image 186.jpg is good, writing to good directory\n",
      "[0.14828138 0.8517186 ]\n",
      "Image 187.jpg is good, writing to good directory\n",
      "[0.03156586 0.9684342 ]\n",
      "Image 188.jpg is good, writing to good directory\n",
      "[0.9103534 0.0896466]\n",
      "Image 189.jpg is bad, writing to bad directory\n",
      "[0.05865664 0.94134337]\n",
      "Image 190.jpg is good, writing to good directory\n",
      "[0.9379045  0.06209551]\n",
      "Image 191.jpg is bad, writing to bad directory\n",
      "[0.61034495 0.389655  ]\n",
      "Image 192.jpg is bad, writing to bad directory\n",
      "[0.5049797  0.49502024]\n",
      "Image 193.jpg is bad, writing to bad directory\n",
      "[0.8193147  0.18068527]\n",
      "Image 194.jpg is bad, writing to bad directory\n",
      "[0.8457279  0.15427205]\n",
      "Image 195.jpg is bad, writing to bad directory\n",
      "[0.42807856 0.57192147]\n",
      "Image 196.jpg is good, writing to good directory\n"
     ]
    },
    {
     "name": "stderr",
     "output_type": "stream",
     "text": [
      " 13%|█▎        | 207/1600 [00:02<00:19, 71.03it/s]"
     ]
    },
    {
     "name": "stdout",
     "output_type": "stream",
     "text": [
      "[0.69618 0.30382]\n",
      "Image 197.jpg is bad, writing to bad directory\n",
      "[0.25994033 0.7400597 ]\n",
      "Image 198.jpg is good, writing to good directory\n",
      "[0.6598474  0.34015262]\n",
      "Image 199.jpg is bad, writing to bad directory\n",
      "[0.34824517 0.65175486]\n",
      "Image 200.jpg is good, writing to good directory\n",
      "[0.3498269 0.6501731]\n",
      "Image 201.jpg is good, writing to good directory\n",
      "[0.3436771  0.65632296]\n",
      "Image 202.jpg is good, writing to good directory\n",
      "[0.09861998 0.90138   ]\n",
      "Image 203.jpg is good, writing to good directory\n",
      "[0.26261568 0.7373843 ]\n",
      "Image 204.jpg is good, writing to good directory\n",
      "[0.01481123 0.98518884]\n",
      "Image 205.jpg is good, writing to good directory\n",
      "[0.31471422 0.6852858 ]\n",
      "Image 206.jpg is good, writing to good directory\n",
      "[0.31615782 0.6838421 ]\n",
      "Image 207.jpg is good, writing to good directory\n",
      "[0.21336298 0.786637  ]\n",
      "Image 208.jpg is good, writing to good directory\n",
      "[0.44876194 0.55123806]\n",
      "Image 209.jpg is good, writing to good directory\n",
      "[0.736018   0.26398203]\n",
      "Image 210.jpg is bad, writing to bad directory\n",
      "[0.7193682 0.2806318]\n",
      "Image 211.jpg is bad, writing to bad directory\n"
     ]
    },
    {
     "name": "stderr",
     "output_type": "stream",
     "text": [
      " 14%|█▍        | 223/1600 [00:03<00:19, 71.52it/s]"
     ]
    },
    {
     "name": "stdout",
     "output_type": "stream",
     "text": [
      "[0.8540378 0.1459622]\n",
      "Image 212.jpg is bad, writing to bad directory\n",
      "[0.8783058  0.12169418]\n",
      "Image 213.jpg is bad, writing to bad directory\n",
      "[0.31844378 0.6815562 ]\n",
      "Image 214.jpg is good, writing to good directory\n",
      "[0.2565376  0.74346244]\n",
      "Image 215.jpg is good, writing to good directory\n",
      "[0.7994258 0.2005742]\n",
      "Image 216.jpg is bad, writing to bad directory\n",
      "[0.5262695 0.4737305]\n",
      "Image 217.jpg is bad, writing to bad directory\n",
      "[0.38581017 0.61418986]\n",
      "Image 218.jpg is good, writing to good directory\n",
      "[0.04971522 0.95028484]\n",
      "Image 219.jpg is good, writing to good directory\n",
      "[0.7739505  0.22604953]\n",
      "Image 220.jpg is bad, writing to bad directory\n",
      "[0.09625193 0.9037481 ]\n",
      "Image 221.jpg is good, writing to good directory\n",
      "[0.5929457  0.40705428]\n",
      "Image 222.jpg is bad, writing to bad directory\n",
      "[0.73962915 0.26037088]\n",
      "Image 223.jpg is bad, writing to bad directory\n",
      "[0.6047683  0.39523175]\n",
      "Image 224.jpg is bad, writing to bad directory\n",
      "[0.5002349 0.4997651]\n",
      "Image 225.jpg is bad, writing to bad directory\n",
      "[0.25466004 0.74533993]\n",
      "Image 226.jpg is good, writing to good directory\n"
     ]
    },
    {
     "name": "stderr",
     "output_type": "stream",
     "text": [
      " 15%|█▍        | 239/1600 [00:03<00:18, 73.35it/s]"
     ]
    },
    {
     "name": "stdout",
     "output_type": "stream",
     "text": [
      "[0.9607821  0.03921793]\n",
      "Image 227.jpg is bad, writing to bad directory\n",
      "[0.8452043  0.15479565]\n",
      "Image 228.jpg is bad, writing to bad directory\n",
      "[0.28922397 0.71077603]\n",
      "Image 229.jpg is good, writing to good directory\n",
      "[0.20801929 0.79198074]\n",
      "Image 230.jpg is good, writing to good directory\n",
      "[0.73811275 0.26188722]\n",
      "Image 231.jpg is bad, writing to bad directory\n",
      "[0.2268573  0.77314276]\n",
      "Image 232.jpg is good, writing to good directory\n",
      "[0.49400395 0.50599605]\n",
      "Image 233.jpg is good, writing to good directory\n",
      "[0.5320388 0.4679612]\n",
      "Image 234.jpg is bad, writing to bad directory\n",
      "[0.60530794 0.39469206]\n",
      "Image 235.jpg is bad, writing to bad directory\n",
      "[0.17617044 0.82382953]\n",
      "Image 236.jpg is good, writing to good directory\n",
      "[0.9931338  0.00686615]\n",
      "Image 237.jpg is bad, writing to bad directory\n",
      "[0.12846206 0.871538  ]\n",
      "Image 238.jpg is good, writing to good directory\n",
      "[0.06913122 0.9308688 ]\n",
      "Image 239.jpg is good, writing to good directory\n",
      "[0.2505823 0.7494177]\n",
      "Image 240.jpg is good, writing to good directory\n",
      "[0.7397283  0.26027176]\n",
      "Image 241.jpg is bad, writing to bad directory\n"
     ]
    },
    {
     "name": "stderr",
     "output_type": "stream",
     "text": [
      " 16%|█▌        | 255/1600 [00:03<00:18, 71.75it/s]"
     ]
    },
    {
     "name": "stdout",
     "output_type": "stream",
     "text": [
      "[0.22581038 0.77418965]\n",
      "Image 242.jpg is good, writing to good directory\n",
      "[0.8360991 0.1639009]\n",
      "Image 243.jpg is bad, writing to bad directory\n",
      "[0.18929455 0.8107055 ]\n",
      "Image 244.jpg is good, writing to good directory\n",
      "[0.3318749 0.6681251]\n",
      "Image 245.jpg is good, writing to good directory\n",
      "[0.38605252 0.61394745]\n",
      "Image 246.jpg is good, writing to good directory\n",
      "[0.51743644 0.48256353]\n",
      "Image 247.jpg is bad, writing to bad directory\n",
      "[0.01526739 0.98473257]\n",
      "Image 248.jpg is good, writing to good directory\n",
      "[0.15947694 0.840523  ]\n",
      "Image 249.jpg is good, writing to good directory\n",
      "[0.36599937 0.6340006 ]\n",
      "Image 250.jpg is good, writing to good directory\n",
      "[0.70089006 0.29910997]\n",
      "Image 251.jpg is bad, writing to bad directory\n",
      "[0.59762114 0.40237892]\n",
      "Image 252.jpg is bad, writing to bad directory\n",
      "[0.3603423 0.6396577]\n",
      "Image 253.jpg is good, writing to good directory\n",
      "[0.64403695 0.35596302]\n",
      "Image 254.jpg is bad, writing to bad directory\n",
      "[0.9806066  0.01939339]\n",
      "Image 255.jpg is bad, writing to bad directory\n",
      "[0.08339358 0.9166064 ]\n",
      "Image 256.jpg is good, writing to good directory\n"
     ]
    },
    {
     "name": "stderr",
     "output_type": "stream",
     "text": [
      " 17%|█▋        | 271/1600 [00:03<00:18, 71.95it/s]"
     ]
    },
    {
     "name": "stdout",
     "output_type": "stream",
     "text": [
      "[0.07171161 0.9282884 ]\n",
      "Image 257.jpg is good, writing to good directory\n",
      "[0.06082283 0.93917716]\n",
      "Image 258.jpg is good, writing to good directory\n",
      "[0.38429838 0.6157016 ]\n",
      "Image 259.jpg is good, writing to good directory\n",
      "[0.70790553 0.29209447]\n",
      "Image 260.jpg is bad, writing to bad directory\n",
      "[0.34931403 0.65068597]\n",
      "Image 261.jpg is good, writing to good directory\n",
      "[0.09882254 0.90117747]\n",
      "Image 262.jpg is good, writing to good directory\n",
      "[0.9929609  0.00703907]\n",
      "Image 263.jpg is bad, writing to bad directory\n",
      "[0.53910106 0.46089894]\n",
      "Image 264.jpg is bad, writing to bad directory\n",
      "[0.781139   0.21886103]\n",
      "Image 265.jpg is bad, writing to bad directory\n",
      "[0.08431552 0.91568446]\n",
      "Image 266.jpg is good, writing to good directory\n",
      "[0.1422159 0.8577841]\n",
      "Image 267.jpg is good, writing to good directory\n",
      "[0.53313285 0.4668671 ]\n",
      "Image 268.jpg is bad, writing to bad directory\n",
      "[0.9701536  0.02984635]\n",
      "Image 269.jpg is bad, writing to bad directory\n",
      "[0.1899555 0.8100445]\n",
      "Image 270.jpg is good, writing to good directory\n"
     ]
    },
    {
     "name": "stderr",
     "output_type": "stream",
     "text": [
      " 17%|█▋        | 279/1600 [00:03<00:18, 71.60it/s]"
     ]
    },
    {
     "name": "stdout",
     "output_type": "stream",
     "text": [
      "[0.36920366 0.6307963 ]\n",
      "Image 271.jpg is good, writing to good directory\n",
      "[0.55475485 0.44524518]\n",
      "Image 272.jpg is bad, writing to bad directory\n",
      "[0.988932   0.01106794]\n",
      "Image 273.jpg is bad, writing to bad directory\n",
      "[0.46019888 0.5398011 ]\n",
      "Image 274.jpg is good, writing to good directory\n",
      "[0.47771394 0.522286  ]\n",
      "Image 275.jpg is good, writing to good directory\n",
      "[0.5569468  0.44305316]\n",
      "Image 276.jpg is bad, writing to bad directory\n",
      "[0.01565861 0.9843413 ]\n",
      "Image 277.jpg is good, writing to good directory\n",
      "[0.49461982 0.5053802 ]\n",
      "Image 278.jpg is good, writing to good directory\n",
      "[0.97362703 0.02637297]\n",
      "Image 279.jpg is bad, writing to bad directory\n",
      "[0.47317484 0.5268252 ]\n",
      "Image 280.jpg is good, writing to good directory\n",
      "[0.11724198 0.8827581 ]\n",
      "Image 281.jpg is good, writing to good directory\n",
      "[0.58302194 0.41697803]\n",
      "Image 282.jpg is bad, writing to bad directory\n",
      "[0.5450977 0.4549023]\n",
      "Image 283.jpg is bad, writing to bad directory\n"
     ]
    },
    {
     "name": "stderr",
     "output_type": "stream",
     "text": [
      " 18%|█▊        | 295/1600 [00:04<00:17, 72.78it/s]"
     ]
    },
    {
     "name": "stdout",
     "output_type": "stream",
     "text": [
      "[0.37734154 0.6226585 ]\n",
      "Image 284.jpg is good, writing to good directory\n",
      "[0.8159635 0.1840365]\n",
      "Image 285.jpg is bad, writing to bad directory\n",
      "[0.56357807 0.4364219 ]\n",
      "Image 286.jpg is bad, writing to bad directory\n",
      "[0.8625463  0.13745366]\n",
      "Image 287.jpg is bad, writing to bad directory\n",
      "[0.2969821  0.70301783]\n",
      "Image 288.jpg is good, writing to good directory\n",
      "[0.334407   0.66559297]\n",
      "Image 289.jpg is good, writing to good directory\n",
      "[0.3985882  0.60141176]\n",
      "Image 290.jpg is good, writing to good directory\n",
      "[0.82420826 0.1757917 ]\n",
      "Image 291.jpg is bad, writing to bad directory\n",
      "[0.59908855 0.40091145]\n",
      "Image 292.jpg is bad, writing to bad directory\n",
      "[0.82631576 0.17368421]\n",
      "Image 293.jpg is bad, writing to bad directory\n",
      "[0.76662046 0.23337953]\n",
      "Image 294.jpg is bad, writing to bad directory\n",
      "[0.0647615  0.93523854]\n",
      "Image 295.jpg is good, writing to good directory\n",
      "[0.77610123 0.2238988 ]\n",
      "Image 296.jpg is bad, writing to bad directory\n",
      "[0.5202776  0.47972232]\n",
      "Image 297.jpg is bad, writing to bad directory\n",
      "[0.26476893 0.7352311 ]\n",
      "Image 298.jpg is good, writing to good directory\n"
     ]
    },
    {
     "name": "stderr",
     "output_type": "stream",
     "text": [
      " 19%|█▉        | 311/1600 [00:04<00:17, 73.62it/s]"
     ]
    },
    {
     "name": "stdout",
     "output_type": "stream",
     "text": [
      "[0.5786074  0.42139265]\n",
      "Image 299.jpg is bad, writing to bad directory\n",
      "[0.20760204 0.792398  ]\n",
      "Image 300.jpg is good, writing to good directory\n",
      "[0.19205447 0.8079455 ]\n",
      "Image 301.jpg is good, writing to good directory\n",
      "[0.5187991  0.48120093]\n",
      "Image 302.jpg is bad, writing to bad directory\n",
      "[0.29317448 0.7068255 ]\n",
      "Image 303.jpg is good, writing to good directory\n",
      "[0.07835571 0.9216443 ]\n",
      "Image 304.jpg is good, writing to good directory\n",
      "[0.53386205 0.4661379 ]\n",
      "Image 305.jpg is bad, writing to bad directory\n",
      "[0.6298281 0.3701719]\n",
      "Image 306.jpg is bad, writing to bad directory\n",
      "[0.99217564 0.0078244 ]\n",
      "Image 307.jpg is bad, writing to bad directory\n",
      "[0.341135   0.65886503]\n",
      "Image 308.jpg is good, writing to good directory\n",
      "[0.71013343 0.28986657]\n",
      "Image 309.jpg is bad, writing to bad directory\n",
      "[0.37260187 0.62739813]\n",
      "Image 310.jpg is good, writing to good directory\n",
      "[0.23534371 0.76465625]\n",
      "Image 311.jpg is good, writing to good directory\n",
      "[0.41144702 0.588553  ]\n",
      "Image 312.jpg is good, writing to good directory\n",
      "[0.2964952 0.7035048]\n",
      "Image 313.jpg is good, writing to good directory\n",
      "[0.41656086 0.5834391 ]\n",
      "Image 314.jpg is good, writing to good directory\n"
     ]
    },
    {
     "name": "stderr",
     "output_type": "stream",
     "text": [
      " 20%|██        | 327/1600 [00:04<00:17, 71.78it/s]"
     ]
    },
    {
     "name": "stdout",
     "output_type": "stream",
     "text": [
      "[0.81674254 0.18325752]\n",
      "Image 315.jpg is bad, writing to bad directory\n",
      "[0.30811548 0.6918845 ]\n",
      "Image 316.jpg is good, writing to good directory\n",
      "[0.27406955 0.7259304 ]\n",
      "Image 317.jpg is good, writing to good directory\n",
      "[0.4075606 0.5924394]\n",
      "Image 318.jpg is good, writing to good directory\n",
      "[0.89604056 0.10395945]\n",
      "Image 319.jpg is bad, writing to bad directory\n",
      "[0.37081257 0.62918746]\n",
      "Image 320.jpg is good, writing to good directory\n",
      "[0.23286384 0.76713616]\n",
      "Image 321.jpg is good, writing to good directory\n",
      "[0.11039078 0.8896093 ]\n",
      "Image 322.jpg is good, writing to good directory\n",
      "[0.38657722 0.61342275]\n",
      "Image 323.jpg is good, writing to good directory\n",
      "[0.5778724  0.42212766]\n",
      "Image 324.jpg is bad, writing to bad directory\n",
      "[0.61471    0.38529006]\n",
      "Image 325.jpg is bad, writing to bad directory\n",
      "[0.34353456 0.6564654 ]\n",
      "Image 326.jpg is good, writing to good directory\n",
      "[0.72817594 0.27182403]\n",
      "Image 327.jpg is bad, writing to bad directory\n",
      "[0.523365   0.47663498]\n",
      "Image 328.jpg is bad, writing to bad directory\n",
      "[0.6961268  0.30387318]\n",
      "Image 329.jpg is bad, writing to bad directory\n"
     ]
    },
    {
     "name": "stderr",
     "output_type": "stream",
     "text": [
      " 21%|██        | 336/1600 [00:04<00:17, 74.16it/s]"
     ]
    },
    {
     "name": "stdout",
     "output_type": "stream",
     "text": [
      "[0.71406716 0.2859329 ]\n",
      "Image 330.jpg is bad, writing to bad directory\n",
      "[0.5381029 0.4618971]\n",
      "Image 331.jpg is bad, writing to bad directory\n",
      "[0.14895271 0.8510473 ]\n",
      "Image 332.jpg is good, writing to good directory\n",
      "[0.61455286 0.38544714]\n",
      "Image 333.jpg is bad, writing to bad directory\n",
      "[0.8193493  0.18065068]\n",
      "Image 334.jpg is bad, writing to bad directory\n",
      "[0.42317542 0.57682455]\n",
      "Image 335.jpg is good, writing to good directory\n",
      "[0.45545384 0.5445461 ]\n",
      "Image 336.jpg is good, writing to good directory\n",
      "[0.16407335 0.8359266 ]\n",
      "Image 337.jpg is good, writing to good directory\n",
      "[0.7893314  0.21066864]\n",
      "Image 338.jpg is bad, writing to bad directory\n",
      "[0.16799127 0.8320087 ]\n",
      "Image 339.jpg is good, writing to good directory\n",
      "[0.20762978 0.7923702 ]\n",
      "Image 340.jpg is good, writing to good directory\n",
      "[0.27780792 0.7221921 ]\n",
      "Image 341.jpg is good, writing to good directory\n",
      "[0.5162708  0.48372918]\n",
      "Image 342.jpg is bad, writing to bad directory\n",
      "[0.42337456 0.57662547]\n",
      "Image 343.jpg is good, writing to good directory\n"
     ]
    },
    {
     "name": "stderr",
     "output_type": "stream",
     "text": [
      " 22%|██▏       | 352/1600 [00:04<00:17, 72.25it/s]"
     ]
    },
    {
     "name": "stdout",
     "output_type": "stream",
     "text": [
      "[0.2409923  0.75900775]\n",
      "Image 344.jpg is good, writing to good directory\n",
      "[0.07244201 0.92755795]\n",
      "Image 345.jpg is good, writing to good directory\n",
      "[0.18299724 0.8170027 ]\n",
      "Image 346.jpg is good, writing to good directory\n",
      "[0.6303037  0.36969638]\n",
      "Image 347.jpg is bad, writing to bad directory\n",
      "[0.18996465 0.81003535]\n",
      "Image 348.jpg is good, writing to good directory\n",
      "[0.32784262 0.6721574 ]\n",
      "Image 349.jpg is good, writing to good directory\n",
      "[0.00626464 0.9937354 ]\n",
      "Image 350.jpg is good, writing to good directory\n",
      "[0.3476625  0.65233755]\n",
      "Image 351.jpg is good, writing to good directory\n",
      "[0.03103923 0.96896076]\n",
      "Image 352.jpg is good, writing to good directory\n",
      "[0.06387749 0.93612254]\n",
      "Image 353.jpg is good, writing to good directory\n",
      "[0.4172915 0.5827085]\n",
      "Image 354.jpg is good, writing to good directory\n",
      "[0.53384846 0.46615148]\n",
      "Image 355.jpg is bad, writing to bad directory\n",
      "[0.5856524 0.4143476]\n",
      "Image 356.jpg is bad, writing to bad directory\n",
      "[0.4057954 0.5942046]\n",
      "Image 357.jpg is good, writing to good directory\n"
     ]
    },
    {
     "name": "stderr",
     "output_type": "stream",
     "text": [
      " 23%|██▎       | 368/1600 [00:05<00:18, 65.10it/s]"
     ]
    },
    {
     "name": "stdout",
     "output_type": "stream",
     "text": [
      "[0.6049555  0.39504448]\n",
      "Image 358.jpg is bad, writing to bad directory\n",
      "[0.92839855 0.07160144]\n",
      "Image 359.jpg is bad, writing to bad directory\n",
      "[0.12305401 0.87694603]\n",
      "Image 360.jpg is good, writing to good directory\n",
      "[0.328471 0.671529]\n",
      "Image 361.jpg is good, writing to good directory\n",
      "[0.80925953 0.19074044]\n",
      "Image 362.jpg is bad, writing to bad directory\n",
      "[0.4613597  0.53864026]\n",
      "Image 363.jpg is good, writing to good directory\n",
      "[0.27009788 0.72990215]\n",
      "Image 364.jpg is good, writing to good directory\n",
      "[0.43123153 0.56876844]\n",
      "Image 365.jpg is good, writing to good directory\n",
      "[0.6620042 0.3379958]\n",
      "Image 366.jpg is bad, writing to bad directory\n",
      "[0.17309478 0.82690525]\n",
      "Image 367.jpg is good, writing to good directory\n",
      "[0.74786496 0.25213504]\n",
      "Image 368.jpg is bad, writing to bad directory\n",
      "[0.05905864 0.9409414 ]\n",
      "Image 369.jpg is good, writing to good directory\n"
     ]
    },
    {
     "name": "stderr",
     "output_type": "stream",
     "text": [
      " 24%|██▍       | 384/1600 [00:05<00:17, 69.95it/s]"
     ]
    },
    {
     "name": "stdout",
     "output_type": "stream",
     "text": [
      "[0.32082367 0.67917633]\n",
      "Image 370.jpg is good, writing to good directory\n",
      "[0.25171137 0.7482887 ]\n",
      "Image 371.jpg is good, writing to good directory\n",
      "[0.6869352  0.31306475]\n",
      "Image 372.jpg is bad, writing to bad directory\n",
      "[0.7986354  0.20136458]\n",
      "Image 373.jpg is bad, writing to bad directory\n",
      "[0.38040802 0.61959195]\n",
      "Image 374.jpg is good, writing to good directory\n",
      "[0.03857115 0.9614288 ]\n",
      "Image 375.jpg is good, writing to good directory\n",
      "[0.8105899  0.18941005]\n",
      "Image 376.jpg is bad, writing to bad directory\n",
      "[0.88878906 0.11121094]\n",
      "Image 377.jpg is bad, writing to bad directory\n",
      "[0.8441718 0.1558282]\n",
      "Image 378.jpg is bad, writing to bad directory\n",
      "[0.05372963 0.94627035]\n",
      "Image 379.jpg is good, writing to good directory\n",
      "[0.77262384 0.2273762 ]\n",
      "Image 380.jpg is bad, writing to bad directory\n",
      "[0.7137168  0.28628317]\n",
      "Image 381.jpg is bad, writing to bad directory\n",
      "[0.26059255 0.7394075 ]\n",
      "Image 382.jpg is good, writing to good directory\n",
      "[0.07375091 0.9262491 ]\n",
      "Image 383.jpg is good, writing to good directory\n",
      "[0.26351774 0.73648226]\n",
      "Image 384.jpg is good, writing to good directory\n",
      "[0.2588745  0.74112546]\n",
      "Image 385.jpg is good, writing to good directory\n"
     ]
    },
    {
     "name": "stderr",
     "output_type": "stream",
     "text": [
      " 24%|██▍       | 392/1600 [00:05<00:17, 69.47it/s]"
     ]
    },
    {
     "name": "stdout",
     "output_type": "stream",
     "text": [
      "[0.07166039 0.92833966]\n",
      "Image 386.jpg is good, writing to good directory\n",
      "[0.30028358 0.69971645]\n",
      "Image 387.jpg is good, writing to good directory\n",
      "[0.7279791  0.27202088]\n",
      "Image 388.jpg is bad, writing to bad directory\n",
      "[0.03240356 0.9675964 ]\n",
      "Image 389.jpg is good, writing to good directory\n",
      "[0.32956675 0.6704332 ]\n",
      "Image 390.jpg is good, writing to good directory\n",
      "[0.81940764 0.18059233]\n",
      "Image 391.jpg is bad, writing to bad directory\n",
      "[0.69242424 0.30757576]\n",
      "Image 392.jpg is bad, writing to bad directory\n",
      "[0.44658628 0.55341375]\n",
      "Image 393.jpg is good, writing to good directory\n",
      "[0.09208377 0.9079162 ]\n",
      "Image 394.jpg is good, writing to good directory\n",
      "[0.91686773 0.0831323 ]\n",
      "Image 395.jpg is bad, writing to bad directory\n",
      "[0.80947787 0.19052216]\n",
      "Image 396.jpg is bad, writing to bad directory\n",
      "[0.88217866 0.11782136]\n",
      "Image 397.jpg is bad, writing to bad directory\n",
      "[0.09068988 0.90931016]\n",
      "Image 398.jpg is good, writing to good directory\n",
      "[0.78958946 0.2104105 ]\n",
      "Image 399.jpg is bad, writing to bad directory\n"
     ]
    },
    {
     "name": "stderr",
     "output_type": "stream",
     "text": [
      " 26%|██▌       | 408/1600 [00:05<00:16, 71.45it/s]"
     ]
    },
    {
     "name": "stdout",
     "output_type": "stream",
     "text": [
      "[0.3728538  0.62714624]\n",
      "Image 400.jpg is good, writing to good directory\n",
      "[0.96103257 0.03896745]\n",
      "Image 401.jpg is bad, writing to bad directory\n",
      "[0.8625076 0.1374924]\n",
      "Image 402.jpg is bad, writing to bad directory\n",
      "[0.5157852  0.48421475]\n",
      "Image 403.jpg is bad, writing to bad directory\n",
      "[0.2128267 0.7871733]\n",
      "Image 404.jpg is good, writing to good directory\n",
      "[0.69396925 0.30603078]\n",
      "Image 405.jpg is bad, writing to bad directory\n",
      "[0.8476261  0.15237388]\n",
      "Image 406.jpg is bad, writing to bad directory\n",
      "[0.00654271 0.99345726]\n",
      "Image 407.jpg is good, writing to good directory\n",
      "[0.6489945  0.35100546]\n",
      "Image 408.jpg is bad, writing to bad directory\n",
      "[0.9475122 0.0524878]\n",
      "Image 409.jpg is bad, writing to bad directory\n",
      "[0.11165474 0.8883453 ]\n",
      "Image 410.jpg is good, writing to good directory\n",
      "[0.47141293 0.52858704]\n",
      "Image 411.jpg is good, writing to good directory\n",
      "[0.72526675 0.27473328]\n",
      "Image 412.jpg is bad, writing to bad directory\n",
      "[0.8942372  0.10576275]\n",
      "Image 413.jpg is bad, writing to bad directory\n",
      "[0.8200284  0.17997159]\n",
      "Image 414.jpg is bad, writing to bad directory\n"
     ]
    },
    {
     "name": "stderr",
     "output_type": "stream",
     "text": [
      " 26%|██▋       | 424/1600 [00:05<00:16, 71.73it/s]"
     ]
    },
    {
     "name": "stdout",
     "output_type": "stream",
     "text": [
      "[0.2715463  0.72845376]\n",
      "Image 415.jpg is good, writing to good directory\n",
      "[0.02990604 0.97009397]\n",
      "Image 416.jpg is good, writing to good directory\n",
      "[0.87297666 0.12702337]\n",
      "Image 417.jpg is bad, writing to bad directory\n",
      "[0.39428315 0.6057169 ]\n",
      "Image 418.jpg is good, writing to good directory\n",
      "[0.61003673 0.38996324]\n",
      "Image 419.jpg is bad, writing to bad directory\n",
      "[0.13664521 0.8633548 ]\n",
      "Image 420.jpg is good, writing to good directory\n",
      "[0.47133827 0.52866167]\n",
      "Image 421.jpg is good, writing to good directory\n",
      "[0.4503593 0.5496407]\n",
      "Image 422.jpg is good, writing to good directory\n",
      "[0.43360433 0.56639564]\n",
      "Image 423.jpg is good, writing to good directory\n",
      "[0.13775285 0.86224717]\n",
      "Image 424.jpg is good, writing to good directory\n",
      "[0.16493528 0.83506477]\n",
      "Image 425.jpg is good, writing to good directory\n",
      "[0.00804256 0.9919574 ]\n",
      "Image 426.jpg is good, writing to good directory\n",
      "[0.94928044 0.05071954]\n",
      "Image 427.jpg is bad, writing to bad directory\n",
      "[0.21093561 0.78906435]\n",
      "Image 428.jpg is good, writing to good directory\n",
      "[0.94552577 0.0544742 ]\n",
      "Image 429.jpg is bad, writing to bad directory\n"
     ]
    },
    {
     "name": "stderr",
     "output_type": "stream",
     "text": [
      " 28%|██▊       | 440/1600 [00:06<00:15, 73.17it/s]"
     ]
    },
    {
     "name": "stdout",
     "output_type": "stream",
     "text": [
      "[0.4998123 0.5001877]\n",
      "Image 430.jpg is good, writing to good directory\n",
      "[0.00940644 0.9905936 ]\n",
      "Image 431.jpg is good, writing to good directory\n",
      "[0.5520341  0.44796598]\n",
      "Image 432.jpg is bad, writing to bad directory\n",
      "[0.05738792 0.94261205]\n",
      "Image 433.jpg is good, writing to good directory\n",
      "[0.9031157  0.09688427]\n",
      "Image 434.jpg is bad, writing to bad directory\n",
      "[0.31101763 0.68898237]\n",
      "Image 435.jpg is good, writing to good directory\n",
      "[0.5345788  0.46542123]\n",
      "Image 436.jpg is bad, writing to bad directory\n",
      "[0.46102598 0.53897405]\n",
      "Image 437.jpg is good, writing to good directory\n",
      "[0.8895338  0.11046616]\n",
      "Image 438.jpg is bad, writing to bad directory\n",
      "[0.08895743 0.91104263]\n",
      "Image 439.jpg is good, writing to good directory\n",
      "[0.20978919 0.79021084]\n",
      "Image 440.jpg is good, writing to good directory\n",
      "[0.7357676 0.2642324]\n",
      "Image 441.jpg is bad, writing to bad directory\n",
      "[0.08577798 0.91422206]\n",
      "Image 442.jpg is good, writing to good directory\n",
      "[0.46212187 0.53787816]\n",
      "Image 443.jpg is good, writing to good directory\n"
     ]
    },
    {
     "name": "stderr",
     "output_type": "stream",
     "text": [
      " 28%|██▊       | 448/1600 [00:06<00:17, 64.08it/s]"
     ]
    },
    {
     "name": "stdout",
     "output_type": "stream",
     "text": [
      "[0.42503616 0.57496387]\n",
      "Image 444.jpg is good, writing to good directory\n",
      "[0.35027242 0.6497276 ]\n",
      "Image 445.jpg is good, writing to good directory\n",
      "[0.31552288 0.68447715]\n",
      "Image 446.jpg is good, writing to good directory\n",
      "[0.16565034 0.83434963]\n",
      "Image 447.jpg is good, writing to good directory\n",
      "[0.58773345 0.41226658]\n",
      "Image 448.jpg is bad, writing to bad directory\n",
      "[0.60885835 0.39114165]\n",
      "Image 449.jpg is bad, writing to bad directory\n",
      "[0.8659327  0.13406733]\n",
      "Image 450.jpg is bad, writing to bad directory\n",
      "[0.04070494 0.9592951 ]\n",
      "Image 451.jpg is good, writing to good directory\n",
      "[0.09198685 0.90801316]\n",
      "Image 452.jpg is good, writing to good directory\n",
      "[0.01074141 0.9892586 ]\n",
      "Image 453.jpg is good, writing to good directory\n",
      "[0.05925262 0.94074744]\n",
      "Image 454.jpg is good, writing to good directory\n"
     ]
    },
    {
     "name": "stderr",
     "output_type": "stream",
     "text": [
      " 29%|██▉       | 462/1600 [00:06<00:17, 63.62it/s]"
     ]
    },
    {
     "name": "stdout",
     "output_type": "stream",
     "text": [
      "[0.53425926 0.4657407 ]\n",
      "Image 455.jpg is bad, writing to bad directory\n",
      "[0.548289   0.45171103]\n",
      "Image 456.jpg is bad, writing to bad directory\n",
      "[0.6268366  0.37316346]\n",
      "Image 457.jpg is bad, writing to bad directory\n",
      "[0.8218586 0.1781414]\n",
      "Image 458.jpg is bad, writing to bad directory\n",
      "[0.30596405 0.69403595]\n",
      "Image 459.jpg is good, writing to good directory\n",
      "[0.6351988 0.3648012]\n",
      "Image 460.jpg is bad, writing to bad directory\n",
      "[0.07229621 0.92770374]\n",
      "Image 461.jpg is good, writing to good directory\n",
      "[0.83164907 0.16835093]\n",
      "Image 462.jpg is bad, writing to bad directory\n",
      "[0.17271176 0.8272882 ]\n",
      "Image 463.jpg is good, writing to good directory\n",
      "[0.39368454 0.6063155 ]\n",
      "Image 464.jpg is good, writing to good directory\n",
      "[0.43089923 0.5691008 ]\n",
      "Image 465.jpg is good, writing to good directory\n",
      "[0.0931687 0.9068313]\n",
      "Image 466.jpg is good, writing to good directory\n",
      "[0.3122628  0.68773717]\n",
      "Image 467.jpg is good, writing to good directory\n",
      "[0.5894675  0.41053247]\n",
      "Image 468.jpg is bad, writing to bad directory\n"
     ]
    },
    {
     "name": "stderr",
     "output_type": "stream",
     "text": [
      " 30%|██▉       | 477/1600 [00:06<00:16, 66.69it/s]"
     ]
    },
    {
     "name": "stdout",
     "output_type": "stream",
     "text": [
      "[0.21256052 0.7874395 ]\n",
      "Image 469.jpg is good, writing to good directory\n",
      "[0.6691269  0.33087307]\n",
      "Image 470.jpg is bad, writing to bad directory\n",
      "[0.36400124 0.6359988 ]\n",
      "Image 471.jpg is good, writing to good directory\n",
      "[0.27956814 0.72043186]\n",
      "Image 472.jpg is good, writing to good directory\n",
      "[0.08517984 0.91482013]\n",
      "Image 473.jpg is good, writing to good directory\n",
      "[0.36998248 0.6300175 ]\n",
      "Image 474.jpg is good, writing to good directory\n",
      "[0.1524325 0.8475675]\n",
      "Image 475.jpg is good, writing to good directory\n",
      "[0.33050472 0.6694953 ]\n",
      "Image 476.jpg is good, writing to good directory\n",
      "[0.1513819  0.84861815]\n",
      "Image 477.jpg is good, writing to good directory\n",
      "[0.48151073 0.5184893 ]\n",
      "Image 478.jpg is good, writing to good directory\n",
      "[0.19648878 0.8035112 ]\n",
      "Image 479.jpg is good, writing to good directory\n",
      "[0.16161333 0.8383867 ]\n",
      "Image 480.jpg is good, writing to good directory\n",
      "[0.9505131  0.04948694]\n",
      "Image 481.jpg is bad, writing to bad directory\n",
      "[0.21663721 0.7833628 ]\n",
      "Image 482.jpg is good, writing to good directory\n",
      "[0.10717625 0.89282376]\n",
      "Image 483.jpg is good, writing to good directory\n"
     ]
    },
    {
     "name": "stderr",
     "output_type": "stream",
     "text": [
      " 31%|███       | 491/1600 [00:06<00:16, 66.22it/s]"
     ]
    },
    {
     "name": "stdout",
     "output_type": "stream",
     "text": [
      "[0.20307082 0.7969292 ]\n",
      "Image 484.jpg is good, writing to good directory\n",
      "[0.04987593 0.950124  ]\n",
      "Image 485.jpg is good, writing to good directory\n",
      "[0.25195277 0.7480472 ]\n",
      "Image 486.jpg is good, writing to good directory\n",
      "[0.42121038 0.57878965]\n",
      "Image 487.jpg is good, writing to good directory\n",
      "[0.01428187 0.98571813]\n",
      "Image 488.jpg is good, writing to good directory\n",
      "[0.10542838 0.8945716 ]\n",
      "Image 489.jpg is good, writing to good directory\n",
      "[0.39271104 0.6072889 ]\n",
      "Image 490.jpg is good, writing to good directory\n",
      "[0.10406552 0.8959345 ]\n",
      "Image 491.jpg is good, writing to good directory\n",
      "[0.12665579 0.8733442 ]\n",
      "Image 492.jpg is good, writing to good directory\n",
      "[0.21692497 0.78307503]\n",
      "Image 493.jpg is good, writing to good directory\n",
      "[0.25012556 0.7498744 ]\n",
      "Image 494.jpg is good, writing to good directory\n",
      "[0.08564578 0.91435426]\n",
      "Image 495.jpg is good, writing to good directory\n",
      "[0.624805   0.37519506]\n",
      "Image 496.jpg is bad, writing to bad directory\n"
     ]
    },
    {
     "name": "stderr",
     "output_type": "stream",
     "text": [
      " 32%|███▏      | 505/1600 [00:07<00:18, 58.12it/s]"
     ]
    },
    {
     "name": "stdout",
     "output_type": "stream",
     "text": [
      "[0.5817918  0.41820824]\n",
      "Image 497.jpg is bad, writing to bad directory\n",
      "[0.2268188 0.7731812]\n",
      "Image 498.jpg is good, writing to good directory\n",
      "[0.7455343  0.25446573]\n",
      "Image 499.jpg is bad, writing to bad directory\n",
      "[0.16445746 0.8355425 ]\n",
      "Image 500.jpg is good, writing to good directory\n",
      "[0.32677698 0.673223  ]\n",
      "Image 501.jpg is good, writing to good directory\n",
      "[0.09318727 0.9068127 ]\n",
      "Image 502.jpg is good, writing to good directory\n",
      "[0.5565491  0.44345093]\n",
      "Image 503.jpg is bad, writing to bad directory\n",
      "[0.29361507 0.70638496]\n",
      "Image 504.jpg is good, writing to good directory\n",
      "[0.8769952  0.12300476]\n",
      "Image 505.jpg is bad, writing to bad directory\n",
      "[0.4686179  0.53138214]\n",
      "Image 506.jpg is good, writing to good directory\n"
     ]
    },
    {
     "name": "stderr",
     "output_type": "stream",
     "text": [
      " 32%|███▏      | 518/1600 [00:07<00:17, 60.99it/s]"
     ]
    },
    {
     "name": "stdout",
     "output_type": "stream",
     "text": [
      "[0.43283588 0.5671641 ]\n",
      "Image 507.jpg is good, writing to good directory\n",
      "[0.8754676  0.12453237]\n",
      "Image 508.jpg is bad, writing to bad directory\n",
      "[0.9118898  0.08811028]\n",
      "Image 509.jpg is bad, writing to bad directory\n",
      "[0.11925711 0.88074297]\n",
      "Image 510.jpg is good, writing to good directory\n",
      "[0.3715482  0.62845176]\n",
      "Image 511.jpg is good, writing to good directory\n",
      "[0.51173776 0.4882622 ]\n",
      "Image 512.jpg is bad, writing to bad directory\n",
      "[0.15129839 0.84870166]\n",
      "Image 513.jpg is good, writing to good directory\n",
      "[0.21209055 0.78790945]\n",
      "Image 514.jpg is good, writing to good directory\n",
      "[0.5625951  0.43740487]\n",
      "Image 515.jpg is bad, writing to bad directory\n",
      "[0.05982797 0.9401721 ]\n",
      "Image 516.jpg is good, writing to good directory\n",
      "[0.24770378 0.75229627]\n",
      "Image 517.jpg is good, writing to good directory\n",
      "[0.24014986 0.75985014]\n",
      "Image 518.jpg is good, writing to good directory\n",
      "[0.11651988 0.8834801 ]\n",
      "Image 519.jpg is good, writing to good directory\n",
      "[0.71986234 0.2801376 ]\n",
      "Image 520.jpg is bad, writing to bad directory\n"
     ]
    },
    {
     "name": "stderr",
     "output_type": "stream",
     "text": [
      " 33%|███▎      | 532/1600 [00:07<00:17, 62.63it/s]"
     ]
    },
    {
     "name": "stdout",
     "output_type": "stream",
     "text": [
      "[0.37026864 0.6297313 ]\n",
      "Image 521.jpg is good, writing to good directory\n",
      "[0.4332814  0.56671864]\n",
      "Image 522.jpg is good, writing to good directory\n",
      "[0.6382728  0.36172712]\n",
      "Image 523.jpg is bad, writing to bad directory\n",
      "[0.2781212 0.7218788]\n",
      "Image 524.jpg is good, writing to good directory\n",
      "[0.8596481 0.1403519]\n",
      "Image 525.jpg is bad, writing to bad directory\n",
      "[0.24641167 0.7535884 ]\n",
      "Image 526.jpg is good, writing to good directory\n",
      "[0.10564711 0.8943529 ]\n",
      "Image 527.jpg is good, writing to good directory\n",
      "[0.31894132 0.6810587 ]\n",
      "Image 528.jpg is good, writing to good directory\n",
      "[0.01162961 0.9883704 ]\n",
      "Image 529.jpg is good, writing to good directory\n",
      "[0.35763204 0.6423679 ]\n",
      "Image 530.jpg is good, writing to good directory\n",
      "[0.480337 0.519663]\n",
      "Image 531.jpg is good, writing to good directory\n",
      "[0.13917664 0.86082333]\n",
      "Image 532.jpg is good, writing to good directory\n",
      "[0.49645984 0.5035402 ]\n",
      "Image 533.jpg is good, writing to good directory\n",
      "[0.6652427  0.33475727]\n",
      "Image 534.jpg is bad, writing to bad directory\n"
     ]
    },
    {
     "name": "stderr",
     "output_type": "stream",
     "text": [
      " 34%|███▍      | 546/1600 [00:07<00:16, 65.05it/s]"
     ]
    },
    {
     "name": "stdout",
     "output_type": "stream",
     "text": [
      "[0.22195527 0.7780447 ]\n",
      "Image 535.jpg is good, writing to good directory\n",
      "[0.32866967 0.67133033]\n",
      "Image 536.jpg is good, writing to good directory\n",
      "[0.27711156 0.7228884 ]\n",
      "Image 537.jpg is good, writing to good directory\n",
      "[0.36174116 0.6382589 ]\n",
      "Image 538.jpg is good, writing to good directory\n",
      "[0.12475645 0.87524354]\n",
      "Image 539.jpg is good, writing to good directory\n",
      "[0.02717537 0.9728246 ]\n",
      "Image 540.jpg is good, writing to good directory\n",
      "[0.5251905  0.47480953]\n",
      "Image 541.jpg is bad, writing to bad directory\n",
      "[0.82888776 0.17111224]\n",
      "Image 542.jpg is bad, writing to bad directory\n",
      "[0.54947376 0.4505262 ]\n",
      "Image 543.jpg is bad, writing to bad directory\n",
      "[0.7680948 0.2319052]\n",
      "Image 544.jpg is bad, writing to bad directory\n",
      "[0.8606633  0.13933666]\n",
      "Image 545.jpg is bad, writing to bad directory\n",
      "[0.69083726 0.30916274]\n",
      "Image 546.jpg is bad, writing to bad directory\n",
      "[0.8561844  0.14381555]\n",
      "Image 547.jpg is bad, writing to bad directory\n",
      "[0.8473159  0.15268406]\n",
      "Image 548.jpg is bad, writing to bad directory\n"
     ]
    },
    {
     "name": "stderr",
     "output_type": "stream",
     "text": [
      " 35%|███▌      | 560/1600 [00:08<00:16, 64.59it/s]"
     ]
    },
    {
     "name": "stdout",
     "output_type": "stream",
     "text": [
      "[0.05609384 0.9439061 ]\n",
      "Image 549.jpg is good, writing to good directory\n",
      "[0.14317372 0.85682625]\n",
      "Image 550.jpg is good, writing to good directory\n",
      "[0.5792677 0.4207323]\n",
      "Image 551.jpg is bad, writing to bad directory\n",
      "[0.61857086 0.3814291 ]\n",
      "Image 552.jpg is bad, writing to bad directory\n",
      "[0.6559647  0.34403533]\n",
      "Image 553.jpg is bad, writing to bad directory\n",
      "[0.26355034 0.73644966]\n",
      "Image 554.jpg is good, writing to good directory\n",
      "[0.02157026 0.9784297 ]\n",
      "Image 555.jpg is good, writing to good directory\n",
      "[0.3033063 0.6966937]\n",
      "Image 556.jpg is good, writing to good directory\n",
      "[0.41472512 0.5852749 ]\n",
      "Image 557.jpg is good, writing to good directory\n",
      "[0.27756646 0.72243357]\n",
      "Image 558.jpg is good, writing to good directory\n",
      "[0.03839726 0.96160275]\n",
      "Image 559.jpg is good, writing to good directory\n",
      "[0.30462825 0.6953718 ]\n",
      "Image 560.jpg is good, writing to good directory\n",
      "[0.13455686 0.86544317]\n",
      "Image 561.jpg is good, writing to good directory\n"
     ]
    },
    {
     "name": "stderr",
     "output_type": "stream",
     "text": [
      " 35%|███▌      | 567/1600 [00:08<00:19, 54.26it/s]"
     ]
    },
    {
     "name": "stdout",
     "output_type": "stream",
     "text": [
      "[0.90385437 0.09614565]\n",
      "Image 562.jpg is bad, writing to bad directory\n",
      "[0.07443292 0.9255671 ]\n",
      "Image 563.jpg is good, writing to good directory\n",
      "[0.07920257 0.9207974 ]\n",
      "Image 564.jpg is good, writing to good directory\n",
      "[0.9688243  0.03117565]\n",
      "Image 565.jpg is bad, writing to bad directory\n",
      "[0.568765   0.43123505]\n",
      "Image 566.jpg is bad, writing to bad directory\n",
      "[0.14784427 0.8521557 ]\n",
      "Image 567.jpg is good, writing to good directory\n",
      "[0.22702254 0.7729775 ]\n",
      "Image 568.jpg is good, writing to good directory\n",
      "[0.09862722 0.9013728 ]\n",
      "Image 569.jpg is good, writing to good directory\n"
     ]
    },
    {
     "name": "stderr",
     "output_type": "stream",
     "text": [
      " 36%|███▋      | 580/1600 [00:08<00:18, 56.46it/s]"
     ]
    },
    {
     "name": "stdout",
     "output_type": "stream",
     "text": [
      "[0.49670154 0.50329846]\n",
      "Image 570.jpg is good, writing to good directory\n",
      "[0.59185356 0.4081464 ]\n",
      "Image 571.jpg is bad, writing to bad directory\n",
      "[0.10838348 0.8916165 ]\n",
      "Image 572.jpg is good, writing to good directory\n",
      "[0.01727393 0.9827261 ]\n",
      "Image 573.jpg is good, writing to good directory\n",
      "[0.3760611  0.62393886]\n",
      "Image 574.jpg is good, writing to good directory\n",
      "[0.47386426 0.52613574]\n",
      "Image 575.jpg is good, writing to good directory\n",
      "[0.75745535 0.2425447 ]\n",
      "Image 576.jpg is bad, writing to bad directory\n",
      "[0.9702297  0.02977027]\n",
      "Image 577.jpg is bad, writing to bad directory\n",
      "[0.8410302  0.15896982]\n",
      "Image 578.jpg is bad, writing to bad directory\n",
      "[0.5874048  0.41259518]\n",
      "Image 579.jpg is bad, writing to bad directory\n",
      "[0.34639215 0.65360785]\n",
      "Image 580.jpg is good, writing to good directory\n",
      "[0.06550944 0.93449056]\n",
      "Image 581.jpg is good, writing to good directory\n",
      "[0.6389967 0.3610033]\n",
      "Image 582.jpg is bad, writing to bad directory\n"
     ]
    },
    {
     "name": "stderr",
     "output_type": "stream",
     "text": [
      " 37%|███▋      | 595/1600 [00:08<00:16, 62.37it/s]"
     ]
    },
    {
     "name": "stdout",
     "output_type": "stream",
     "text": [
      "[0.9297088 0.0702912]\n",
      "Image 583.jpg is bad, writing to bad directory\n",
      "[0.51536244 0.4846376 ]\n",
      "Image 584.jpg is bad, writing to bad directory\n",
      "[0.12194116 0.87805885]\n",
      "Image 585.jpg is good, writing to good directory\n",
      "[0.06681562 0.9331844 ]\n",
      "Image 586.jpg is good, writing to good directory\n",
      "[0.7371672  0.26283285]\n",
      "Image 587.jpg is bad, writing to bad directory\n",
      "[0.49335364 0.50664634]\n",
      "Image 588.jpg is good, writing to good directory\n",
      "[0.32595465 0.6740454 ]\n",
      "Image 589.jpg is good, writing to good directory\n",
      "[0.4143022 0.5856978]\n",
      "Image 590.jpg is good, writing to good directory\n",
      "[0.09441287 0.9055871 ]\n",
      "Image 591.jpg is good, writing to good directory\n",
      "[0.1851482  0.81485176]\n",
      "Image 592.jpg is good, writing to good directory\n",
      "[0.23161815 0.76838183]\n",
      "Image 593.jpg is good, writing to good directory\n",
      "[0.7260736 0.2739264]\n",
      "Image 594.jpg is bad, writing to bad directory\n",
      "[0.57079184 0.42920813]\n",
      "Image 595.jpg is bad, writing to bad directory\n",
      "[0.38277093 0.6172291 ]\n",
      "Image 596.jpg is good, writing to good directory\n"
     ]
    },
    {
     "name": "stderr",
     "output_type": "stream",
     "text": [
      " 38%|███▊      | 609/1600 [00:08<00:15, 65.52it/s]"
     ]
    },
    {
     "name": "stdout",
     "output_type": "stream",
     "text": [
      "[0.6003644 0.3996356]\n",
      "Image 597.jpg is bad, writing to bad directory\n",
      "[0.21535689 0.78464305]\n",
      "Image 598.jpg is good, writing to good directory\n",
      "[0.0745302  0.92546976]\n",
      "Image 599.jpg is good, writing to good directory\n",
      "[0.13729575 0.8627042 ]\n",
      "Image 600.jpg is good, writing to good directory\n",
      "[0.3834888 0.6165112]\n",
      "Image 601.jpg is good, writing to good directory\n",
      "[0.7721025  0.22789754]\n",
      "Image 602.jpg is bad, writing to bad directory\n",
      "[0.9961123  0.00388769]\n",
      "Image 603.jpg is bad, writing to bad directory\n",
      "[0.31762224 0.68237776]\n",
      "Image 604.jpg is good, writing to good directory\n",
      "[0.28127083 0.7187292 ]\n",
      "Image 605.jpg is good, writing to good directory\n",
      "[0.36068088 0.6393191 ]\n",
      "Image 606.jpg is good, writing to good directory\n",
      "[0.26495665 0.73504335]\n",
      "Image 607.jpg is good, writing to good directory\n",
      "[0.16898723 0.8310128 ]\n",
      "Image 608.jpg is good, writing to good directory\n",
      "[0.37801558 0.6219844 ]\n",
      "Image 609.jpg is good, writing to good directory\n",
      "[0.39595255 0.6040474 ]\n",
      "Image 610.jpg is good, writing to good directory\n"
     ]
    },
    {
     "name": "stderr",
     "output_type": "stream",
     "text": [
      " 39%|███▉      | 623/1600 [00:09<00:14, 67.39it/s]"
     ]
    },
    {
     "name": "stdout",
     "output_type": "stream",
     "text": [
      "[0.03932444 0.9606756 ]\n",
      "Image 611.jpg is good, writing to good directory\n",
      "[0.6951218 0.3048782]\n",
      "Image 612.jpg is bad, writing to bad directory\n",
      "[0.3983125 0.6016875]\n",
      "Image 613.jpg is good, writing to good directory\n",
      "[0.11379162 0.88620836]\n",
      "Image 614.jpg is good, writing to good directory\n",
      "[0.8122715  0.18772848]\n",
      "Image 615.jpg is bad, writing to bad directory\n",
      "[0.3912115  0.60878855]\n",
      "Image 616.jpg is good, writing to good directory\n",
      "[0.08816455 0.91183543]\n",
      "Image 617.jpg is good, writing to good directory\n",
      "[0.17695834 0.8230417 ]\n",
      "Image 618.jpg is good, writing to good directory\n",
      "[0.15001516 0.8499849 ]\n",
      "Image 619.jpg is good, writing to good directory\n",
      "[0.87443817 0.12556176]\n",
      "Image 620.jpg is bad, writing to bad directory\n",
      "[0.01707745 0.98292255]\n",
      "Image 621.jpg is good, writing to good directory\n",
      "[0.5978484 0.4021516]\n",
      "Image 622.jpg is bad, writing to bad directory\n",
      "[0.6237213 0.3762787]\n",
      "Image 623.jpg is bad, writing to bad directory\n",
      "[0.78897077 0.21102922]\n",
      "Image 624.jpg is bad, writing to bad directory\n",
      "[0.99681026 0.00318975]\n",
      "Image 625.jpg is bad, writing to bad directory\n"
     ]
    },
    {
     "name": "stderr",
     "output_type": "stream",
     "text": [
      " 39%|███▉      | 631/1600 [00:09<00:13, 70.04it/s]"
     ]
    },
    {
     "name": "stdout",
     "output_type": "stream",
     "text": [
      "[0.81052107 0.1894789 ]\n",
      "Image 626.jpg is bad, writing to bad directory\n",
      "[0.2505831 0.7494169]\n",
      "Image 627.jpg is good, writing to good directory\n",
      "[0.30074796 0.69925207]\n",
      "Image 628.jpg is good, writing to good directory\n",
      "[0.04277775 0.9572223 ]\n",
      "Image 629.jpg is good, writing to good directory\n",
      "[0.46204633 0.5379536 ]\n",
      "Image 630.jpg is good, writing to good directory\n",
      "[0.31845483 0.6815452 ]\n",
      "Image 631.jpg is good, writing to good directory\n",
      "[0.03459251 0.9654075 ]\n",
      "Image 632.jpg is good, writing to good directory\n",
      "[0.42902577 0.57097423]\n",
      "Image 633.jpg is good, writing to good directory\n",
      "[0.257797   0.74220294]\n",
      "Image 634.jpg is good, writing to good directory\n",
      "[0.98836446 0.01163549]\n",
      "Image 635.jpg is bad, writing to bad directory\n",
      "[0.2642174  0.73578256]\n",
      "Image 636.jpg is good, writing to good directory\n",
      "[0.5472431  0.45275685]\n",
      "Image 637.jpg is bad, writing to bad directory\n"
     ]
    },
    {
     "name": "stderr",
     "output_type": "stream",
     "text": [
      " 40%|████      | 646/1600 [00:09<00:15, 63.45it/s]"
     ]
    },
    {
     "name": "stdout",
     "output_type": "stream",
     "text": [
      "[0.51828665 0.48171332]\n",
      "Image 638.jpg is bad, writing to bad directory\n",
      "[0.8923889  0.10761108]\n",
      "Image 639.jpg is bad, writing to bad directory\n",
      "[0.21252252 0.78747743]\n",
      "Image 640.jpg is good, writing to good directory\n",
      "[0.3282023 0.6717977]\n",
      "Image 641.jpg is good, writing to good directory\n",
      "[0.20133735 0.79866266]\n",
      "Image 642.jpg is good, writing to good directory\n",
      "[0.3504982 0.6495018]\n",
      "Image 643.jpg is good, writing to good directory\n",
      "[0.76963234 0.23036762]\n",
      "Image 644.jpg is bad, writing to bad directory\n",
      "[0.16352127 0.83647877]\n",
      "Image 645.jpg is good, writing to good directory\n",
      "[0.40665507 0.59334487]\n",
      "Image 646.jpg is good, writing to good directory\n",
      "[0.82998735 0.17001267]\n",
      "Image 647.jpg is bad, writing to bad directory\n",
      "[0.3479709  0.65202904]\n",
      "Image 648.jpg is good, writing to good directory\n",
      "[0.01401202 0.98598796]\n",
      "Image 649.jpg is good, writing to good directory\n",
      "[0.80057234 0.19942766]\n",
      "Image 650.jpg is bad, writing to bad directory\n"
     ]
    },
    {
     "name": "stderr",
     "output_type": "stream",
     "text": [
      " 41%|████▏     | 660/1600 [00:09<00:14, 63.31it/s]"
     ]
    },
    {
     "name": "stdout",
     "output_type": "stream",
     "text": [
      "[0.07828665 0.92171335]\n",
      "Image 651.jpg is good, writing to good directory\n",
      "[0.83964765 0.16035233]\n",
      "Image 652.jpg is bad, writing to bad directory\n",
      "[0.06279123 0.9372088 ]\n",
      "Image 653.jpg is good, writing to good directory\n",
      "[0.40318698 0.596813  ]\n",
      "Image 654.jpg is good, writing to good directory\n",
      "[0.48236927 0.5176307 ]\n",
      "Image 655.jpg is good, writing to good directory\n",
      "[0.25327647 0.7467235 ]\n",
      "Image 656.jpg is good, writing to good directory\n",
      "[0.01876484 0.9812352 ]\n",
      "Image 657.jpg is good, writing to good directory\n",
      "[0.45927423 0.54072577]\n",
      "Image 658.jpg is good, writing to good directory\n",
      "[0.5126249  0.48737508]\n",
      "Image 659.jpg is bad, writing to bad directory\n",
      "[0.16255945 0.8374405 ]\n",
      "Image 660.jpg is good, writing to good directory\n",
      "[0.7621873 0.2378127]\n",
      "Image 661.jpg is bad, writing to bad directory\n",
      "[0.44945005 0.55055   ]\n",
      "Image 662.jpg is good, writing to good directory\n",
      "[0.08799919 0.9120008 ]\n",
      "Image 663.jpg is good, writing to good directory\n",
      "[0.5922495  0.40775046]\n",
      "Image 664.jpg is bad, writing to bad directory\n"
     ]
    },
    {
     "name": "stderr",
     "output_type": "stream",
     "text": [
      " 42%|████▏     | 674/1600 [00:09<00:14, 64.46it/s]"
     ]
    },
    {
     "name": "stdout",
     "output_type": "stream",
     "text": [
      "[0.17041054 0.8295895 ]\n",
      "Image 665.jpg is good, writing to good directory\n",
      "[0.3759093  0.62409073]\n",
      "Image 666.jpg is good, writing to good directory\n",
      "[0.70117086 0.2988291 ]\n",
      "Image 667.jpg is bad, writing to bad directory\n",
      "[0.1396858 0.8603142]\n",
      "Image 668.jpg is good, writing to good directory\n",
      "[0.29743156 0.7025684 ]\n",
      "Image 669.jpg is good, writing to good directory\n",
      "[0.8930558  0.10694423]\n",
      "Image 670.jpg is bad, writing to bad directory\n",
      "[0.46396598 0.536034  ]\n",
      "Image 671.jpg is good, writing to good directory\n",
      "[0.40345183 0.5965482 ]\n",
      "Image 672.jpg is good, writing to good directory\n",
      "[0.94826925 0.05173076]\n",
      "Image 673.jpg is bad, writing to bad directory\n",
      "[0.28100213 0.7189979 ]\n",
      "Image 674.jpg is good, writing to good directory\n",
      "[0.22431181 0.77568823]\n",
      "Image 675.jpg is good, writing to good directory\n",
      "[0.12987639 0.8701236 ]\n",
      "Image 676.jpg is good, writing to good directory\n",
      "[0.3424263  0.65757364]\n",
      "Image 677.jpg is good, writing to good directory\n",
      "[0.5409328  0.45906726]\n",
      "Image 678.jpg is bad, writing to bad directory\n"
     ]
    },
    {
     "name": "stderr",
     "output_type": "stream",
     "text": [
      " 43%|████▎     | 689/1600 [00:10<00:13, 67.36it/s]"
     ]
    },
    {
     "name": "stdout",
     "output_type": "stream",
     "text": [
      "[0.11941951 0.8805805 ]\n",
      "Image 679.jpg is good, writing to good directory\n",
      "[0.17959915 0.8204009 ]\n",
      "Image 680.jpg is good, writing to good directory\n",
      "[0.8575039  0.14249615]\n",
      "Image 681.jpg is bad, writing to bad directory\n",
      "[0.69303465 0.30696535]\n",
      "Image 682.jpg is bad, writing to bad directory\n",
      "[0.84917456 0.15082549]\n",
      "Image 683.jpg is bad, writing to bad directory\n",
      "[0.8983962  0.10160385]\n",
      "Image 684.jpg is bad, writing to bad directory\n",
      "[0.52067536 0.47932467]\n",
      "Image 685.jpg is bad, writing to bad directory\n",
      "[0.54852694 0.45147303]\n",
      "Image 686.jpg is bad, writing to bad directory\n",
      "[0.20501842 0.79498166]\n",
      "Image 687.jpg is good, writing to good directory\n",
      "[0.23893273 0.7610673 ]\n",
      "Image 688.jpg is good, writing to good directory\n",
      "[0.47129637 0.52870363]\n",
      "Image 689.jpg is good, writing to good directory\n",
      "[0.3881718 0.6118282]\n",
      "Image 690.jpg is good, writing to good directory\n"
     ]
    },
    {
     "name": "stderr",
     "output_type": "stream",
     "text": [
      " 44%|████▎     | 696/1600 [00:10<00:14, 62.95it/s]"
     ]
    },
    {
     "name": "stdout",
     "output_type": "stream",
     "text": [
      "[0.701036 0.298964]\n",
      "Image 691.jpg is bad, writing to bad directory\n",
      "[0.22630413 0.7736959 ]\n",
      "Image 692.jpg is good, writing to good directory\n",
      "[0.9102221  0.08977792]\n",
      "Image 693.jpg is bad, writing to bad directory\n",
      "[0.19045223 0.8095477 ]\n",
      "Image 694.jpg is good, writing to good directory\n",
      "[0.51473236 0.48526764]\n",
      "Image 695.jpg is bad, writing to bad directory\n",
      "[0.5386274  0.46137258]\n",
      "Image 696.jpg is bad, writing to bad directory\n",
      "[0.02497894 0.975021  ]\n",
      "Image 697.jpg is good, writing to good directory\n",
      "[0.6036738  0.39632615]\n",
      "Image 698.jpg is bad, writing to bad directory\n",
      "[0.6050476  0.39495248]\n",
      "Image 699.jpg is bad, writing to bad directory\n",
      "[0.49407393 0.5059261 ]\n",
      "Image 700.jpg is good, writing to good directory\n",
      "[0.8921234  0.10787662]\n",
      "Image 701.jpg is bad, writing to bad directory\n",
      "[0.6220747 0.3779253]\n",
      "Image 702.jpg is bad, writing to bad directory\n"
     ]
    },
    {
     "name": "stderr",
     "output_type": "stream",
     "text": [
      " 44%|████▍     | 710/1600 [00:10<00:14, 60.95it/s]"
     ]
    },
    {
     "name": "stdout",
     "output_type": "stream",
     "text": [
      "[0.08521505 0.9147849 ]\n",
      "Image 703.jpg is good, writing to good directory\n",
      "[0.8247089  0.17529109]\n",
      "Image 704.jpg is bad, writing to bad directory\n",
      "[0.88134295 0.1186571 ]\n",
      "Image 705.jpg is bad, writing to bad directory\n",
      "[0.24432465 0.7556754 ]\n",
      "Image 706.jpg is good, writing to good directory\n",
      "[0.07632176 0.9236783 ]\n",
      "Image 707.jpg is good, writing to good directory\n",
      "[0.31101984 0.68898016]\n",
      "Image 708.jpg is good, writing to good directory\n",
      "[0.9026867 0.0973133]\n",
      "Image 709.jpg is bad, writing to bad directory\n",
      "[0.07007264 0.9299274 ]\n",
      "Image 710.jpg is good, writing to good directory\n",
      "[0.19255689 0.8074431 ]\n",
      "Image 711.jpg is good, writing to good directory\n",
      "[0.3646751 0.6353249]\n",
      "Image 712.jpg is good, writing to good directory\n"
     ]
    },
    {
     "name": "stderr",
     "output_type": "stream",
     "text": [
      " 45%|████▌     | 723/1600 [00:10<00:16, 52.80it/s]"
     ]
    },
    {
     "name": "stdout",
     "output_type": "stream",
     "text": [
      "[0.5547519  0.44524813]\n",
      "Image 713.jpg is bad, writing to bad directory\n",
      "[0.74580336 0.2541967 ]\n",
      "Image 714.jpg is bad, writing to bad directory\n",
      "[0.12107161 0.8789284 ]\n",
      "Image 715.jpg is good, writing to good directory\n",
      "[0.44129416 0.5587058 ]\n",
      "Image 716.jpg is good, writing to good directory\n",
      "[0.27114448 0.7288555 ]\n",
      "Image 717.jpg is good, writing to good directory\n",
      "[0.12822078 0.8717792 ]\n",
      "Image 718.jpg is good, writing to good directory\n",
      "[0.48824003 0.51175994]\n",
      "Image 719.jpg is good, writing to good directory\n",
      "[0.19155173 0.80844826]\n",
      "Image 720.jpg is good, writing to good directory\n",
      "[0.8578382  0.14216174]\n",
      "Image 721.jpg is bad, writing to bad directory\n",
      "[0.2439063  0.75609374]\n",
      "Image 722.jpg is good, writing to good directory\n",
      "[0.07609018 0.92390984]\n",
      "Image 723.jpg is good, writing to good directory\n"
     ]
    },
    {
     "name": "stderr",
     "output_type": "stream",
     "text": [
      " 46%|████▌     | 729/1600 [00:10<00:16, 51.38it/s]"
     ]
    },
    {
     "name": "stdout",
     "output_type": "stream",
     "text": [
      "[0.14165078 0.85834926]\n",
      "Image 724.jpg is good, writing to good directory\n",
      "[0.97110534 0.02889468]\n",
      "Image 725.jpg is bad, writing to bad directory\n",
      "[0.20018113 0.79981893]\n",
      "Image 726.jpg is good, writing to good directory\n",
      "[0.37542802 0.62457204]\n",
      "Image 727.jpg is good, writing to good directory\n",
      "[0.5352531  0.46474683]\n",
      "Image 728.jpg is bad, writing to bad directory\n",
      "[0.6822962  0.31770375]\n",
      "Image 729.jpg is bad, writing to bad directory\n",
      "[0.57717246 0.4228275 ]\n",
      "Image 730.jpg is bad, writing to bad directory\n",
      "[0.7099961  0.29000393]\n",
      "Image 731.jpg is bad, writing to bad directory\n",
      "[0.34483302 0.6551669 ]\n",
      "Image 732.jpg is good, writing to good directory\n",
      "[0.07559112 0.9244089 ]\n",
      "Image 733.jpg is good, writing to good directory\n",
      "[0.92005014 0.0799498 ]\n",
      "Image 734.jpg is bad, writing to bad directory\n"
     ]
    },
    {
     "name": "stderr",
     "output_type": "stream",
     "text": [
      " 46%|████▋     | 742/1600 [00:11<00:15, 53.96it/s]"
     ]
    },
    {
     "name": "stdout",
     "output_type": "stream",
     "text": [
      "[0.44318664 0.55681336]\n",
      "Image 735.jpg is good, writing to good directory\n",
      "[0.08549627 0.9145037 ]\n",
      "Image 736.jpg is good, writing to good directory\n",
      "[0.28149387 0.71850616]\n",
      "Image 737.jpg is good, writing to good directory\n",
      "[0.7369817 0.2630183]\n",
      "Image 738.jpg is bad, writing to bad directory\n",
      "[0.43472815 0.56527185]\n",
      "Image 739.jpg is good, writing to good directory\n",
      "[0.14728148 0.8527185 ]\n",
      "Image 740.jpg is good, writing to good directory\n",
      "[0.20986421 0.7901358 ]\n",
      "Image 741.jpg is good, writing to good directory\n",
      "[0.3740394 0.6259606]\n",
      "Image 742.jpg is good, writing to good directory\n",
      "[0.7569887  0.24301127]\n",
      "Image 743.jpg is bad, writing to bad directory\n",
      "[0.05954977 0.9404502 ]\n",
      "Image 744.jpg is good, writing to good directory\n",
      "[0.11983425 0.88016576]\n",
      "Image 745.jpg is good, writing to good directory\n"
     ]
    },
    {
     "name": "stderr",
     "output_type": "stream",
     "text": [
      " 47%|████▋     | 755/1600 [00:11<00:14, 58.07it/s]"
     ]
    },
    {
     "name": "stdout",
     "output_type": "stream",
     "text": [
      "[0.10607903 0.89392096]\n",
      "Image 746.jpg is good, writing to good directory\n",
      "[0.15413055 0.8458695 ]\n",
      "Image 747.jpg is good, writing to good directory\n",
      "[0.13421306 0.86578697]\n",
      "Image 748.jpg is good, writing to good directory\n",
      "[0.10947361 0.89052635]\n",
      "Image 749.jpg is good, writing to good directory\n",
      "[0.54030967 0.45969036]\n",
      "Image 750.jpg is bad, writing to bad directory\n",
      "[0.93647045 0.06352952]\n",
      "Image 751.jpg is bad, writing to bad directory\n",
      "[0.18197298 0.818027  ]\n",
      "Image 752.jpg is good, writing to good directory\n",
      "[0.80690753 0.19309247]\n",
      "Image 753.jpg is bad, writing to bad directory\n",
      "[0.164652 0.835348]\n",
      "Image 754.jpg is good, writing to good directory\n",
      "[0.21214348 0.7878565 ]\n",
      "Image 755.jpg is good, writing to good directory\n",
      "[0.2863352  0.71366477]\n",
      "Image 756.jpg is good, writing to good directory\n",
      "[0.17872694 0.8212731 ]\n",
      "Image 757.jpg is good, writing to good directory\n",
      "[0.6389176  0.36108235]\n",
      "Image 758.jpg is bad, writing to bad directory\n"
     ]
    },
    {
     "name": "stderr",
     "output_type": "stream",
     "text": [
      " 48%|████▊     | 768/1600 [00:11<00:14, 55.90it/s]"
     ]
    },
    {
     "name": "stdout",
     "output_type": "stream",
     "text": [
      "[0.7547245  0.24527553]\n",
      "Image 759.jpg is bad, writing to bad directory\n",
      "[0.49857926 0.5014208 ]\n",
      "Image 760.jpg is good, writing to good directory\n",
      "[0.04800559 0.95199436]\n",
      "Image 761.jpg is good, writing to good directory\n",
      "[0.40319294 0.59680706]\n",
      "Image 762.jpg is good, writing to good directory\n",
      "[0.3903936 0.6096064]\n",
      "Image 763.jpg is good, writing to good directory\n",
      "[0.12513985 0.87486017]\n",
      "Image 764.jpg is good, writing to good directory\n",
      "[0.09456179 0.90543824]\n",
      "Image 765.jpg is good, writing to good directory\n",
      "[0.03558992 0.9644101 ]\n",
      "Image 766.jpg is good, writing to good directory\n",
      "[0.05106852 0.94893146]\n",
      "Image 767.jpg is good, writing to good directory\n",
      "[0.26909375 0.73090625]\n",
      "Image 768.jpg is good, writing to good directory\n",
      "[0.14532809 0.8546719 ]\n",
      "Image 769.jpg is good, writing to good directory\n"
     ]
    },
    {
     "name": "stderr",
     "output_type": "stream",
     "text": [
      " 49%|████▉     | 782/1600 [00:11<00:13, 62.04it/s]"
     ]
    },
    {
     "name": "stdout",
     "output_type": "stream",
     "text": [
      "[0.17700815 0.82299185]\n",
      "Image 770.jpg is good, writing to good directory\n",
      "[0.86988443 0.13011555]\n",
      "Image 771.jpg is bad, writing to bad directory\n",
      "[0.5127431  0.48725685]\n",
      "Image 772.jpg is bad, writing to bad directory\n",
      "[0.12612933 0.8738707 ]\n",
      "Image 773.jpg is good, writing to good directory\n",
      "[0.5585698  0.44143024]\n",
      "Image 774.jpg is bad, writing to bad directory\n",
      "[0.5206899 0.4793101]\n",
      "Image 775.jpg is bad, writing to bad directory\n",
      "[0.5287328  0.47126716]\n",
      "Image 776.jpg is bad, writing to bad directory\n",
      "[0.00717656 0.99282336]\n",
      "Image 777.jpg is good, writing to good directory\n",
      "[0.14561063 0.8543894 ]\n",
      "Image 778.jpg is good, writing to good directory\n",
      "[0.52379143 0.4762086 ]\n",
      "Image 779.jpg is bad, writing to bad directory\n",
      "[0.19867536 0.8013246 ]\n",
      "Image 780.jpg is good, writing to good directory\n",
      "[0.30432227 0.6956777 ]\n",
      "Image 781.jpg is good, writing to good directory\n",
      "[0.33081862 0.66918135]\n",
      "Image 782.jpg is good, writing to good directory\n",
      "[0.20833938 0.79166067]\n",
      "Image 783.jpg is good, writing to good directory\n",
      "[0.3697669 0.6302331]\n",
      "Image 784.jpg is good, writing to good directory\n"
     ]
    },
    {
     "name": "stderr",
     "output_type": "stream",
     "text": [
      " 50%|████▉     | 797/1600 [00:11<00:12, 66.76it/s]"
     ]
    },
    {
     "name": "stdout",
     "output_type": "stream",
     "text": [
      "[0.7861419  0.21385808]\n",
      "Image 785.jpg is bad, writing to bad directory\n",
      "[0.5999576 0.4000424]\n",
      "Image 786.jpg is bad, writing to bad directory\n",
      "[0.16265383 0.83734614]\n",
      "Image 787.jpg is good, writing to good directory\n",
      "[0.12961307 0.8703869 ]\n",
      "Image 788.jpg is good, writing to good directory\n",
      "[0.00648288 0.99351716]\n",
      "Image 789.jpg is good, writing to good directory\n",
      "[0.8483702  0.15162985]\n",
      "Image 790.jpg is bad, writing to bad directory\n",
      "[0.22007819 0.77992177]\n",
      "Image 791.jpg is good, writing to good directory\n",
      "[0.14551681 0.85448325]\n",
      "Image 792.jpg is good, writing to good directory\n",
      "[0.4650155  0.53498447]\n",
      "Image 793.jpg is good, writing to good directory\n",
      "[0.20289372 0.7971063 ]\n",
      "Image 794.jpg is good, writing to good directory\n",
      "[0.9543149  0.04568511]\n",
      "Image 795.jpg is bad, writing to bad directory\n",
      "[0.73280734 0.26719263]\n",
      "Image 796.jpg is bad, writing to bad directory\n",
      "[0.07884905 0.921151  ]\n",
      "Image 797.jpg is good, writing to good directory\n",
      "[0.3796375 0.6203625]\n",
      "Image 798.jpg is good, writing to good directory\n",
      "[0.99526805 0.00473196]\n",
      "Image 799.jpg is bad, writing to bad directory\n"
     ]
    },
    {
     "name": "stderr",
     "output_type": "stream",
     "text": [
      " 51%|█████     | 813/1600 [00:12<00:11, 70.60it/s]"
     ]
    },
    {
     "name": "stdout",
     "output_type": "stream",
     "text": [
      "[0.44962358 0.5503764 ]\n",
      "Image 800.jpg is good, writing to good directory\n",
      "[0.0545912  0.94540876]\n",
      "Image 801.jpg is good, writing to good directory\n",
      "[0.56617415 0.43382588]\n",
      "Image 802.jpg is bad, writing to bad directory\n",
      "[0.17284581 0.82715416]\n",
      "Image 803.jpg is good, writing to good directory\n",
      "[0.4387384 0.5612616]\n",
      "Image 804.jpg is good, writing to good directory\n",
      "[0.42171097 0.5782891 ]\n",
      "Image 805.jpg is good, writing to good directory\n",
      "[0.2621002 0.7378998]\n",
      "Image 806.jpg is good, writing to good directory\n",
      "[0.9193753  0.08062474]\n",
      "Image 807.jpg is bad, writing to bad directory\n",
      "[0.6882497  0.31175035]\n",
      "Image 808.jpg is bad, writing to bad directory\n",
      "[0.72636515 0.27363482]\n",
      "Image 809.jpg is bad, writing to bad directory\n",
      "[0.6546887  0.34531125]\n",
      "Image 810.jpg is bad, writing to bad directory\n",
      "[0.17451489 0.8254851 ]\n",
      "Image 811.jpg is good, writing to good directory\n",
      "[0.3446144 0.6553856]\n",
      "Image 812.jpg is good, writing to good directory\n",
      "[0.6899758  0.31002417]\n",
      "Image 813.jpg is bad, writing to bad directory\n",
      "[0.69574577 0.30425426]\n",
      "Image 814.jpg is bad, writing to bad directory\n"
     ]
    },
    {
     "name": "stderr",
     "output_type": "stream",
     "text": [
      " 51%|█████▏    | 821/1600 [00:12<00:10, 71.44it/s]"
     ]
    },
    {
     "name": "stdout",
     "output_type": "stream",
     "text": [
      "[0.5156832  0.48431686]\n",
      "Image 815.jpg is bad, writing to bad directory\n",
      "[0.42163092 0.578369  ]\n",
      "Image 816.jpg is good, writing to good directory\n",
      "[0.46216795 0.5378321 ]\n",
      "Image 817.jpg is good, writing to good directory\n",
      "[0.25650084 0.74349916]\n",
      "Image 818.jpg is good, writing to good directory\n",
      "[0.314247 0.685753]\n",
      "Image 819.jpg is good, writing to good directory\n",
      "[0.5131576  0.48684236]\n",
      "Image 820.jpg is bad, writing to bad directory\n",
      "[0.9928733  0.00712663]\n",
      "Image 821.jpg is bad, writing to bad directory\n",
      "[0.06096604 0.9390339 ]\n",
      "Image 822.jpg is good, writing to good directory\n",
      "[0.4288888 0.5711112]\n",
      "Image 823.jpg is good, writing to good directory\n",
      "[0.09047107 0.9095289 ]\n",
      "Image 824.jpg is good, writing to good directory\n",
      "[0.9331255  0.06687452]\n",
      "Image 825.jpg is bad, writing to bad directory\n",
      "[0.21495146 0.78504854]\n",
      "Image 826.jpg is good, writing to good directory\n",
      "[0.8756392  0.12436076]\n",
      "Image 827.jpg is bad, writing to bad directory\n",
      "[0.40099064 0.59900934]\n",
      "Image 828.jpg is good, writing to good directory\n"
     ]
    },
    {
     "name": "stderr",
     "output_type": "stream",
     "text": [
      " 52%|█████▏    | 837/1600 [00:12<00:10, 72.66it/s]"
     ]
    },
    {
     "name": "stdout",
     "output_type": "stream",
     "text": [
      "[0.07614968 0.9238503 ]\n",
      "Image 829.jpg is good, writing to good directory\n",
      "[0.6674905  0.33250952]\n",
      "Image 830.jpg is bad, writing to bad directory\n",
      "[0.8977591  0.10224092]\n",
      "Image 831.jpg is bad, writing to bad directory\n",
      "[0.5465492 0.4534508]\n",
      "Image 832.jpg is bad, writing to bad directory\n",
      "[0.453488   0.54651195]\n",
      "Image 833.jpg is good, writing to good directory\n",
      "[0.58969206 0.41030797]\n",
      "Image 834.jpg is bad, writing to bad directory\n",
      "[0.50254536 0.4974546 ]\n",
      "Image 835.jpg is bad, writing to bad directory\n",
      "[0.755511   0.24448898]\n",
      "Image 836.jpg is bad, writing to bad directory\n",
      "[0.2578167 0.7421833]\n",
      "Image 837.jpg is good, writing to good directory\n",
      "[0.632494   0.36750603]\n",
      "Image 838.jpg is bad, writing to bad directory\n",
      "[0.06139703 0.9386029 ]\n",
      "Image 839.jpg is good, writing to good directory\n",
      "[0.6745397  0.32546026]\n",
      "Image 840.jpg is bad, writing to bad directory\n",
      "[0.51551646 0.48448354]\n",
      "Image 841.jpg is bad, writing to bad directory\n",
      "[0.45771152 0.5422885 ]\n",
      "Image 842.jpg is good, writing to good directory\n",
      "[0.78549564 0.21450433]\n",
      "Image 843.jpg is bad, writing to bad directory\n"
     ]
    },
    {
     "name": "stderr",
     "output_type": "stream",
     "text": [
      " 53%|█████▎    | 853/1600 [00:12<00:10, 73.12it/s]"
     ]
    },
    {
     "name": "stdout",
     "output_type": "stream",
     "text": [
      "[0.0208516 0.9791484]\n",
      "Image 844.jpg is good, writing to good directory\n",
      "[0.5452924  0.45470756]\n",
      "Image 845.jpg is bad, writing to bad directory\n",
      "[0.67653495 0.32346505]\n",
      "Image 846.jpg is bad, writing to bad directory\n",
      "[0.8861281  0.11387184]\n",
      "Image 847.jpg is bad, writing to bad directory\n",
      "[0.7161014 0.2838986]\n",
      "Image 848.jpg is bad, writing to bad directory\n",
      "[0.4506663 0.5493337]\n",
      "Image 849.jpg is good, writing to good directory\n",
      "[0.9278111  0.07218896]\n",
      "Image 850.jpg is bad, writing to bad directory\n",
      "[0.97457933 0.0254207 ]\n",
      "Image 851.jpg is bad, writing to bad directory\n",
      "[0.11962911 0.8803709 ]\n",
      "Image 852.jpg is good, writing to good directory\n",
      "[0.9671363 0.0328637]\n",
      "Image 853.jpg is bad, writing to bad directory\n",
      "[0.37888005 0.6211199 ]\n",
      "Image 854.jpg is good, writing to good directory\n",
      "[0.7650137  0.23498626]\n",
      "Image 855.jpg is bad, writing to bad directory\n",
      "[0.591254   0.40874597]\n",
      "Image 856.jpg is bad, writing to bad directory\n",
      "[0.45645463 0.54354537]\n",
      "Image 857.jpg is good, writing to good directory\n"
     ]
    },
    {
     "name": "stderr",
     "output_type": "stream",
     "text": [
      " 54%|█████▍    | 869/1600 [00:12<00:09, 75.08it/s]"
     ]
    },
    {
     "name": "stdout",
     "output_type": "stream",
     "text": [
      "[0.19419923 0.80580074]\n",
      "Image 858.jpg is good, writing to good directory\n",
      "[0.09508342 0.9049165 ]\n",
      "Image 859.jpg is good, writing to good directory\n",
      "[0.8272685  0.17273156]\n",
      "Image 860.jpg is bad, writing to bad directory\n",
      "[0.08240093 0.9175991 ]\n",
      "Image 861.jpg is good, writing to good directory\n",
      "[0.06676882 0.9332312 ]\n",
      "Image 862.jpg is good, writing to good directory\n",
      "[0.32986042 0.6701396 ]\n",
      "Image 863.jpg is good, writing to good directory\n",
      "[0.67238015 0.32761988]\n",
      "Image 864.jpg is bad, writing to bad directory\n",
      "[0.94782174 0.05217826]\n",
      "Image 865.jpg is bad, writing to bad directory\n",
      "[0.61731654 0.3826835 ]\n",
      "Image 866.jpg is bad, writing to bad directory\n",
      "[0.8485893  0.15141076]\n",
      "Image 867.jpg is bad, writing to bad directory\n",
      "[0.20807466 0.7919254 ]\n",
      "Image 868.jpg is good, writing to good directory\n",
      "[0.27330282 0.72669715]\n",
      "Image 869.jpg is good, writing to good directory\n",
      "[0.32887566 0.6711243 ]\n",
      "Image 870.jpg is good, writing to good directory\n",
      "[0.77844214 0.22155783]\n",
      "Image 871.jpg is bad, writing to bad directory\n"
     ]
    },
    {
     "name": "stderr",
     "output_type": "stream",
     "text": [
      " 55%|█████▌    | 884/1600 [00:13<00:10, 66.78it/s]"
     ]
    },
    {
     "name": "stdout",
     "output_type": "stream",
     "text": [
      "[0.2838542 0.7161459]\n",
      "Image 872.jpg is good, writing to good directory\n",
      "[0.90018016 0.09981983]\n",
      "Image 873.jpg is bad, writing to bad directory\n",
      "[0.8321535  0.16784655]\n",
      "Image 874.jpg is bad, writing to bad directory\n",
      "[0.43008447 0.56991553]\n",
      "Image 875.jpg is good, writing to good directory\n",
      "[0.19738035 0.80261964]\n",
      "Image 876.jpg is good, writing to good directory\n",
      "[0.06119257 0.9388075 ]\n",
      "Image 877.jpg is good, writing to good directory\n",
      "[0.546359   0.45364097]\n",
      "Image 878.jpg is bad, writing to bad directory\n",
      "[0.19891526 0.8010847 ]\n",
      "Image 879.jpg is good, writing to good directory\n",
      "[0.3902896 0.6097104]\n",
      "Image 880.jpg is good, writing to good directory\n",
      "[0.27267942 0.7273206 ]\n",
      "Image 881.jpg is good, writing to good directory\n",
      "[0.58436835 0.41563165]\n",
      "Image 882.jpg is bad, writing to bad directory\n",
      "[0.39113298 0.608867  ]\n",
      "Image 883.jpg is good, writing to good directory\n",
      "[0.30899727 0.69100267]\n",
      "Image 884.jpg is good, writing to good directory\n",
      "[0.03959486 0.9604052 ]\n",
      "Image 885.jpg is good, writing to good directory\n"
     ]
    },
    {
     "name": "stderr",
     "output_type": "stream",
     "text": [
      " 56%|█████▌    | 891/1600 [00:13<00:11, 64.17it/s]"
     ]
    },
    {
     "name": "stdout",
     "output_type": "stream",
     "text": [
      "[0.45261118 0.54738885]\n",
      "Image 886.jpg is good, writing to good directory\n",
      "[0.6171899  0.38281015]\n",
      "Image 887.jpg is bad, writing to bad directory\n",
      "[0.27468726 0.72531277]\n",
      "Image 888.jpg is good, writing to good directory\n",
      "[0.84204626 0.15795371]\n",
      "Image 889.jpg is bad, writing to bad directory\n",
      "[0.40576354 0.5942365 ]\n",
      "Image 890.jpg is good, writing to good directory\n",
      "[0.04305749 0.95694256]\n",
      "Image 891.jpg is good, writing to good directory\n",
      "[0.19913961 0.8008604 ]\n",
      "Image 892.jpg is good, writing to good directory\n",
      "[0.9022135  0.09778648]\n",
      "Image 893.jpg is bad, writing to bad directory\n",
      "[0.23562483 0.7643752 ]\n",
      "Image 894.jpg is good, writing to good directory\n",
      "[0.01025516 0.98974484]\n",
      "Image 895.jpg is good, writing to good directory\n",
      "[0.77566904 0.22433099]\n",
      "Image 896.jpg is bad, writing to bad directory\n",
      "[0.8090401  0.19095981]\n",
      "Image 897.jpg is bad, writing to bad directory\n"
     ]
    },
    {
     "name": "stderr",
     "output_type": "stream",
     "text": [
      " 57%|█████▋    | 906/1600 [00:13<00:10, 67.14it/s]"
     ]
    },
    {
     "name": "stdout",
     "output_type": "stream",
     "text": [
      "[0.8410563  0.15894376]\n",
      "Image 898.jpg is bad, writing to bad directory\n",
      "[0.84526545 0.15473458]\n",
      "Image 899.jpg is bad, writing to bad directory\n",
      "[0.60490835 0.39509162]\n",
      "Image 900.jpg is bad, writing to bad directory\n",
      "[0.11339259 0.88660747]\n",
      "Image 901.jpg is good, writing to good directory\n",
      "[0.3319831 0.6680169]\n",
      "Image 902.jpg is good, writing to good directory\n",
      "[0.7222124  0.27778763]\n",
      "Image 903.jpg is bad, writing to bad directory\n",
      "[0.33578166 0.66421837]\n",
      "Image 904.jpg is good, writing to good directory\n",
      "[0.33957022 0.6604297 ]\n",
      "Image 905.jpg is good, writing to good directory\n",
      "[0.64982957 0.35017046]\n",
      "Image 906.jpg is bad, writing to bad directory\n",
      "[0.3120846 0.6879154]\n",
      "Image 907.jpg is good, writing to good directory\n",
      "[0.14100787 0.85899216]\n",
      "Image 908.jpg is good, writing to good directory\n",
      "[0.18281294 0.817187  ]\n",
      "Image 909.jpg is good, writing to good directory\n",
      "[0.4944117 0.5055883]\n",
      "Image 910.jpg is good, writing to good directory\n",
      "[0.5827442  0.41725582]\n",
      "Image 911.jpg is bad, writing to bad directory\n"
     ]
    },
    {
     "name": "stderr",
     "output_type": "stream",
     "text": [
      " 58%|█████▊    | 922/1600 [00:13<00:09, 69.59it/s]"
     ]
    },
    {
     "name": "stdout",
     "output_type": "stream",
     "text": [
      "[0.7782216  0.22177838]\n",
      "Image 912.jpg is bad, writing to bad directory\n",
      "[0.9249577  0.07504234]\n",
      "Image 913.jpg is bad, writing to bad directory\n",
      "[0.0785809  0.92141914]\n",
      "Image 914.jpg is good, writing to good directory\n",
      "[0.6824866 0.3175134]\n",
      "Image 915.jpg is bad, writing to bad directory\n",
      "[0.08576968 0.9142303 ]\n",
      "Image 916.jpg is good, writing to good directory\n",
      "[0.05868486 0.9413151 ]\n",
      "Image 917.jpg is good, writing to good directory\n",
      "[0.1792668 0.8207332]\n",
      "Image 918.jpg is good, writing to good directory\n",
      "[0.12298159 0.8770184 ]\n",
      "Image 919.jpg is good, writing to good directory\n",
      "[0.26107877 0.7389213 ]\n",
      "Image 920.jpg is good, writing to good directory\n",
      "[0.43056405 0.56943595]\n",
      "Image 921.jpg is good, writing to good directory\n",
      "[0.3662353  0.63376474]\n",
      "Image 922.jpg is good, writing to good directory\n",
      "[0.9805095  0.01949044]\n",
      "Image 923.jpg is bad, writing to bad directory\n",
      "[0.2508707  0.74912935]\n",
      "Image 924.jpg is good, writing to good directory\n",
      "[0.29270762 0.7072924 ]\n",
      "Image 925.jpg is good, writing to good directory\n",
      "[0.38328233 0.6167177 ]\n",
      "Image 926.jpg is good, writing to good directory\n"
     ]
    },
    {
     "name": "stderr",
     "output_type": "stream",
     "text": [
      " 58%|█████▊    | 936/1600 [00:13<00:09, 69.79it/s]"
     ]
    },
    {
     "name": "stdout",
     "output_type": "stream",
     "text": [
      "[0.46914992 0.53085005]\n",
      "Image 927.jpg is good, writing to good directory\n",
      "[0.8866311  0.11336891]\n",
      "Image 928.jpg is bad, writing to bad directory\n",
      "[0.8473128 0.1526872]\n",
      "Image 929.jpg is bad, writing to bad directory\n",
      "[0.18319447 0.8168055 ]\n",
      "Image 930.jpg is good, writing to good directory\n",
      "[0.3388316  0.66116834]\n",
      "Image 931.jpg is good, writing to good directory\n",
      "[0.6464803  0.35351965]\n",
      "Image 932.jpg is bad, writing to bad directory\n",
      "[0.04469078 0.95530915]\n",
      "Image 933.jpg is good, writing to good directory\n",
      "[0.19882657 0.80117345]\n",
      "Image 934.jpg is good, writing to good directory\n",
      "[0.74376523 0.25623477]\n",
      "Image 935.jpg is bad, writing to bad directory\n",
      "[0.20192276 0.7980772 ]\n",
      "Image 936.jpg is good, writing to good directory\n",
      "[0.984183   0.01581698]\n",
      "Image 937.jpg is bad, writing to bad directory\n",
      "[0.2586906 0.7413094]\n",
      "Image 938.jpg is good, writing to good directory\n",
      "[0.47769684 0.52230316]\n",
      "Image 939.jpg is good, writing to good directory\n",
      "[0.2571388 0.7428612]\n",
      "Image 940.jpg is good, writing to good directory\n"
     ]
    },
    {
     "name": "stderr",
     "output_type": "stream",
     "text": [
      " 59%|█████▉    | 950/1600 [00:14<00:09, 66.42it/s]"
     ]
    },
    {
     "name": "stdout",
     "output_type": "stream",
     "text": [
      "[0.15598953 0.8440105 ]\n",
      "Image 941.jpg is good, writing to good directory\n",
      "[0.11952873 0.8804712 ]\n",
      "Image 942.jpg is good, writing to good directory\n",
      "[0.05537315 0.94462687]\n",
      "Image 943.jpg is good, writing to good directory\n",
      "[0.25402123 0.74597883]\n",
      "Image 944.jpg is good, writing to good directory\n",
      "[0.11755758 0.8824424 ]\n",
      "Image 945.jpg is good, writing to good directory\n",
      "[0.19008036 0.8099196 ]\n",
      "Image 946.jpg is good, writing to good directory\n",
      "[0.20594306 0.79405695]\n",
      "Image 947.jpg is good, writing to good directory\n",
      "[0.8961129  0.10388713]\n",
      "Image 948.jpg is bad, writing to bad directory\n",
      "[0.15706985 0.84293014]\n",
      "Image 949.jpg is good, writing to good directory\n",
      "[0.6526831  0.34731695]\n",
      "Image 950.jpg is bad, writing to bad directory\n",
      "[0.34055448 0.65944546]\n",
      "Image 951.jpg is good, writing to good directory\n",
      "[0.3849387  0.61506134]\n",
      "Image 952.jpg is good, writing to good directory\n"
     ]
    },
    {
     "name": "stderr",
     "output_type": "stream",
     "text": [
      " 60%|█████▉    | 957/1600 [00:14<00:10, 59.95it/s]"
     ]
    },
    {
     "name": "stdout",
     "output_type": "stream",
     "text": [
      "[0.9126098  0.08739023]\n",
      "Image 953.jpg is bad, writing to bad directory\n",
      "[0.44499472 0.5550053 ]\n",
      "Image 954.jpg is good, writing to good directory\n",
      "[0.6713095  0.32869056]\n",
      "Image 955.jpg is bad, writing to bad directory\n",
      "[0.22349389 0.7765061 ]\n",
      "Image 956.jpg is good, writing to good directory\n",
      "[0.06579542 0.9342046 ]\n",
      "Image 957.jpg is good, writing to good directory\n",
      "[0.32888833 0.6711117 ]\n",
      "Image 958.jpg is good, writing to good directory\n",
      "[0.03178352 0.9682165 ]\n",
      "Image 959.jpg is good, writing to good directory\n",
      "[0.34855786 0.6514421 ]\n",
      "Image 960.jpg is good, writing to good directory\n",
      "[0.8933846 0.1066154]\n",
      "Image 961.jpg is bad, writing to bad directory\n",
      "[0.65059197 0.349408  ]\n",
      "Image 962.jpg is bad, writing to bad directory\n"
     ]
    },
    {
     "name": "stderr",
     "output_type": "stream",
     "text": [
      " 61%|██████    | 970/1600 [00:14<00:16, 38.91it/s]"
     ]
    },
    {
     "name": "stdout",
     "output_type": "stream",
     "text": [
      "[0.2319313 0.7680687]\n",
      "Image 963.jpg is good, writing to good directory\n",
      "[0.01463596 0.985364  ]\n",
      "Image 964.jpg is good, writing to good directory\n",
      "[0.19374923 0.80625075]\n",
      "Image 965.jpg is good, writing to good directory\n",
      "[0.399377  0.6006231]\n",
      "Image 966.jpg is good, writing to good directory\n",
      "[0.15499896 0.8450011 ]\n",
      "Image 967.jpg is good, writing to good directory\n",
      "[0.17731018 0.82268983]\n",
      "Image 968.jpg is good, writing to good directory\n",
      "[0.46215808 0.53784186]\n",
      "Image 969.jpg is good, writing to good directory\n",
      "[0.8817954  0.11820459]\n",
      "Image 970.jpg is bad, writing to bad directory\n",
      "[0.51807415 0.48192582]\n",
      "Image 971.jpg is bad, writing to bad directory\n",
      "[0.3244138 0.6755862]\n",
      "Image 972.jpg is good, writing to good directory\n",
      "[0.5965408 0.4034592]\n",
      "Image 973.jpg is bad, writing to bad directory\n",
      "[0.49135262 0.5086473 ]\n",
      "Image 974.jpg is good, writing to good directory\n"
     ]
    },
    {
     "name": "stderr",
     "output_type": "stream",
     "text": [
      " 61%|██████▏   | 983/1600 [00:15<00:13, 44.82it/s]"
     ]
    },
    {
     "name": "stdout",
     "output_type": "stream",
     "text": [
      "[0.14081801 0.859182  ]\n",
      "Image 975.jpg is good, writing to good directory\n",
      "[0.73124677 0.26875323]\n",
      "Image 976.jpg is bad, writing to bad directory\n",
      "[0.22311811 0.77688193]\n",
      "Image 977.jpg is good, writing to good directory\n",
      "[0.48901016 0.51098984]\n",
      "Image 978.jpg is good, writing to good directory\n",
      "[0.55877674 0.4412233 ]\n",
      "Image 979.jpg is bad, writing to bad directory\n",
      "[0.5024846 0.4975154]\n",
      "Image 980.jpg is bad, writing to bad directory\n",
      "[0.04590149 0.9540985 ]\n",
      "Image 981.jpg is good, writing to good directory\n",
      "[0.29431015 0.70568985]\n",
      "Image 982.jpg is good, writing to good directory\n",
      "[0.1257763  0.87422365]\n",
      "Image 983.jpg is good, writing to good directory\n"
     ]
    },
    {
     "name": "stderr",
     "output_type": "stream",
     "text": [
      " 62%|██████▏   | 989/1600 [00:15<00:13, 43.98it/s]"
     ]
    },
    {
     "name": "stdout",
     "output_type": "stream",
     "text": [
      "[0.09597498 0.904025  ]\n",
      "Image 984.jpg is good, writing to good directory\n",
      "[0.7005112  0.29948872]\n",
      "Image 985.jpg is bad, writing to bad directory\n",
      "[0.31504595 0.6849541 ]\n",
      "Image 986.jpg is good, writing to good directory\n",
      "[0.31985933 0.6801407 ]\n",
      "Image 987.jpg is good, writing to good directory\n",
      "[0.06371167 0.93628836]\n",
      "Image 988.jpg is good, writing to good directory\n",
      "[0.56690294 0.43309703]\n",
      "Image 989.jpg is bad, writing to bad directory\n",
      "[0.5462214 0.4537786]\n",
      "Image 990.jpg is bad, writing to bad directory\n",
      "[0.55954975 0.4404502 ]\n",
      "Image 991.jpg is bad, writing to bad directory\n",
      "[0.10551278 0.89448714]\n",
      "Image 992.jpg is good, writing to good directory\n",
      "[0.06848159 0.9315184 ]\n",
      "Image 993.jpg is good, writing to good directory\n",
      "[0.34653917 0.65346086]\n",
      "Image 994.jpg is good, writing to good directory\n",
      "[0.16797912 0.8320208 ]\n",
      "Image 995.jpg is good, writing to good directory\n"
     ]
    },
    {
     "name": "stderr",
     "output_type": "stream",
     "text": [
      " 63%|██████▎   | 1003/1600 [00:15<00:11, 52.45it/s]"
     ]
    },
    {
     "name": "stdout",
     "output_type": "stream",
     "text": [
      "[0.28987548 0.71012455]\n",
      "Image 996.jpg is good, writing to good directory\n",
      "[0.6076769  0.39232305]\n",
      "Image 997.jpg is bad, writing to bad directory\n",
      "[0.6043999  0.39560008]\n",
      "Image 998.jpg is bad, writing to bad directory\n",
      "[0.40383902 0.596161  ]\n",
      "Image 999.jpg is good, writing to good directory\n",
      "[0.42664966 0.5733503 ]\n",
      "Image 1000.jpg is good, writing to good directory\n",
      "[0.07179974 0.92820024]\n",
      "Image 1001.jpg is good, writing to good directory\n",
      "[0.6705149  0.32948512]\n",
      "Image 1002.jpg is bad, writing to bad directory\n",
      "[0.6764617  0.32353833]\n",
      "Image 1003.jpg is bad, writing to bad directory\n",
      "[0.7443138  0.25568622]\n",
      "Image 1004.jpg is bad, writing to bad directory\n",
      "[0.4785064 0.5214936]\n",
      "Image 1005.jpg is good, writing to good directory\n",
      "[0.24550846 0.7544915 ]\n",
      "Image 1006.jpg is good, writing to good directory\n",
      "[0.7529979  0.24700212]\n",
      "Image 1007.jpg is bad, writing to bad directory\n"
     ]
    },
    {
     "name": "stderr",
     "output_type": "stream",
     "text": [
      " 63%|██████▎   | 1015/1600 [00:15<00:12, 48.73it/s]"
     ]
    },
    {
     "name": "stdout",
     "output_type": "stream",
     "text": [
      "[0.2918714  0.70812863]\n",
      "Image 1008.jpg is good, writing to good directory\n",
      "[0.11998884 0.8800112 ]\n",
      "Image 1009.jpg is good, writing to good directory\n",
      "[0.70351094 0.29648906]\n",
      "Image 1010.jpg is bad, writing to bad directory\n",
      "[0.9038184 0.0961816]\n",
      "Image 1011.jpg is bad, writing to bad directory\n",
      "[0.20892066 0.79107934]\n",
      "Image 1012.jpg is good, writing to good directory\n",
      "[0.9983253  0.00167476]\n",
      "Image 1013.jpg is bad, writing to bad directory\n",
      "[0.7831928  0.21680722]\n",
      "Image 1014.jpg is bad, writing to bad directory\n",
      "[0.7684779 0.2315221]\n",
      "Image 1015.jpg is bad, writing to bad directory\n",
      "[0.38702512 0.6129749 ]\n",
      "Image 1016.jpg is good, writing to good directory\n",
      "[0.1767914  0.82320863]\n",
      "Image 1017.jpg is good, writing to good directory\n"
     ]
    },
    {
     "name": "stderr",
     "output_type": "stream",
     "text": [
      " 64%|██████▍   | 1030/1600 [00:15<00:09, 57.30it/s]"
     ]
    },
    {
     "name": "stdout",
     "output_type": "stream",
     "text": [
      "[0.59190714 0.40809286]\n",
      "Image 1018.jpg is bad, writing to bad directory\n",
      "[0.5933432  0.40665683]\n",
      "Image 1019.jpg is bad, writing to bad directory\n",
      "[0.22971396 0.770286  ]\n",
      "Image 1020.jpg is good, writing to good directory\n",
      "[0.8717866  0.12821342]\n",
      "Image 1021.jpg is bad, writing to bad directory\n",
      "[0.6071447  0.39285532]\n",
      "Image 1022.jpg is bad, writing to bad directory\n",
      "[0.00419864 0.9958014 ]\n",
      "Image 1023.jpg is good, writing to good directory\n",
      "[0.21356404 0.78643596]\n",
      "Image 1024.jpg is good, writing to good directory\n",
      "[0.2512721 0.7487279]\n",
      "Image 1025.jpg is good, writing to good directory\n",
      "[0.11137439 0.8886256 ]\n",
      "Image 1026.jpg is good, writing to good directory\n",
      "[0.41091534 0.5890847 ]\n",
      "Image 1027.jpg is good, writing to good directory\n",
      "[0.88674456 0.11325546]\n",
      "Image 1028.jpg is bad, writing to bad directory\n",
      "[0.81223816 0.18776181]\n",
      "Image 1029.jpg is bad, writing to bad directory\n",
      "[0.3638982  0.63610184]\n",
      "Image 1030.jpg is good, writing to good directory\n",
      "[0.07634181 0.92365813]\n",
      "Image 1031.jpg is good, writing to good directory\n"
     ]
    },
    {
     "name": "stderr",
     "output_type": "stream",
     "text": [
      " 65%|██████▌   | 1042/1600 [00:16<00:09, 57.01it/s]"
     ]
    },
    {
     "name": "stdout",
     "output_type": "stream",
     "text": [
      "[0.87476945 0.12523057]\n",
      "Image 1032.jpg is bad, writing to bad directory\n",
      "[0.38830495 0.611695  ]\n",
      "Image 1033.jpg is good, writing to good directory\n",
      "[0.6104106  0.38958943]\n",
      "Image 1034.jpg is bad, writing to bad directory\n",
      "[0.08110347 0.9188965 ]\n",
      "Image 1035.jpg is good, writing to good directory\n",
      "[0.57104886 0.4289512 ]\n",
      "Image 1036.jpg is bad, writing to bad directory\n",
      "[0.47919193 0.5208081 ]\n",
      "Image 1037.jpg is good, writing to good directory\n",
      "[0.71583736 0.28416264]\n",
      "Image 1038.jpg is bad, writing to bad directory\n",
      "[0.16497648 0.8350235 ]\n",
      "Image 1039.jpg is good, writing to good directory\n",
      "[0.6409198 0.3590802]\n",
      "Image 1040.jpg is bad, writing to bad directory\n",
      "[0.94462454 0.05537543]\n",
      "Image 1041.jpg is bad, writing to bad directory\n",
      "[0.251122 0.748878]\n",
      "Image 1042.jpg is good, writing to good directory\n",
      "[0.5990328  0.40096718]\n",
      "Image 1043.jpg is bad, writing to bad directory\n",
      "[0.2939642  0.70603585]\n",
      "Image 1044.jpg is good, writing to good directory\n"
     ]
    },
    {
     "name": "stderr",
     "output_type": "stream",
     "text": [
      " 66%|██████▌   | 1056/1600 [00:16<00:08, 61.49it/s]"
     ]
    },
    {
     "name": "stdout",
     "output_type": "stream",
     "text": [
      "[0.36340922 0.6365908 ]\n",
      "Image 1045.jpg is good, writing to good directory\n",
      "[0.5533072  0.44669288]\n",
      "Image 1046.jpg is bad, writing to bad directory\n",
      "[0.35654566 0.6434543 ]\n",
      "Image 1047.jpg is good, writing to good directory\n",
      "[0.45263693 0.5473631 ]\n",
      "Image 1048.jpg is good, writing to good directory\n",
      "[0.5244029  0.47559705]\n",
      "Image 1049.jpg is bad, writing to bad directory\n",
      "[0.25790626 0.7420937 ]\n",
      "Image 1050.jpg is good, writing to good directory\n",
      "[0.09825964 0.9017403 ]\n",
      "Image 1051.jpg is good, writing to good directory\n",
      "[0.07950048 0.92049956]\n",
      "Image 1052.jpg is good, writing to good directory\n",
      "[0.57023895 0.42976108]\n",
      "Image 1053.jpg is bad, writing to bad directory\n",
      "[0.47734976 0.52265024]\n",
      "Image 1054.jpg is good, writing to good directory\n",
      "[0.31642 0.68358]\n",
      "Image 1055.jpg is good, writing to good directory\n",
      "[0.02983764 0.9701624 ]\n",
      "Image 1056.jpg is good, writing to good directory\n",
      "[0.20326674 0.79673326]\n",
      "Image 1057.jpg is good, writing to good directory\n",
      "[0.8291031  0.17089692]\n",
      "Image 1058.jpg is bad, writing to bad directory\n"
     ]
    },
    {
     "name": "stderr",
     "output_type": "stream",
     "text": [
      " 67%|██████▋   | 1071/1600 [00:16<00:08, 64.21it/s]"
     ]
    },
    {
     "name": "stdout",
     "output_type": "stream",
     "text": [
      "[0.9286524  0.07134764]\n",
      "Image 1059.jpg is bad, writing to bad directory\n",
      "[0.5423295  0.45767048]\n",
      "Image 1060.jpg is bad, writing to bad directory\n",
      "[0.51302207 0.48697796]\n",
      "Image 1061.jpg is bad, writing to bad directory\n",
      "[0.8966036 0.1033964]\n",
      "Image 1062.jpg is bad, writing to bad directory\n",
      "[0.9670313  0.03296863]\n",
      "Image 1063.jpg is bad, writing to bad directory\n",
      "[0.00919686 0.9908031 ]\n",
      "Image 1064.jpg is good, writing to good directory\n",
      "[0.47735208 0.5226479 ]\n",
      "Image 1065.jpg is good, writing to good directory\n",
      "[0.44388974 0.55611026]\n",
      "Image 1066.jpg is good, writing to good directory\n",
      "[0.63000906 0.36999092]\n",
      "Image 1067.jpg is bad, writing to bad directory\n",
      "[0.3897285 0.6102715]\n",
      "Image 1068.jpg is good, writing to good directory\n",
      "[0.5535943 0.4464057]\n",
      "Image 1069.jpg is bad, writing to bad directory\n",
      "[0.23373173 0.7662683 ]\n",
      "Image 1070.jpg is good, writing to good directory\n",
      "[0.61826044 0.38173962]\n",
      "Image 1071.jpg is bad, writing to bad directory\n"
     ]
    },
    {
     "name": "stderr",
     "output_type": "stream",
     "text": [
      " 67%|██████▋   | 1079/1600 [00:16<00:07, 67.31it/s]"
     ]
    },
    {
     "name": "stdout",
     "output_type": "stream",
     "text": [
      "[0.6528365  0.34716347]\n",
      "Image 1072.jpg is bad, writing to bad directory\n",
      "[0.1527628  0.84723717]\n",
      "Image 1073.jpg is good, writing to good directory\n",
      "[0.7144212 0.2855788]\n",
      "Image 1074.jpg is bad, writing to bad directory\n",
      "[0.02851389 0.97148615]\n",
      "Image 1075.jpg is good, writing to good directory\n",
      "[0.6499479  0.35005215]\n",
      "Image 1076.jpg is bad, writing to bad directory\n",
      "[0.2697769  0.73022306]\n",
      "Image 1077.jpg is good, writing to good directory\n",
      "[0.52915424 0.47084573]\n",
      "Image 1078.jpg is bad, writing to bad directory\n",
      "[0.09428529 0.9057147 ]\n",
      "Image 1079.jpg is good, writing to good directory\n",
      "[0.32973847 0.67026156]\n",
      "Image 1080.jpg is good, writing to good directory\n",
      "[0.13223013 0.86776984]\n",
      "Image 1081.jpg is good, writing to good directory\n",
      "[0.23272735 0.76727265]\n",
      "Image 1082.jpg is good, writing to good directory\n",
      "[0.08021258 0.91978735]\n",
      "Image 1083.jpg is good, writing to good directory\n",
      "[0.51032263 0.48967737]\n",
      "Image 1084.jpg is bad, writing to bad directory\n",
      "[0.990482   0.00951803]\n",
      "Image 1085.jpg is bad, writing to bad directory\n",
      "[0.03686724 0.96313274]\n",
      "Image 1086.jpg is good, writing to good directory\n"
     ]
    },
    {
     "name": "stderr",
     "output_type": "stream",
     "text": [
      " 69%|██████▉   | 1102/1600 [00:16<00:07, 69.01it/s]"
     ]
    },
    {
     "name": "stdout",
     "output_type": "stream",
     "text": [
      "[0.11052006 0.88947994]\n",
      "Image 1087.jpg is good, writing to good directory\n",
      "[0.2999043 0.7000957]\n",
      "Image 1088.jpg is good, writing to good directory\n",
      "[0.54155463 0.45844534]\n",
      "Image 1089.jpg is bad, writing to bad directory\n",
      "[0.14997698 0.85002303]\n",
      "Image 1090.jpg is good, writing to good directory\n",
      "[0.09873958 0.9012605 ]\n",
      "Image 1091.jpg is good, writing to good directory\n",
      "[0.10276403 0.89723593]\n",
      "Image 1092.jpg is good, writing to good directory\n",
      "[0.96407354 0.03592653]\n",
      "Image 1093.jpg is bad, writing to bad directory\n",
      "[0.53046995 0.46953008]\n",
      "Image 1094.jpg is bad, writing to bad directory\n",
      "[0.28300586 0.71699417]\n",
      "Image 1095.jpg is good, writing to good directory\n",
      "[0.43248525 0.5675147 ]\n",
      "Image 1096.jpg is good, writing to good directory\n",
      "[0.67530775 0.32469222]\n",
      "Image 1097.jpg is bad, writing to bad directory\n",
      "[0.0836934  0.91630656]\n",
      "Image 1098.jpg is good, writing to good directory\n",
      "[0.986605   0.01339495]\n",
      "Image 1099.jpg is bad, writing to bad directory\n",
      "[0.7307154  0.26928467]\n",
      "Image 1100.jpg is bad, writing to bad directory\n",
      "[0.4770343 0.5229657]\n",
      "Image 1101.jpg is good, writing to good directory\n"
     ]
    },
    {
     "name": "stderr",
     "output_type": "stream",
     "text": [
      " 69%|██████▉   | 1109/1600 [00:17<00:07, 67.39it/s]"
     ]
    },
    {
     "name": "stdout",
     "output_type": "stream",
     "text": [
      "[0.23299906 0.7670009 ]\n",
      "Image 1102.jpg is good, writing to good directory\n",
      "[0.99076766 0.00923232]\n",
      "Image 1103.jpg is bad, writing to bad directory\n",
      "[0.57050735 0.4294926 ]\n",
      "Image 1104.jpg is bad, writing to bad directory\n",
      "[0.10441729 0.89558274]\n",
      "Image 1105.jpg is good, writing to good directory\n",
      "[0.12238768 0.8776123 ]\n",
      "Image 1106.jpg is good, writing to good directory\n",
      "[0.17245705 0.8275429 ]\n",
      "Image 1107.jpg is good, writing to good directory\n",
      "[0.51637614 0.4836239 ]\n",
      "Image 1108.jpg is bad, writing to bad directory\n",
      "[0.9682612  0.03173882]\n",
      "Image 1109.jpg is bad, writing to bad directory\n",
      "[0.7943233  0.20567665]\n",
      "Image 1110.jpg is bad, writing to bad directory\n",
      "[0.49525622 0.50474375]\n",
      "Image 1111.jpg is good, writing to good directory\n",
      "[0.3525154 0.6474846]\n",
      "Image 1112.jpg is good, writing to good directory\n",
      "[0.00724846 0.9927516 ]\n",
      "Image 1113.jpg is good, writing to good directory\n",
      "[0.16510208 0.8348979 ]\n",
      "Image 1114.jpg is good, writing to good directory\n"
     ]
    },
    {
     "name": "stderr",
     "output_type": "stream",
     "text": [
      " 70%|██████▉   | 1116/1600 [00:17<00:07, 67.00it/s]"
     ]
    },
    {
     "name": "stdout",
     "output_type": "stream",
     "text": [
      "[0.9579711  0.04202892]\n",
      "Image 1115.jpg is bad, writing to bad directory\n",
      "[0.37296578 0.62703425]\n",
      "Image 1116.jpg is good, writing to good directory\n",
      "[0.12657745 0.87342256]\n",
      "Image 1117.jpg is good, writing to good directory\n",
      "[0.32212856 0.6778714 ]\n",
      "Image 1118.jpg is good, writing to good directory\n",
      "[0.08220213 0.91779786]\n",
      "Image 1119.jpg is good, writing to good directory\n"
     ]
    },
    {
     "name": "stderr",
     "output_type": "stream",
     "text": [
      " 71%|███████   | 1129/1600 [00:17<00:10, 46.67it/s]"
     ]
    },
    {
     "name": "stdout",
     "output_type": "stream",
     "text": [
      "[0.61453706 0.38546294]\n",
      "Image 1120.jpg is bad, writing to bad directory\n",
      "[0.22163191 0.77836806]\n",
      "Image 1121.jpg is good, writing to good directory\n",
      "[0.794238   0.20576201]\n",
      "Image 1122.jpg is bad, writing to bad directory\n",
      "[0.2635565 0.7364435]\n",
      "Image 1123.jpg is good, writing to good directory\n",
      "[0.49065542 0.5093446 ]\n",
      "Image 1124.jpg is good, writing to good directory\n",
      "[0.26816043 0.73183954]\n",
      "Image 1125.jpg is good, writing to good directory\n",
      "[0.44766888 0.5523311 ]\n",
      "Image 1126.jpg is good, writing to good directory\n",
      "[0.05109947 0.9489005 ]\n",
      "Image 1127.jpg is good, writing to good directory\n",
      "[0.0879079  0.91209215]\n",
      "Image 1128.jpg is good, writing to good directory\n",
      "[0.9086831  0.09131692]\n",
      "Image 1129.jpg is bad, writing to bad directory\n",
      "[0.23314168 0.76685834]\n",
      "Image 1130.jpg is good, writing to good directory\n",
      "[0.00992495 0.99007505]\n",
      "Image 1131.jpg is good, writing to good directory\n"
     ]
    },
    {
     "name": "stderr",
     "output_type": "stream",
     "text": [
      " 71%|███████▏  | 1142/1600 [00:17<00:09, 50.48it/s]"
     ]
    },
    {
     "name": "stdout",
     "output_type": "stream",
     "text": [
      "[0.16743468 0.83256525]\n",
      "Image 1132.jpg is good, writing to good directory\n",
      "[0.7115158  0.28848422]\n",
      "Image 1133.jpg is bad, writing to bad directory\n",
      "[0.515064   0.48493606]\n",
      "Image 1134.jpg is bad, writing to bad directory\n",
      "[0.29683426 0.7031657 ]\n",
      "Image 1135.jpg is good, writing to good directory\n",
      "[0.47778288 0.5222171 ]\n",
      "Image 1136.jpg is good, writing to good directory\n",
      "[0.43212107 0.56787896]\n",
      "Image 1137.jpg is good, writing to good directory\n",
      "[0.31349626 0.6865037 ]\n",
      "Image 1138.jpg is good, writing to good directory\n",
      "[0.17053312 0.8294668 ]\n",
      "Image 1139.jpg is good, writing to good directory\n",
      "[0.05874905 0.9412509 ]\n",
      "Image 1140.jpg is good, writing to good directory\n",
      "[0.08194373 0.9180563 ]\n",
      "Image 1141.jpg is good, writing to good directory\n",
      "[0.5883037  0.41169634]\n",
      "Image 1142.jpg is bad, writing to bad directory\n",
      "[0.0608924  0.93910766]\n",
      "Image 1143.jpg is good, writing to good directory\n"
     ]
    },
    {
     "name": "stderr",
     "output_type": "stream",
     "text": [
      " 72%|███████▏  | 1148/1600 [00:17<00:09, 49.64it/s]"
     ]
    },
    {
     "name": "stdout",
     "output_type": "stream",
     "text": [
      "[0.40376663 0.59623337]\n",
      "Image 1144.jpg is good, writing to good directory\n",
      "[0.79202914 0.20797083]\n",
      "Image 1145.jpg is bad, writing to bad directory\n",
      "[0.12984565 0.8701543 ]\n",
      "Image 1146.jpg is good, writing to good directory\n",
      "[0.11149063 0.8885094 ]\n",
      "Image 1147.jpg is good, writing to good directory\n",
      "[0.49839434 0.5016057 ]\n",
      "Image 1148.jpg is good, writing to good directory\n",
      "[0.4911507  0.50884926]\n",
      "Image 1149.jpg is good, writing to good directory\n",
      "[0.40496162 0.59503835]\n",
      "Image 1150.jpg is good, writing to good directory\n",
      "[0.09241337 0.90758663]\n",
      "Image 1151.jpg is good, writing to good directory\n",
      "[0.5019904  0.49800962]\n",
      "Image 1152.jpg is bad, writing to bad directory\n",
      "[0.04926481 0.9507353 ]\n",
      "Image 1153.jpg is good, writing to good directory\n",
      "[0.20846052 0.7915395 ]\n",
      "Image 1154.jpg is good, writing to good directory\n"
     ]
    },
    {
     "name": "stderr",
     "output_type": "stream",
     "text": [
      " 73%|███████▎  | 1164/1600 [00:18<00:07, 60.41it/s]"
     ]
    },
    {
     "name": "stdout",
     "output_type": "stream",
     "text": [
      "[0.10577724 0.89422274]\n",
      "Image 1155.jpg is good, writing to good directory\n",
      "[0.40320733 0.5967927 ]\n",
      "Image 1156.jpg is good, writing to good directory\n",
      "[0.4349731 0.5650269]\n",
      "Image 1157.jpg is good, writing to good directory\n",
      "[0.8406801  0.15931985]\n",
      "Image 1158.jpg is bad, writing to bad directory\n",
      "[0.29920298 0.700797  ]\n",
      "Image 1159.jpg is good, writing to good directory\n",
      "[0.10457741 0.8954226 ]\n",
      "Image 1160.jpg is good, writing to good directory\n",
      "[0.3642116  0.63578844]\n",
      "Image 1161.jpg is good, writing to good directory\n",
      "[0.6030968  0.39690325]\n",
      "Image 1162.jpg is bad, writing to bad directory\n",
      "[0.31267834 0.68732166]\n",
      "Image 1163.jpg is good, writing to good directory\n",
      "[0.5145783  0.48542175]\n",
      "Image 1164.jpg is bad, writing to bad directory\n",
      "[0.7095662  0.29043385]\n",
      "Image 1165.jpg is bad, writing to bad directory\n",
      "[0.49303815 0.5069618 ]\n",
      "Image 1166.jpg is good, writing to good directory\n",
      "[0.9689599  0.03104009]\n",
      "Image 1167.jpg is bad, writing to bad directory\n",
      "[0.2967795 0.7032205]\n",
      "Image 1168.jpg is good, writing to good directory\n",
      "[0.271111 0.728889]\n",
      "Image 1169.jpg is good, writing to good directory\n"
     ]
    },
    {
     "name": "stderr",
     "output_type": "stream",
     "text": [
      " 74%|███████▎  | 1179/1600 [00:18<00:06, 63.73it/s]"
     ]
    },
    {
     "name": "stdout",
     "output_type": "stream",
     "text": [
      "[0.5187442 0.4812558]\n",
      "Image 1170.jpg is bad, writing to bad directory\n",
      "[0.694934   0.30506596]\n",
      "Image 1171.jpg is bad, writing to bad directory\n",
      "[0.16198137 0.8380186 ]\n",
      "Image 1172.jpg is good, writing to good directory\n",
      "[0.61372465 0.38627532]\n",
      "Image 1173.jpg is bad, writing to bad directory\n",
      "[0.224025 0.775975]\n",
      "Image 1174.jpg is good, writing to good directory\n",
      "[0.96880275 0.03119725]\n",
      "Image 1175.jpg is bad, writing to bad directory\n",
      "[0.6672827  0.33271736]\n",
      "Image 1176.jpg is bad, writing to bad directory\n",
      "[0.7761287  0.22387126]\n",
      "Image 1177.jpg is bad, writing to bad directory\n",
      "[0.24242115 0.75757885]\n",
      "Image 1178.jpg is good, writing to good directory\n",
      "[0.9393976  0.06060241]\n",
      "Image 1179.jpg is bad, writing to bad directory\n",
      "[0.27540758 0.72459245]\n",
      "Image 1180.jpg is good, writing to good directory\n",
      "[0.9771236  0.02287646]\n",
      "Image 1181.jpg is bad, writing to bad directory\n",
      "[0.17119095 0.8288091 ]\n",
      "Image 1182.jpg is good, writing to good directory\n",
      "[0.20040509 0.79959494]\n",
      "Image 1183.jpg is good, writing to good directory\n"
     ]
    },
    {
     "name": "stderr",
     "output_type": "stream",
     "text": [
      " 75%|███████▍  | 1195/1600 [00:18<00:05, 69.26it/s]"
     ]
    },
    {
     "name": "stdout",
     "output_type": "stream",
     "text": [
      "[0.5605351  0.43946496]\n",
      "Image 1184.jpg is bad, writing to bad directory\n",
      "[0.78379804 0.21620193]\n",
      "Image 1185.jpg is bad, writing to bad directory\n",
      "[0.5029516  0.49704838]\n",
      "Image 1186.jpg is bad, writing to bad directory\n",
      "[0.11526085 0.8847391 ]\n",
      "Image 1187.jpg is good, writing to good directory\n",
      "[0.28280637 0.71719366]\n",
      "Image 1188.jpg is good, writing to good directory\n",
      "[0.9945939  0.00540605]\n",
      "Image 1189.jpg is bad, writing to bad directory\n",
      "[0.7820466 0.2179534]\n",
      "Image 1190.jpg is bad, writing to bad directory\n",
      "[0.6413697  0.35863033]\n",
      "Image 1191.jpg is bad, writing to bad directory\n",
      "[0.08711515 0.9128849 ]\n",
      "Image 1192.jpg is good, writing to good directory\n",
      "[0.3737084  0.62629163]\n",
      "Image 1193.jpg is good, writing to good directory\n",
      "[0.46333486 0.5366651 ]\n",
      "Image 1194.jpg is good, writing to good directory\n",
      "[0.23512812 0.76487184]\n",
      "Image 1195.jpg is good, writing to good directory\n",
      "[0.7595111 0.2404889]\n",
      "Image 1196.jpg is bad, writing to bad directory\n",
      "[0.64361024 0.35638976]\n",
      "Image 1197.jpg is bad, writing to bad directory\n",
      "[0.50501066 0.49498934]\n",
      "Image 1198.jpg is bad, writing to bad directory\n"
     ]
    },
    {
     "name": "stderr",
     "output_type": "stream",
     "text": [
      " 76%|███████▌  | 1210/1600 [00:18<00:05, 66.49it/s]"
     ]
    },
    {
     "name": "stdout",
     "output_type": "stream",
     "text": [
      "[0.03552675 0.9644732 ]\n",
      "Image 1199.jpg is good, writing to good directory\n",
      "[0.53293145 0.46706855]\n",
      "Image 1200.jpg is bad, writing to bad directory\n",
      "[0.16461025 0.83538973]\n",
      "Image 1201.jpg is good, writing to good directory\n",
      "[0.32721847 0.6727815 ]\n",
      "Image 1202.jpg is good, writing to good directory\n",
      "[0.714656   0.28534395]\n",
      "Image 1203.jpg is bad, writing to bad directory\n",
      "[0.27297002 0.7270299 ]\n",
      "Image 1204.jpg is good, writing to good directory\n",
      "[0.21206279 0.7879372 ]\n",
      "Image 1205.jpg is good, writing to good directory\n",
      "[0.1889259  0.81107414]\n",
      "Image 1206.jpg is good, writing to good directory\n",
      "[0.08326589 0.91673416]\n",
      "Image 1207.jpg is good, writing to good directory\n",
      "[0.33411035 0.6658896 ]\n",
      "Image 1208.jpg is good, writing to good directory\n",
      "[0.08321899 0.91678107]\n",
      "Image 1209.jpg is good, writing to good directory\n",
      "[0.04659227 0.95340776]\n",
      "Image 1210.jpg is good, writing to good directory\n",
      "[0.1279551 0.8720449]\n",
      "Image 1211.jpg is good, writing to good directory\n",
      "[0.5232097  0.47679037]\n",
      "Image 1212.jpg is bad, writing to bad directory\n"
     ]
    },
    {
     "name": "stderr",
     "output_type": "stream",
     "text": [
      " 77%|███████▋  | 1226/1600 [00:19<00:05, 70.47it/s]"
     ]
    },
    {
     "name": "stdout",
     "output_type": "stream",
     "text": [
      "[0.0259009  0.97409904]\n",
      "Image 1213.jpg is good, writing to good directory\n",
      "[0.36897194 0.63102806]\n",
      "Image 1214.jpg is good, writing to good directory\n",
      "[0.9313223  0.06867769]\n",
      "Image 1215.jpg is bad, writing to bad directory\n",
      "[0.04743949 0.95256054]\n",
      "Image 1216.jpg is good, writing to good directory\n",
      "[0.09514901 0.90485096]\n",
      "Image 1217.jpg is good, writing to good directory\n",
      "[0.17299885 0.8270012 ]\n",
      "Image 1218.jpg is good, writing to good directory\n",
      "[0.61453193 0.3854681 ]\n",
      "Image 1219.jpg is bad, writing to bad directory\n",
      "[0.15523377 0.8447662 ]\n",
      "Image 1220.jpg is good, writing to good directory\n",
      "[0.20455134 0.79544866]\n",
      "Image 1221.jpg is good, writing to good directory\n",
      "[0.78497434 0.21502562]\n",
      "Image 1222.jpg is bad, writing to bad directory\n",
      "[0.4158954 0.5841046]\n",
      "Image 1223.jpg is good, writing to good directory\n",
      "[0.4101391  0.58986086]\n",
      "Image 1224.jpg is good, writing to good directory\n",
      "[0.7171313  0.28286862]\n",
      "Image 1225.jpg is bad, writing to bad directory\n",
      "[0.12849654 0.8715035 ]\n",
      "Image 1226.jpg is good, writing to good directory\n",
      "[0.48509756 0.5149025 ]\n",
      "Image 1227.jpg is good, writing to good directory\n"
     ]
    },
    {
     "name": "stderr",
     "output_type": "stream",
     "text": [
      " 77%|███████▋  | 1234/1600 [00:19<00:05, 70.19it/s]"
     ]
    },
    {
     "name": "stdout",
     "output_type": "stream",
     "text": [
      "[0.44310597 0.556894  ]\n",
      "Image 1228.jpg is good, writing to good directory\n",
      "[0.00111959 0.99888045]\n",
      "Image 1229.jpg is good, writing to good directory\n",
      "[0.9199298  0.08007026]\n",
      "Image 1230.jpg is bad, writing to bad directory\n",
      "[0.5405528 0.4594472]\n",
      "Image 1231.jpg is bad, writing to bad directory\n",
      "[0.7080806  0.29191947]\n",
      "Image 1232.jpg is bad, writing to bad directory\n",
      "[0.2588768  0.74112326]\n",
      "Image 1233.jpg is good, writing to good directory\n",
      "[0.10098254 0.89901745]\n",
      "Image 1234.jpg is good, writing to good directory\n",
      "[0.11701146 0.8829885 ]\n",
      "Image 1235.jpg is good, writing to good directory\n",
      "[0.34533134 0.6546687 ]\n",
      "Image 1236.jpg is good, writing to good directory\n",
      "[0.34812686 0.6518731 ]\n",
      "Image 1237.jpg is good, writing to good directory\n",
      "[0.75564486 0.24435513]\n",
      "Image 1238.jpg is bad, writing to bad directory\n",
      "[0.1690879 0.8309121]\n",
      "Image 1239.jpg is good, writing to good directory\n",
      "[0.3612835 0.6387165]\n",
      "Image 1240.jpg is good, writing to good directory\n",
      "[0.39074478 0.60925525]\n",
      "Image 1241.jpg is good, writing to good directory\n"
     ]
    },
    {
     "name": "stderr",
     "output_type": "stream",
     "text": [
      " 78%|███████▊  | 1249/1600 [00:19<00:05, 67.83it/s]"
     ]
    },
    {
     "name": "stdout",
     "output_type": "stream",
     "text": [
      "[0.4868304 0.5131696]\n",
      "Image 1242.jpg is good, writing to good directory\n",
      "[0.17763963 0.8223604 ]\n",
      "Image 1243.jpg is good, writing to good directory\n",
      "[0.23161174 0.7683882 ]\n",
      "Image 1244.jpg is good, writing to good directory\n",
      "[0.94364226 0.05635777]\n",
      "Image 1245.jpg is bad, writing to bad directory\n",
      "[0.86676633 0.13323364]\n",
      "Image 1246.jpg is bad, writing to bad directory\n",
      "[0.7037003  0.29629967]\n",
      "Image 1247.jpg is bad, writing to bad directory\n",
      "[0.52069306 0.47930697]\n",
      "Image 1248.jpg is bad, writing to bad directory\n",
      "[0.04988587 0.95011413]\n",
      "Image 1249.jpg is good, writing to good directory\n",
      "[0.22277462 0.77722543]\n",
      "Image 1250.jpg is good, writing to good directory\n",
      "[0.02097938 0.9790206 ]\n",
      "Image 1251.jpg is good, writing to good directory\n",
      "[0.14171189 0.85828817]\n",
      "Image 1252.jpg is good, writing to good directory\n",
      "[0.2659938  0.73400617]\n",
      "Image 1253.jpg is good, writing to good directory\n",
      "[0.01780847 0.9821915 ]\n",
      "Image 1254.jpg is good, writing to good directory\n"
     ]
    },
    {
     "name": "stderr",
     "output_type": "stream",
     "text": [
      " 79%|███████▉  | 1265/1600 [00:19<00:04, 71.30it/s]"
     ]
    },
    {
     "name": "stdout",
     "output_type": "stream",
     "text": [
      "[0.8496125  0.15038756]\n",
      "Image 1255.jpg is bad, writing to bad directory\n",
      "[0.6312494  0.36875057]\n",
      "Image 1256.jpg is bad, writing to bad directory\n",
      "[0.53016084 0.46983916]\n",
      "Image 1257.jpg is bad, writing to bad directory\n",
      "[0.4896651  0.51033485]\n",
      "Image 1258.jpg is good, writing to good directory\n",
      "[0.5089792 0.4910208]\n",
      "Image 1259.jpg is bad, writing to bad directory\n",
      "[0.6518291  0.34817088]\n",
      "Image 1260.jpg is bad, writing to bad directory\n",
      "[0.9953532  0.00464683]\n",
      "Image 1261.jpg is bad, writing to bad directory\n",
      "[0.21302095 0.786979  ]\n",
      "Image 1262.jpg is good, writing to good directory\n",
      "[0.3928081 0.6071919]\n",
      "Image 1263.jpg is good, writing to good directory\n",
      "[0.5566694  0.44333065]\n",
      "Image 1264.jpg is bad, writing to bad directory\n",
      "[0.05966669 0.9403333 ]\n",
      "Image 1265.jpg is good, writing to good directory\n",
      "[0.01882858 0.98117137]\n",
      "Image 1266.jpg is good, writing to good directory\n",
      "[0.15731551 0.8426845 ]\n",
      "Image 1267.jpg is good, writing to good directory\n",
      "[0.25467658 0.7453235 ]\n",
      "Image 1268.jpg is good, writing to good directory\n",
      "[0.04525536 0.95474464]\n",
      "Image 1269.jpg is good, writing to good directory\n"
     ]
    },
    {
     "name": "stderr",
     "output_type": "stream",
     "text": [
      " 80%|████████  | 1281/1600 [00:19<00:04, 69.20it/s]"
     ]
    },
    {
     "name": "stdout",
     "output_type": "stream",
     "text": [
      "[0.6604423  0.33955768]\n",
      "Image 1270.jpg is bad, writing to bad directory\n",
      "[0.05483738 0.9451626 ]\n",
      "Image 1271.jpg is good, writing to good directory\n",
      "[0.4588218  0.54117817]\n",
      "Image 1272.jpg is good, writing to good directory\n",
      "[0.24423368 0.75576633]\n",
      "Image 1273.jpg is good, writing to good directory\n",
      "[0.49952924 0.50047076]\n",
      "Image 1274.jpg is good, writing to good directory\n",
      "[0.08382178 0.91617817]\n",
      "Image 1275.jpg is good, writing to good directory\n",
      "[0.77640176 0.22359821]\n",
      "Image 1276.jpg is bad, writing to bad directory\n",
      "[0.81210583 0.18789424]\n",
      "Image 1277.jpg is bad, writing to bad directory\n",
      "[0.39880517 0.60119486]\n",
      "Image 1278.jpg is good, writing to good directory\n",
      "[0.6844749  0.31552514]\n",
      "Image 1279.jpg is bad, writing to bad directory\n",
      "[0.15989034 0.8401097 ]\n",
      "Image 1280.jpg is good, writing to good directory\n",
      "[0.08170156 0.9182985 ]\n",
      "Image 1281.jpg is good, writing to good directory\n",
      "[0.2391482 0.7608518]\n",
      "Image 1282.jpg is good, writing to good directory\n",
      "[0.13852927 0.8614707 ]\n",
      "Image 1283.jpg is good, writing to good directory\n",
      "[0.2146384  0.78536165]\n",
      "Image 1284.jpg is good, writing to good directory\n"
     ]
    },
    {
     "name": "stderr",
     "output_type": "stream",
     "text": [
      " 80%|████████  | 1288/1600 [00:19<00:04, 68.67it/s]"
     ]
    },
    {
     "name": "stdout",
     "output_type": "stream",
     "text": [
      "[0.82620513 0.1737949 ]\n",
      "Image 1285.jpg is bad, writing to bad directory\n",
      "[0.40779158 0.59220845]\n",
      "Image 1286.jpg is good, writing to good directory\n",
      "[0.51813954 0.4818604 ]\n",
      "Image 1287.jpg is bad, writing to bad directory\n",
      "[0.09422699 0.905773  ]\n",
      "Image 1288.jpg is good, writing to good directory\n"
     ]
    },
    {
     "name": "stderr",
     "output_type": "stream",
     "text": [
      " 81%|████████  | 1295/1600 [00:20<00:07, 41.47it/s]"
     ]
    },
    {
     "name": "stdout",
     "output_type": "stream",
     "text": [
      "[0.05849222 0.94150776]\n",
      "Image 1289.jpg is good, writing to good directory\n",
      "[0.5093764 0.4906236]\n",
      "Image 1290.jpg is bad, writing to bad directory\n",
      "[0.12514625 0.8748538 ]\n",
      "Image 1291.jpg is good, writing to good directory\n",
      "[0.72611487 0.27388516]\n",
      "Image 1292.jpg is bad, writing to bad directory\n",
      "[0.95472085 0.0452791 ]\n",
      "Image 1293.jpg is bad, writing to bad directory\n",
      "[0.14799428 0.8520057 ]\n",
      "Image 1294.jpg is good, writing to good directory\n",
      "[0.65796727 0.3420327 ]\n",
      "Image 1295.jpg is bad, writing to bad directory\n",
      "[0.670881   0.32911903]\n",
      "Image 1296.jpg is bad, writing to bad directory\n",
      "[0.4062576 0.5937424]\n",
      "Image 1297.jpg is good, writing to good directory\n"
     ]
    },
    {
     "name": "stderr",
     "output_type": "stream",
     "text": [
      " 82%|████████▏ | 1309/1600 [00:20<00:05, 50.74it/s]"
     ]
    },
    {
     "name": "stdout",
     "output_type": "stream",
     "text": [
      "[0.348124   0.65187603]\n",
      "Image 1298.jpg is good, writing to good directory\n",
      "[0.5164357  0.48356432]\n",
      "Image 1299.jpg is bad, writing to bad directory\n",
      "[0.73719424 0.26280573]\n",
      "Image 1300.jpg is bad, writing to bad directory\n",
      "[0.17275521 0.8272448 ]\n",
      "Image 1301.jpg is good, writing to good directory\n",
      "[0.357251 0.642749]\n",
      "Image 1302.jpg is good, writing to good directory\n",
      "[0.01815788 0.98184216]\n",
      "Image 1303.jpg is good, writing to good directory\n",
      "[0.96010906 0.03989096]\n",
      "Image 1304.jpg is bad, writing to bad directory\n",
      "[0.94803256 0.05196742]\n",
      "Image 1305.jpg is bad, writing to bad directory\n",
      "[0.45284978 0.54715025]\n",
      "Image 1306.jpg is good, writing to good directory\n",
      "[0.14012401 0.859876  ]\n",
      "Image 1307.jpg is good, writing to good directory\n",
      "[0.48336488 0.5166351 ]\n",
      "Image 1308.jpg is good, writing to good directory\n",
      "[0.6384939  0.36150607]\n",
      "Image 1309.jpg is bad, writing to bad directory\n",
      "[0.8262766 0.1737234]\n",
      "Image 1310.jpg is bad, writing to bad directory\n",
      "[0.6912604  0.30873957]\n",
      "Image 1311.jpg is bad, writing to bad directory\n"
     ]
    },
    {
     "name": "stderr",
     "output_type": "stream",
     "text": [
      " 82%|████████▏ | 1316/1600 [00:20<00:05, 47.98it/s]"
     ]
    },
    {
     "name": "stdout",
     "output_type": "stream",
     "text": [
      "[0.53558093 0.46441907]\n",
      "Image 1312.jpg is bad, writing to bad directory\n",
      "[0.14047252 0.85952747]\n",
      "Image 1313.jpg is good, writing to good directory\n",
      "[0.3926556 0.6073444]\n",
      "Image 1314.jpg is good, writing to good directory\n",
      "[0.99252135 0.00747862]\n",
      "Image 1315.jpg is bad, writing to bad directory\n",
      "[0.23981401 0.76018596]\n",
      "Image 1316.jpg is good, writing to good directory\n",
      "[0.9415814  0.05841858]\n",
      "Image 1317.jpg is bad, writing to bad directory\n",
      "[0.54009473 0.4599053 ]\n",
      "Image 1318.jpg is bad, writing to bad directory\n",
      "[0.20814969 0.7918503 ]\n",
      "Image 1319.jpg is good, writing to good directory\n",
      "[0.8390496  0.16095044]\n",
      "Image 1320.jpg is bad, writing to bad directory\n",
      "[0.23794036 0.7620597 ]\n",
      "Image 1321.jpg is good, writing to good directory\n",
      "[0.09173727 0.90826267]\n",
      "Image 1322.jpg is good, writing to good directory\n",
      "[0.34499237 0.6550076 ]\n",
      "Image 1323.jpg is good, writing to good directory\n"
     ]
    },
    {
     "name": "stderr",
     "output_type": "stream",
     "text": [
      " 83%|████████▎ | 1332/1600 [00:20<00:04, 58.54it/s]"
     ]
    },
    {
     "name": "stdout",
     "output_type": "stream",
     "text": [
      "[0.12279717 0.8772028 ]\n",
      "Image 1324.jpg is good, writing to good directory\n",
      "[0.2695694  0.73043066]\n",
      "Image 1325.jpg is good, writing to good directory\n",
      "[0.06844295 0.93155706]\n",
      "Image 1326.jpg is good, writing to good directory\n",
      "[0.8987064 0.1012936]\n",
      "Image 1327.jpg is bad, writing to bad directory\n",
      "[0.3314275 0.6685724]\n",
      "Image 1328.jpg is good, writing to good directory\n",
      "[0.94789433 0.05210568]\n",
      "Image 1329.jpg is bad, writing to bad directory\n",
      "[0.09071156 0.90928847]\n",
      "Image 1330.jpg is good, writing to good directory\n",
      "[0.12667696 0.873323  ]\n",
      "Image 1331.jpg is good, writing to good directory\n",
      "[0.7528256 0.2471744]\n",
      "Image 1332.jpg is bad, writing to bad directory\n",
      "[0.31774008 0.6822599 ]\n",
      "Image 1333.jpg is good, writing to good directory\n",
      "[0.74901825 0.25098175]\n",
      "Image 1334.jpg is bad, writing to bad directory\n",
      "[0.19775182 0.8022482 ]\n",
      "Image 1335.jpg is good, writing to good directory\n",
      "[0.43124986 0.5687502 ]\n",
      "Image 1336.jpg is good, writing to good directory\n",
      "[0.33607775 0.66392225]\n",
      "Image 1337.jpg is good, writing to good directory\n"
     ]
    },
    {
     "name": "stderr",
     "output_type": "stream",
     "text": [
      " 84%|████████▍ | 1347/1600 [00:21<00:04, 62.73it/s]"
     ]
    },
    {
     "name": "stdout",
     "output_type": "stream",
     "text": [
      "[0.43441522 0.5655847 ]\n",
      "Image 1338.jpg is good, writing to good directory\n",
      "[0.16079827 0.83920175]\n",
      "Image 1339.jpg is good, writing to good directory\n",
      "[0.80668324 0.19331674]\n",
      "Image 1340.jpg is bad, writing to bad directory\n",
      "[0.61396027 0.38603976]\n",
      "Image 1341.jpg is bad, writing to bad directory\n",
      "[0.5809616  0.41903836]\n",
      "Image 1342.jpg is bad, writing to bad directory\n",
      "[0.9154431  0.08455688]\n",
      "Image 1343.jpg is bad, writing to bad directory\n",
      "[0.830682 0.169318]\n",
      "Image 1344.jpg is bad, writing to bad directory\n",
      "[0.9108433  0.08915675]\n",
      "Image 1345.jpg is bad, writing to bad directory\n",
      "[0.29568264 0.70431733]\n",
      "Image 1346.jpg is good, writing to good directory\n",
      "[0.11836109 0.8816389 ]\n",
      "Image 1347.jpg is good, writing to good directory\n",
      "[0.7559713  0.24402864]\n",
      "Image 1348.jpg is bad, writing to bad directory\n",
      "[0.96415794 0.03584203]\n",
      "Image 1349.jpg is bad, writing to bad directory\n",
      "[0.34929422 0.6507058 ]\n",
      "Image 1350.jpg is good, writing to good directory\n",
      "[0.4153241 0.5846759]\n",
      "Image 1351.jpg is good, writing to good directory\n"
     ]
    },
    {
     "name": "stderr",
     "output_type": "stream",
     "text": [
      " 85%|████████▌ | 1361/1600 [00:21<00:03, 64.18it/s]"
     ]
    },
    {
     "name": "stdout",
     "output_type": "stream",
     "text": [
      "[0.32525474 0.67474526]\n",
      "Image 1352.jpg is good, writing to good directory\n",
      "[0.6558246  0.34417543]\n",
      "Image 1353.jpg is bad, writing to bad directory\n",
      "[0.52691346 0.47308648]\n",
      "Image 1354.jpg is bad, writing to bad directory\n",
      "[0.60371995 0.39628005]\n",
      "Image 1355.jpg is bad, writing to bad directory\n",
      "[0.6078084  0.39219162]\n",
      "Image 1356.jpg is bad, writing to bad directory\n",
      "[0.76584387 0.23415612]\n",
      "Image 1357.jpg is bad, writing to bad directory\n",
      "[0.2992463 0.7007537]\n",
      "Image 1358.jpg is good, writing to good directory\n",
      "[0.08388191 0.916118  ]\n",
      "Image 1359.jpg is good, writing to good directory\n",
      "[0.41063356 0.58936644]\n",
      "Image 1360.jpg is good, writing to good directory\n",
      "[0.5707225  0.42927748]\n",
      "Image 1361.jpg is bad, writing to bad directory\n",
      "[0.21080151 0.78919846]\n",
      "Image 1362.jpg is good, writing to good directory\n",
      "[0.7487421  0.25125787]\n",
      "Image 1363.jpg is bad, writing to bad directory\n",
      "[0.13615094 0.8638491 ]\n",
      "Image 1364.jpg is good, writing to good directory\n",
      "[0.670597 0.329403]\n",
      "Image 1365.jpg is bad, writing to bad directory\n"
     ]
    },
    {
     "name": "stderr",
     "output_type": "stream",
     "text": [
      " 86%|████████▌ | 1376/1600 [00:21<00:03, 67.39it/s]"
     ]
    },
    {
     "name": "stdout",
     "output_type": "stream",
     "text": [
      "[0.23160933 0.7683906 ]\n",
      "Image 1366.jpg is good, writing to good directory\n",
      "[0.10645243 0.89354753]\n",
      "Image 1367.jpg is good, writing to good directory\n",
      "[0.7462618 0.2537382]\n",
      "Image 1368.jpg is bad, writing to bad directory\n",
      "[0.7944283  0.20557179]\n",
      "Image 1369.jpg is bad, writing to bad directory\n",
      "[0.01973125 0.9802688 ]\n",
      "Image 1370.jpg is good, writing to good directory\n",
      "[0.8183854 0.1816146]\n",
      "Image 1371.jpg is bad, writing to bad directory\n",
      "[0.21803458 0.78196543]\n",
      "Image 1372.jpg is good, writing to good directory\n",
      "[0.44537655 0.5546234 ]\n",
      "Image 1373.jpg is good, writing to good directory\n",
      "[0.17861189 0.82138807]\n",
      "Image 1374.jpg is good, writing to good directory\n",
      "[0.7189181  0.28108194]\n",
      "Image 1375.jpg is bad, writing to bad directory\n",
      "[0.8337188  0.16628125]\n",
      "Image 1376.jpg is bad, writing to bad directory\n",
      "[0.2572126  0.74278736]\n",
      "Image 1377.jpg is good, writing to good directory\n",
      "[0.17547894 0.82452106]\n",
      "Image 1378.jpg is good, writing to good directory\n",
      "[0.9068252  0.09317478]\n",
      "Image 1379.jpg is bad, writing to bad directory\n"
     ]
    },
    {
     "name": "stderr",
     "output_type": "stream",
     "text": [
      " 87%|████████▋ | 1390/1600 [00:21<00:03, 64.56it/s]"
     ]
    },
    {
     "name": "stdout",
     "output_type": "stream",
     "text": [
      "[0.4581019 0.5418981]\n",
      "Image 1380.jpg is good, writing to good directory\n",
      "[0.99342513 0.00657488]\n",
      "Image 1381.jpg is bad, writing to bad directory\n",
      "[0.7346813  0.26531872]\n",
      "Image 1382.jpg is bad, writing to bad directory\n",
      "[0.2859311  0.71406883]\n",
      "Image 1383.jpg is good, writing to good directory\n",
      "[0.5280519 0.4719481]\n",
      "Image 1384.jpg is bad, writing to bad directory\n",
      "[0.26499063 0.7350094 ]\n",
      "Image 1385.jpg is good, writing to good directory\n",
      "[0.37625933 0.6237406 ]\n",
      "Image 1386.jpg is good, writing to good directory\n",
      "[0.3590459 0.6409541]\n",
      "Image 1387.jpg is good, writing to good directory\n",
      "[0.69786906 0.3021309 ]\n",
      "Image 1388.jpg is bad, writing to bad directory\n",
      "[0.34478173 0.6552183 ]\n",
      "Image 1389.jpg is good, writing to good directory\n",
      "[0.8724859  0.12751406]\n",
      "Image 1390.jpg is bad, writing to bad directory\n",
      "[0.4436265 0.5563735]\n",
      "Image 1391.jpg is good, writing to good directory\n",
      "[0.4931535 0.5068465]\n",
      "Image 1392.jpg is good, writing to good directory\n",
      "[0.111986   0.88801396]\n",
      "Image 1393.jpg is good, writing to good directory\n"
     ]
    },
    {
     "name": "stderr",
     "output_type": "stream",
     "text": [
      " 88%|████████▊ | 1404/1600 [00:21<00:03, 65.24it/s]"
     ]
    },
    {
     "name": "stdout",
     "output_type": "stream",
     "text": [
      "[0.35131434 0.64868563]\n",
      "Image 1394.jpg is good, writing to good directory\n",
      "[0.75559324 0.24440682]\n",
      "Image 1395.jpg is bad, writing to bad directory\n",
      "[0.0992977 0.9007023]\n",
      "Image 1396.jpg is good, writing to good directory\n",
      "[0.15990987 0.8400901 ]\n",
      "Image 1397.jpg is good, writing to good directory\n",
      "[0.34920815 0.6507918 ]\n",
      "Image 1398.jpg is good, writing to good directory\n",
      "[0.5757703  0.42422968]\n",
      "Image 1399.jpg is bad, writing to bad directory\n",
      "[0.20821315 0.79178685]\n",
      "Image 1400.jpg is good, writing to good directory\n",
      "[0.25426123 0.74573874]\n",
      "Image 1401.jpg is good, writing to good directory\n",
      "[0.20740263 0.79259735]\n",
      "Image 1402.jpg is good, writing to good directory\n",
      "[0.10566404 0.8943359 ]\n",
      "Image 1403.jpg is good, writing to good directory\n",
      "[0.18087251 0.8191275 ]\n",
      "Image 1404.jpg is good, writing to good directory\n",
      "[0.92836136 0.07163864]\n",
      "Image 1405.jpg is bad, writing to bad directory\n",
      "[0.07741149 0.92258847]\n",
      "Image 1406.jpg is good, writing to good directory\n",
      "[0.7438965  0.25610352]\n",
      "Image 1407.jpg is bad, writing to bad directory\n"
     ]
    },
    {
     "name": "stderr",
     "output_type": "stream",
     "text": [
      " 88%|████████▊ | 1411/1600 [00:22<00:03, 56.51it/s]"
     ]
    },
    {
     "name": "stdout",
     "output_type": "stream",
     "text": [
      "[0.423158 0.576842]\n",
      "Image 1408.jpg is good, writing to good directory\n",
      "[0.13676158 0.8632384 ]\n",
      "Image 1409.jpg is good, writing to good directory\n",
      "[0.10962065 0.89037937]\n",
      "Image 1410.jpg is good, writing to good directory\n",
      "[0.23924242 0.7607576 ]\n",
      "Image 1411.jpg is good, writing to good directory\n",
      "[0.69437146 0.30562854]\n",
      "Image 1412.jpg is bad, writing to bad directory\n",
      "[0.63817203 0.36182797]\n",
      "Image 1413.jpg is bad, writing to bad directory\n",
      "[0.725187 0.274813]\n",
      "Image 1414.jpg is bad, writing to bad directory\n",
      "[0.07507205 0.92492795]\n",
      "Image 1415.jpg is good, writing to good directory\n",
      "[0.20741886 0.7925812 ]\n",
      "Image 1416.jpg is good, writing to good directory\n",
      "[0.09413915 0.9058609 ]\n",
      "Image 1417.jpg is good, writing to good directory\n"
     ]
    },
    {
     "name": "stderr",
     "output_type": "stream",
     "text": [
      " 89%|████████▉ | 1426/1600 [00:22<00:02, 64.15it/s]"
     ]
    },
    {
     "name": "stdout",
     "output_type": "stream",
     "text": [
      "[0.1820444  0.81795555]\n",
      "Image 1418.jpg is good, writing to good directory\n",
      "[0.46568704 0.53431296]\n",
      "Image 1419.jpg is good, writing to good directory\n",
      "[0.24337514 0.7566249 ]\n",
      "Image 1420.jpg is good, writing to good directory\n",
      "[0.2759111  0.72408885]\n",
      "Image 1421.jpg is good, writing to good directory\n",
      "[0.5367847 0.4632153]\n",
      "Image 1422.jpg is bad, writing to bad directory\n",
      "[0.7208926  0.27910733]\n",
      "Image 1423.jpg is bad, writing to bad directory\n",
      "[0.68100077 0.31899923]\n",
      "Image 1424.jpg is bad, writing to bad directory\n",
      "[0.2865942 0.7134057]\n",
      "Image 1425.jpg is good, writing to good directory\n",
      "[0.74838686 0.25161314]\n",
      "Image 1426.jpg is bad, writing to bad directory\n",
      "[0.963176 0.036824]\n",
      "Image 1427.jpg is bad, writing to bad directory\n",
      "[0.14297454 0.85702544]\n",
      "Image 1428.jpg is good, writing to good directory\n",
      "[0.78978574 0.21021426]\n",
      "Image 1429.jpg is bad, writing to bad directory\n",
      "[0.21960692 0.78039306]\n",
      "Image 1430.jpg is good, writing to good directory\n",
      "[0.884994   0.11500611]\n",
      "Image 1431.jpg is bad, writing to bad directory\n",
      "[0.52607024 0.4739297 ]\n",
      "Image 1432.jpg is bad, writing to bad directory\n"
     ]
    },
    {
     "name": "stderr",
     "output_type": "stream",
     "text": [
      " 90%|█████████ | 1442/1600 [00:22<00:02, 69.30it/s]"
     ]
    },
    {
     "name": "stdout",
     "output_type": "stream",
     "text": [
      "[0.9969151  0.00308487]\n",
      "Image 1433.jpg is bad, writing to bad directory\n",
      "[0.71062905 0.28937092]\n",
      "Image 1434.jpg is bad, writing to bad directory\n",
      "[0.97167295 0.02832704]\n",
      "Image 1435.jpg is bad, writing to bad directory\n",
      "[0.4135324 0.5864676]\n",
      "Image 1436.jpg is good, writing to good directory\n",
      "[0.9017301  0.09826985]\n",
      "Image 1437.jpg is bad, writing to bad directory\n",
      "[0.22754748 0.77245253]\n",
      "Image 1438.jpg is good, writing to good directory\n",
      "[0.26049396 0.73950607]\n",
      "Image 1439.jpg is good, writing to good directory\n",
      "[0.14105895 0.858941  ]\n",
      "Image 1440.jpg is good, writing to good directory\n",
      "[0.1082729 0.8917271]\n",
      "Image 1441.jpg is good, writing to good directory\n",
      "[0.17940453 0.8205955 ]\n",
      "Image 1442.jpg is good, writing to good directory\n",
      "[0.02976863 0.9702314 ]\n",
      "Image 1443.jpg is good, writing to good directory\n",
      "[0.15727273 0.8427273 ]\n",
      "Image 1444.jpg is good, writing to good directory\n",
      "[0.5693728  0.43062726]\n",
      "Image 1445.jpg is bad, writing to bad directory\n",
      "[0.5923335  0.40766653]\n",
      "Image 1446.jpg is bad, writing to bad directory\n",
      "[0.9970209  0.00297908]\n",
      "Image 1447.jpg is bad, writing to bad directory\n"
     ]
    },
    {
     "name": "stderr",
     "output_type": "stream",
     "text": [
      " 91%|█████████ | 1450/1600 [00:22<00:02, 70.51it/s]"
     ]
    },
    {
     "name": "stdout",
     "output_type": "stream",
     "text": [
      "[0.6601052 0.3398948]\n",
      "Image 1448.jpg is bad, writing to bad directory\n",
      "[0.8009955  0.19900447]\n",
      "Image 1449.jpg is bad, writing to bad directory\n",
      "[0.13810599 0.8618941 ]\n",
      "Image 1450.jpg is good, writing to good directory\n",
      "[0.05018092 0.949819  ]\n",
      "Image 1451.jpg is good, writing to good directory\n",
      "[0.48731145 0.5126886 ]\n",
      "Image 1452.jpg is good, writing to good directory\n",
      "[0.5195426 0.4804574]\n",
      "Image 1453.jpg is bad, writing to bad directory\n",
      "[0.7883245  0.21167552]\n",
      "Image 1454.jpg is bad, writing to bad directory\n",
      "[0.2418028 0.7581972]\n",
      "Image 1455.jpg is good, writing to good directory\n"
     ]
    },
    {
     "name": "stderr",
     "output_type": "stream",
     "text": [
      " 92%|█████████▏| 1464/1600 [00:23<00:02, 47.92it/s]"
     ]
    },
    {
     "name": "stdout",
     "output_type": "stream",
     "text": [
      "[0.65884084 0.3411591 ]\n",
      "Image 1456.jpg is bad, writing to bad directory\n",
      "[0.9931116  0.00688842]\n",
      "Image 1457.jpg is bad, writing to bad directory\n",
      "[0.5248402  0.47515982]\n",
      "Image 1458.jpg is bad, writing to bad directory\n",
      "[0.18127769 0.81872237]\n",
      "Image 1459.jpg is good, writing to good directory\n",
      "[0.20154299 0.798457  ]\n",
      "Image 1460.jpg is good, writing to good directory\n",
      "[0.47547507 0.5245249 ]\n",
      "Image 1461.jpg is good, writing to good directory\n",
      "[0.66371745 0.33628252]\n",
      "Image 1462.jpg is bad, writing to bad directory\n",
      "[0.04825754 0.95174253]\n",
      "Image 1463.jpg is good, writing to good directory\n",
      "[0.53884006 0.4611599 ]\n",
      "Image 1464.jpg is bad, writing to bad directory\n",
      "[0.03081345 0.96918654]\n",
      "Image 1465.jpg is good, writing to good directory\n",
      "[0.7330736  0.26692638]\n",
      "Image 1466.jpg is bad, writing to bad directory\n",
      "[0.21388532 0.7861147 ]\n",
      "Image 1467.jpg is good, writing to good directory\n"
     ]
    },
    {
     "name": "stderr",
     "output_type": "stream",
     "text": [
      " 92%|█████████▏| 1476/1600 [00:23<00:02, 47.63it/s]"
     ]
    },
    {
     "name": "stdout",
     "output_type": "stream",
     "text": [
      "[0.7908873 0.2091127]\n",
      "Image 1468.jpg is bad, writing to bad directory\n",
      "[0.04652648 0.95347357]\n",
      "Image 1469.jpg is good, writing to good directory\n",
      "[0.44005373 0.5599463 ]\n",
      "Image 1470.jpg is good, writing to good directory\n",
      "[0.98014414 0.01985586]\n",
      "Image 1471.jpg is bad, writing to bad directory\n",
      "[0.44495285 0.5550472 ]\n",
      "Image 1472.jpg is good, writing to good directory\n",
      "[0.6965685 0.3034315]\n",
      "Image 1473.jpg is bad, writing to bad directory\n",
      "[0.3505424  0.64945763]\n",
      "Image 1474.jpg is good, writing to good directory\n",
      "[0.03981563 0.96018434]\n",
      "Image 1475.jpg is good, writing to good directory\n",
      "[0.04219422 0.9578058 ]\n",
      "Image 1476.jpg is good, writing to good directory\n"
     ]
    },
    {
     "name": "stderr",
     "output_type": "stream",
     "text": [
      " 93%|█████████▎| 1482/1600 [00:23<00:02, 47.73it/s]"
     ]
    },
    {
     "name": "stdout",
     "output_type": "stream",
     "text": [
      "[0.87016517 0.12983479]\n",
      "Image 1477.jpg is bad, writing to bad directory\n",
      "[0.85207754 0.14792246]\n",
      "Image 1478.jpg is bad, writing to bad directory\n",
      "[0.24036035 0.7596397 ]\n",
      "Image 1479.jpg is good, writing to good directory\n",
      "[0.36541232 0.63458765]\n",
      "Image 1480.jpg is good, writing to good directory\n",
      "[0.48541164 0.51458836]\n",
      "Image 1481.jpg is good, writing to good directory\n",
      "[0.30167168 0.6983283 ]\n",
      "Image 1482.jpg is good, writing to good directory\n",
      "[0.9012497  0.09875026]\n",
      "Image 1483.jpg is bad, writing to bad directory\n",
      "[0.5922865  0.40771347]\n",
      "Image 1484.jpg is bad, writing to bad directory\n",
      "[0.993272   0.00672804]\n",
      "Image 1485.jpg is bad, writing to bad directory\n",
      "[0.31959552 0.6804045 ]\n",
      "Image 1486.jpg is good, writing to good directory\n",
      "[0.12552397 0.874476  ]\n",
      "Image 1487.jpg is good, writing to good directory\n"
     ]
    },
    {
     "name": "stderr",
     "output_type": "stream",
     "text": [
      " 93%|█████████▎| 1494/1600 [00:23<00:02, 50.02it/s]"
     ]
    },
    {
     "name": "stdout",
     "output_type": "stream",
     "text": [
      "[0.74306315 0.25693688]\n",
      "Image 1488.jpg is bad, writing to bad directory\n",
      "[0.32935277 0.6706472 ]\n",
      "Image 1489.jpg is good, writing to good directory\n",
      "[0.35220674 0.6477933 ]\n",
      "Image 1490.jpg is good, writing to good directory\n",
      "[0.8520419  0.14795813]\n",
      "Image 1491.jpg is bad, writing to bad directory\n",
      "[0.85090035 0.14909966]\n",
      "Image 1492.jpg is bad, writing to bad directory\n",
      "[0.10523251 0.89476746]\n",
      "Image 1493.jpg is good, writing to good directory\n",
      "[0.5445965 0.4554035]\n",
      "Image 1494.jpg is bad, writing to bad directory\n",
      "[0.8382254 0.1617746]\n",
      "Image 1495.jpg is bad, writing to bad directory\n",
      "[0.67836267 0.32163736]\n",
      "Image 1496.jpg is bad, writing to bad directory\n",
      "[0.801424 0.198576]\n",
      "Image 1497.jpg is bad, writing to bad directory\n",
      "[0.5444038 0.4555962]\n",
      "Image 1498.jpg is bad, writing to bad directory\n",
      "[0.52301776 0.47698224]\n",
      "Image 1499.jpg is bad, writing to bad directory\n"
     ]
    },
    {
     "name": "stderr",
     "output_type": "stream",
     "text": [
      " 94%|█████████▍| 1507/1600 [00:23<00:01, 54.03it/s]"
     ]
    },
    {
     "name": "stdout",
     "output_type": "stream",
     "text": [
      "[0.8038133  0.19618672]\n",
      "Image 1500.jpg is bad, writing to bad directory\n",
      "[0.97621083 0.02378914]\n",
      "Image 1501.jpg is bad, writing to bad directory\n",
      "[0.197965 0.802035]\n",
      "Image 1502.jpg is good, writing to good directory\n",
      "[0.34662345 0.6533766 ]\n",
      "Image 1503.jpg is good, writing to good directory\n",
      "[0.16179274 0.83820724]\n",
      "Image 1504.jpg is good, writing to good directory\n",
      "[0.10092877 0.8990712 ]\n",
      "Image 1505.jpg is good, writing to good directory\n",
      "[0.14602739 0.8539726 ]\n",
      "Image 1506.jpg is good, writing to good directory\n",
      "[0.9241416  0.07585838]\n",
      "Image 1507.jpg is bad, writing to bad directory\n",
      "[0.18813898 0.81186104]\n",
      "Image 1508.jpg is good, writing to good directory\n",
      "[0.90389603 0.096104  ]\n",
      "Image 1509.jpg is bad, writing to bad directory\n",
      "[0.6239922  0.37600777]\n",
      "Image 1510.jpg is bad, writing to bad directory\n",
      "[0.0914677 0.9085323]\n",
      "Image 1511.jpg is good, writing to good directory\n",
      "[0.225829 0.774171]\n",
      "Image 1512.jpg is good, writing to good directory\n",
      "[0.0738941 0.9261059]\n",
      "Image 1513.jpg is good, writing to good directory\n"
     ]
    },
    {
     "name": "stderr",
     "output_type": "stream",
     "text": [
      " 95%|█████████▌| 1523/1600 [00:24<00:01, 63.97it/s]"
     ]
    },
    {
     "name": "stdout",
     "output_type": "stream",
     "text": [
      "[0.08251201 0.917488  ]\n",
      "Image 1514.jpg is good, writing to good directory\n",
      "[0.76585937 0.2341406 ]\n",
      "Image 1515.jpg is bad, writing to bad directory\n",
      "[0.30319726 0.69680274]\n",
      "Image 1516.jpg is good, writing to good directory\n",
      "[0.80299985 0.19700013]\n",
      "Image 1517.jpg is bad, writing to bad directory\n",
      "[0.02911597 0.970884  ]\n",
      "Image 1518.jpg is good, writing to good directory\n",
      "[0.40934193 0.59065807]\n",
      "Image 1519.jpg is good, writing to good directory\n",
      "[0.76449627 0.23550373]\n",
      "Image 1520.jpg is bad, writing to bad directory\n",
      "[0.5027635 0.4972365]\n",
      "Image 1521.jpg is bad, writing to bad directory\n",
      "[0.22871034 0.77128965]\n",
      "Image 1522.jpg is good, writing to good directory\n",
      "[0.44651866 0.5534814 ]\n",
      "Image 1523.jpg is good, writing to good directory\n",
      "[0.65170705 0.3482929 ]\n",
      "Image 1524.jpg is bad, writing to bad directory\n",
      "[0.7628106  0.23718943]\n",
      "Image 1525.jpg is bad, writing to bad directory\n",
      "[0.17576201 0.824238  ]\n",
      "Image 1526.jpg is good, writing to good directory\n",
      "[0.03603106 0.96396893]\n",
      "Image 1527.jpg is good, writing to good directory\n",
      "[0.39914683 0.60085315]\n",
      "Image 1528.jpg is good, writing to good directory\n"
     ]
    },
    {
     "name": "stderr",
     "output_type": "stream",
     "text": [
      " 96%|█████████▌| 1538/1600 [00:24<00:01, 57.97it/s]"
     ]
    },
    {
     "name": "stdout",
     "output_type": "stream",
     "text": [
      "[0.6978155  0.30218455]\n",
      "Image 1529.jpg is bad, writing to bad directory\n",
      "[0.501549 0.498451]\n",
      "Image 1530.jpg is bad, writing to bad directory\n",
      "[0.19633815 0.8036619 ]\n",
      "Image 1531.jpg is good, writing to good directory\n",
      "[0.33248463 0.66751534]\n",
      "Image 1532.jpg is good, writing to good directory\n",
      "[0.5353368  0.46466315]\n",
      "Image 1533.jpg is bad, writing to bad directory\n",
      "[0.27155146 0.72844857]\n",
      "Image 1534.jpg is good, writing to good directory\n",
      "[0.06913941 0.9308605 ]\n",
      "Image 1535.jpg is good, writing to good directory\n",
      "[0.4465755  0.55342454]\n",
      "Image 1536.jpg is good, writing to good directory\n",
      "[0.1463604 0.8536396]\n",
      "Image 1537.jpg is good, writing to good directory\n",
      "[0.46636894 0.5336311 ]\n",
      "Image 1538.jpg is good, writing to good directory\n",
      "[0.01639981 0.98360026]\n",
      "Image 1539.jpg is good, writing to good directory\n"
     ]
    },
    {
     "name": "stderr",
     "output_type": "stream",
     "text": [
      " 97%|█████████▋| 1552/1600 [00:24<00:00, 62.85it/s]"
     ]
    },
    {
     "name": "stdout",
     "output_type": "stream",
     "text": [
      "[0.16104329 0.8389567 ]\n",
      "Image 1540.jpg is good, writing to good directory\n",
      "[0.17804097 0.821959  ]\n",
      "Image 1541.jpg is good, writing to good directory\n",
      "[0.49274963 0.50725037]\n",
      "Image 1542.jpg is good, writing to good directory\n",
      "[0.7850324  0.21496764]\n",
      "Image 1543.jpg is bad, writing to bad directory\n",
      "[0.32609603 0.67390394]\n",
      "Image 1544.jpg is good, writing to good directory\n",
      "[0.34098622 0.6590138 ]\n",
      "Image 1545.jpg is good, writing to good directory\n",
      "[0.08852404 0.911476  ]\n",
      "Image 1546.jpg is good, writing to good directory\n",
      "[0.9120825  0.08791748]\n",
      "Image 1547.jpg is bad, writing to bad directory\n",
      "[0.8586262  0.14137381]\n",
      "Image 1548.jpg is bad, writing to bad directory\n",
      "[0.16027635 0.8397236 ]\n",
      "Image 1549.jpg is good, writing to good directory\n",
      "[0.3399771 0.660023 ]\n",
      "Image 1550.jpg is good, writing to good directory\n",
      "[0.8688008  0.13119917]\n",
      "Image 1551.jpg is bad, writing to bad directory\n",
      "[0.24667954 0.75332046]\n",
      "Image 1552.jpg is good, writing to good directory\n",
      "[0.9841636  0.01583642]\n",
      "Image 1553.jpg is bad, writing to bad directory\n",
      "[0.20794593 0.79205406]\n",
      "Image 1554.jpg is good, writing to good directory\n"
     ]
    },
    {
     "name": "stderr",
     "output_type": "stream",
     "text": [
      " 98%|█████████▊| 1567/1600 [00:24<00:00, 66.17it/s]"
     ]
    },
    {
     "name": "stdout",
     "output_type": "stream",
     "text": [
      "[0.8245393  0.17546073]\n",
      "Image 1555.jpg is bad, writing to bad directory\n",
      "[0.79790324 0.20209675]\n",
      "Image 1556.jpg is bad, writing to bad directory\n",
      "[0.22458708 0.7754129 ]\n",
      "Image 1557.jpg is good, writing to good directory\n",
      "[0.21358651 0.7864135 ]\n",
      "Image 1558.jpg is good, writing to good directory\n",
      "[0.31764    0.68236005]\n",
      "Image 1559.jpg is good, writing to good directory\n",
      "[0.81604224 0.18395774]\n",
      "Image 1560.jpg is bad, writing to bad directory\n",
      "[0.14541969 0.8545803 ]\n",
      "Image 1561.jpg is good, writing to good directory\n",
      "[0.18353775 0.8164623 ]\n",
      "Image 1562.jpg is good, writing to good directory\n",
      "[0.76432246 0.23567753]\n",
      "Image 1563.jpg is bad, writing to bad directory\n",
      "[0.01131165 0.9886883 ]\n",
      "Image 1564.jpg is good, writing to good directory\n",
      "[0.22353663 0.7764633 ]\n",
      "Image 1565.jpg is good, writing to good directory\n",
      "[0.71640486 0.2835951 ]\n",
      "Image 1566.jpg is bad, writing to bad directory\n",
      "[0.837561   0.16243903]\n",
      "Image 1567.jpg is bad, writing to bad directory\n",
      "[0.22413322 0.7758668 ]\n",
      "Image 1568.jpg is good, writing to good directory\n",
      "[0.10134952 0.8986505 ]\n",
      "Image 1569.jpg is good, writing to good directory\n"
     ]
    },
    {
     "name": "stderr",
     "output_type": "stream",
     "text": [
      " 99%|█████████▉| 1581/1600 [00:25<00:00, 66.01it/s]"
     ]
    },
    {
     "name": "stdout",
     "output_type": "stream",
     "text": [
      "[0.34939215 0.6506079 ]\n",
      "Image 1570.jpg is good, writing to good directory\n",
      "[0.96651655 0.03348337]\n",
      "Image 1571.jpg is bad, writing to bad directory\n",
      "[0.45360667 0.5463934 ]\n",
      "Image 1572.jpg is good, writing to good directory\n",
      "[0.26591444 0.73408556]\n",
      "Image 1573.jpg is good, writing to good directory\n",
      "[0.27182457 0.72817546]\n",
      "Image 1574.jpg is good, writing to good directory\n",
      "[0.05376116 0.9462389 ]\n",
      "Image 1575.jpg is good, writing to good directory\n",
      "[0.10716131 0.8928387 ]\n",
      "Image 1576.jpg is good, writing to good directory\n",
      "[0.50923264 0.49076736]\n",
      "Image 1577.jpg is bad, writing to bad directory\n",
      "[0.40729243 0.5927076 ]\n",
      "Image 1578.jpg is good, writing to good directory\n",
      "[0.7777281  0.22227187]\n",
      "Image 1579.jpg is bad, writing to bad directory\n",
      "[0.38109255 0.61890745]\n",
      "Image 1580.jpg is good, writing to good directory\n",
      "[0.32153538 0.6784646 ]\n",
      "Image 1581.jpg is good, writing to good directory\n",
      "[0.12362985 0.87637013]\n",
      "Image 1582.jpg is good, writing to good directory\n",
      "[0.2011638  0.79883623]\n",
      "Image 1583.jpg is good, writing to good directory\n"
     ]
    },
    {
     "name": "stderr",
     "output_type": "stream",
     "text": [
      "100%|█████████▉| 1596/1600 [00:25<00:00, 68.54it/s]"
     ]
    },
    {
     "name": "stdout",
     "output_type": "stream",
     "text": [
      "[0.54624236 0.45375764]\n",
      "Image 1584.jpg is bad, writing to bad directory\n",
      "[0.27150252 0.7284975 ]\n",
      "Image 1585.jpg is good, writing to good directory\n",
      "[0.2265883 0.7734117]\n",
      "Image 1586.jpg is good, writing to good directory\n",
      "[0.6055095 0.3944905]\n",
      "Image 1587.jpg is bad, writing to bad directory\n",
      "[0.424228  0.5757719]\n",
      "Image 1588.jpg is good, writing to good directory\n",
      "[0.19737473 0.80262524]\n",
      "Image 1589.jpg is good, writing to good directory\n",
      "[0.3402112 0.6597888]\n",
      "Image 1590.jpg is good, writing to good directory\n",
      "[0.67998123 0.3200188 ]\n",
      "Image 1591.jpg is bad, writing to bad directory\n",
      "[0.31437072 0.68562925]\n",
      "Image 1592.jpg is good, writing to good directory\n",
      "[0.95878464 0.04121533]\n",
      "Image 1593.jpg is bad, writing to bad directory\n",
      "[0.510056 0.489944]\n",
      "Image 1594.jpg is bad, writing to bad directory\n",
      "[0.4239036 0.5760964]\n",
      "Image 1595.jpg is good, writing to good directory\n",
      "[0.82564485 0.17435516]\n",
      "Image 1596.jpg is bad, writing to bad directory\n",
      "[0.917412   0.08258802]\n",
      "Image 1597.jpg is bad, writing to bad directory\n",
      "[0.75060743 0.24939257]\n",
      "Image 1598.jpg is bad, writing to bad directory\n"
     ]
    },
    {
     "name": "stderr",
     "output_type": "stream",
     "text": [
      "100%|██████████| 1600/1600 [00:25<00:00, 63.29it/s]"
     ]
    },
    {
     "name": "stdout",
     "output_type": "stream",
     "text": [
      "[0.7246335  0.27536646]\n",
      "Image 1599.jpg is bad, writing to bad directory\n"
     ]
    },
    {
     "name": "stderr",
     "output_type": "stream",
     "text": [
      "\n"
     ]
    }
   ],
   "source": [
    "for file in tqdm(sorted_files):\n",
    "    original_image, image_tensor = preprocess_image(\"sort_images/\" + file, transform_operation) # determined earlier in the code\n",
    "    probabilities = predict(model, image_tensor, device)\n",
    "    print(probabilities)\n",
    "    \n",
    "    if probabilities[1] > probabilities[0]:\n",
    "        print(f\"Image {file} is good, writing to good directory\")\n",
    "        original_image.save(f'results/good/{file}')\n",
    "    else:\n",
    "        print(f\"Image {file} is bad, writing to bad directory\")\n",
    "        # original_image.save(f'results/bad/{file}')"
   ]
  }
 ],
 "metadata": {
  "kernelspec": {
   "display_name": "classifier",
   "language": "python",
   "name": "python3"
  },
  "language_info": {
   "codemirror_mode": {
    "name": "ipython",
    "version": 3
   },
   "file_extension": ".py",
   "mimetype": "text/x-python",
   "name": "python",
   "nbconvert_exporter": "python",
   "pygments_lexer": "ipython3",
   "version": "3.12.2"
  }
 },
 "nbformat": 4,
 "nbformat_minor": 2
}
